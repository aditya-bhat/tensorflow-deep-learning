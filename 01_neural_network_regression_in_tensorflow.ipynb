{
  "nbformat": 4,
  "nbformat_minor": 0,
  "metadata": {
    "colab": {
      "name": "01_neural_network_regression_in_tensorflow.ipynb",
      "provenance": [],
      "collapsed_sections": [],
      "toc_visible": true
    },
    "kernelspec": {
      "name": "python3",
      "display_name": "Python 3"
    }
  },
  "cells": [
    {
      "cell_type": "markdown",
      "metadata": {
        "id": "nKarSre47Ahv"
      },
      "source": [
        "# Introduction to Regression with Neural Networks in TensorFlow\n",
        "\n",
        "There are many definitions for a regression problem but in our case, we're going to simplify it: predicting a numerical variable based on some other combination of variables, even shorter... predicting a number.\n",
        "\n",
        "See full course materials on GitHub: https://github.com/mrdbourke/tensorflow-deep-learning/"
      ]
    },
    {
      "cell_type": "code",
      "metadata": {
        "colab": {
          "base_uri": "https://localhost:8080/"
        },
        "id": "3u8MsQmV7hDo",
        "outputId": "6625b989-212d-425e-bbfb-809553dda586"
      },
      "source": [
        "# Import TensorFlow\n",
        "import tensorflow as tf\n",
        "print(tf.__version__)"
      ],
      "execution_count": 1,
      "outputs": [
        {
          "output_type": "stream",
          "text": [
            "2.4.1\n"
          ],
          "name": "stdout"
        }
      ]
    },
    {
      "cell_type": "markdown",
      "metadata": {
        "id": "IalXU1QB7spg"
      },
      "source": [
        "## Creating data to view and fit"
      ]
    },
    {
      "cell_type": "code",
      "metadata": {
        "colab": {
          "base_uri": "https://localhost:8080/",
          "height": 269
        },
        "id": "YQZbzH4O70xl",
        "outputId": "5fb93606-ea25-49d2-e629-9a087a64e400"
      },
      "source": [
        "import numpy as np\n",
        "import matplotlib.pyplot as plt\n",
        "\n",
        "# Create features\n",
        "X = np.array([-7.0, -4.0, -1.0, 2.0, 5.0, 8.0, 11.0, 14.0])\n",
        "\n",
        "# Create labels\n",
        "y = np.array([3.0, 6.0, 9.0, 12.0, 15.0, 18.0, 21.0, 24.0])\n",
        "\n",
        "# Visualize it\n",
        "plt.scatter(X, y);"
      ],
      "execution_count": 2,
      "outputs": [
        {
          "output_type": "display_data",
          "data": {
            "image/png": "[encoded data removed]",
            "text/plain": [
              "<Figure size 432x288 with 1 Axes>"
            ]
          },
          "metadata": {
            "tags": [],
            "needs_background": "light"
          }
        }
      ]
    },
    {
      "cell_type": "code",
      "metadata": {
        "colab": {
          "base_uri": "https://localhost:8080/"
        },
        "id": "clux4ncl8TJ8",
        "outputId": "51860c4c-a0c3-44c2-efeb-a08c1d2333a3"
      },
      "source": [
        "y == X + 10"
      ],
      "execution_count": 3,
      "outputs": [
        {
          "output_type": "execute_result",
          "data": {
            "text/plain": [
              "array([ True,  True,  True,  True,  True,  True,  True,  True])"
            ]
          },
          "metadata": {
            "tags": []
          },
          "execution_count": 3
        }
      ]
    },
    {
      "cell_type": "markdown",
      "metadata": {
        "id": "KWmKUOWc8mdz"
      },
      "source": [
        "## Input and output shapes"
      ]
    },
    {
      "cell_type": "code",
      "metadata": {
        "colab": {
          "base_uri": "https://localhost:8080/"
        },
        "id": "zmEIIElh8x1Z",
        "outputId": "956610ce-8dab-4792-bf53-e326b9034ffb"
      },
      "source": [
        "# Create a demo tensor for our housing price prediction problem\n",
        "house_info = tf.constant([\"bedroom\", \"bathroom\", \"garage\"])\n",
        "house_price = tf.constant([939700])\n",
        "house_info, house_price"
      ],
      "execution_count": 4,
      "outputs": [
        {
          "output_type": "execute_result",
          "data": {
            "text/plain": [
              "(<tf.Tensor: shape=(3,), dtype=string, numpy=array([b'bedroom', b'bathroom', b'garage'], dtype=object)>,\n",
              " <tf.Tensor: shape=(1,), dtype=int32, numpy=array([939700], dtype=int32)>)"
            ]
          },
          "metadata": {
            "tags": []
          },
          "execution_count": 4
        }
      ]
    },
    {
      "cell_type": "code",
      "metadata": {
        "colab": {
          "base_uri": "https://localhost:8080/"
        },
        "id": "DExhPoos9gZF",
        "outputId": "e5ee9381-f3bd-4957-b557-189d38dc8524"
      },
      "source": [
        "X[0], y[0]"
      ],
      "execution_count": 5,
      "outputs": [
        {
          "output_type": "execute_result",
          "data": {
            "text/plain": [
              "(-7.0, 3.0)"
            ]
          },
          "metadata": {
            "tags": []
          },
          "execution_count": 5
        }
      ]
    },
    {
      "cell_type": "code",
      "metadata": {
        "colab": {
          "base_uri": "https://localhost:8080/"
        },
        "id": "Nq-Pb-Z69jxp",
        "outputId": "935c0107-d012-49d3-bd8d-d7a6e907a9f8"
      },
      "source": [
        "X[1], y[1]"
      ],
      "execution_count": 6,
      "outputs": [
        {
          "output_type": "execute_result",
          "data": {
            "text/plain": [
              "(-4.0, 6.0)"
            ]
          },
          "metadata": {
            "tags": []
          },
          "execution_count": 6
        }
      ]
    },
    {
      "cell_type": "code",
      "metadata": {
        "colab": {
          "base_uri": "https://localhost:8080/"
        },
        "id": "m-20V_X69OE0",
        "outputId": "be327950-a5e3-4944-83e6-cfb88ee41f3c"
      },
      "source": [
        "input_shape = X[0].shape\n",
        "output_shape = y[0].shape\n",
        "input_shape, output_shape"
      ],
      "execution_count": 7,
      "outputs": [
        {
          "output_type": "execute_result",
          "data": {
            "text/plain": [
              "((), ())"
            ]
          },
          "metadata": {
            "tags": []
          },
          "execution_count": 7
        }
      ]
    },
    {
      "cell_type": "code",
      "metadata": {
        "colab": {
          "base_uri": "https://localhost:8080/"
        },
        "id": "UaOI4HU19bBJ",
        "outputId": "39d5d3aa-6fa5-485c-9166-0ad1d43b4d0b"
      },
      "source": [
        "X[0].ndim"
      ],
      "execution_count": 8,
      "outputs": [
        {
          "output_type": "execute_result",
          "data": {
            "text/plain": [
              "0"
            ]
          },
          "metadata": {
            "tags": []
          },
          "execution_count": 8
        }
      ]
    },
    {
      "cell_type": "code",
      "metadata": {
        "colab": {
          "base_uri": "https://localhost:8080/"
        },
        "id": "iYHpBCXQ93xD",
        "outputId": "d27501cd-7940-4a85-87e0-c60a218ad7aa"
      },
      "source": [
        "X[0], y[0]"
      ],
      "execution_count": 9,
      "outputs": [
        {
          "output_type": "execute_result",
          "data": {
            "text/plain": [
              "(-7.0, 3.0)"
            ]
          },
          "metadata": {
            "tags": []
          },
          "execution_count": 9
        }
      ]
    },
    {
      "cell_type": "code",
      "metadata": {
        "colab": {
          "base_uri": "https://localhost:8080/"
        },
        "id": "CXXzG3aR97i7",
        "outputId": "95cf88b9-9156-42a0-8b86-c6321b7abf8b"
      },
      "source": [
        "# Turn our NumPy arrays into tensors with dtype float32\n",
        "X = tf.cast(tf.constant(X), dtype=tf.float32)\n",
        "y = tf.cast(tf.constant(y), dtype=tf.float32)\n",
        "X, y"
      ],
      "execution_count": 10,
      "outputs": [
        {
          "output_type": "execute_result",
          "data": {
            "text/plain": [
              "(<tf.Tensor: shape=(8,), dtype=float32, numpy=array([-7., -4., -1.,  2.,  5.,  8., 11., 14.], dtype=float32)>,\n",
              " <tf.Tensor: shape=(8,), dtype=float32, numpy=array([ 3.,  6.,  9., 12., 15., 18., 21., 24.], dtype=float32)>)"
            ]
          },
          "metadata": {
            "tags": []
          },
          "execution_count": 10
        }
      ]
    },
    {
      "cell_type": "code",
      "metadata": {
        "colab": {
          "base_uri": "https://localhost:8080/"
        },
        "id": "bTUb3n6d_FrY",
        "outputId": "0b5dd7e2-605b-4785-bb43-f5b6e82a5ca8"
      },
      "source": [
        "input_shape = X[0].shape\n",
        "output_shape = y[0].shape\n",
        "input_shape, output_shape"
      ],
      "execution_count": 11,
      "outputs": [
        {
          "output_type": "execute_result",
          "data": {
            "text/plain": [
              "(TensorShape([]), TensorShape([]))"
            ]
          },
          "metadata": {
            "tags": []
          },
          "execution_count": 11
        }
      ]
    },
    {
      "cell_type": "code",
      "metadata": {
        "colab": {
          "base_uri": "https://localhost:8080/",
          "height": 286
        },
        "id": "NUB3rlwu_OZ5",
        "outputId": "989f507c-d148-4e71-eaf1-8019872718b1"
      },
      "source": [
        "plt.scatter(X, y)"
      ],
      "execution_count": 12,
      "outputs": [
        {
          "output_type": "execute_result",
          "data": {
            "text/plain": [
              "<matplotlib.collections.PathCollection at 0x7fb0109965d0>"
            ]
          },
          "metadata": {
            "tags": []
          },
          "execution_count": 12
        },
        {
          "output_type": "display_data",
          "data": {
            "image/png": "[encoded data removed]",
            "text/plain": [
              "<Figure size 432x288 with 1 Axes>"
            ]
          },
          "metadata": {
            "tags": [],
            "needs_background": "light"
          }
        }
      ]
    },
    {
      "cell_type": "markdown",
      "metadata": {
        "id": "mu0RYMXr_VC-"
      },
      "source": [
        "## Steps in modelling with TensorFlow\n",
        "\n",
        "1. **Creating a model** - define the input and output layers, as well as the hidden layers of a deep learning model.\n",
        "2. **Compiling a model** - define the loss funtion (in other words, the function which tells our model how wrong it is) and the optimizer (tells our model how to improve the patterns its learning) and evaluation metrics (what we can use to interpret the performance of our model).\n",
        "3. Fitting a model - letting the model try to find patterns between X & y (features and labels)."
      ]
    },
    {
      "cell_type": "code",
      "metadata": {
        "colab": {
          "base_uri": "https://localhost:8080/"
        },
        "id": "V9k5wWQe_aU3",
        "outputId": "3fd5277f-9f4c-499a-e31a-105408c8ffec"
      },
      "source": [
        "# Set random seed\n",
        "tf.random.set_seed(42)\n",
        "\n",
        "# 1. Create a model using the Sequential API\n",
        "model = tf.keras.Sequential([\n",
        "  tf.keras.layers.Dense(1)\n",
        "])\n",
        "\n",
        "# 2. Compile the model\n",
        "model.compile(loss=tf.keras.losses.mae, # mae is short for mean absolute error\n",
        "              optimizer=tf.keras.optimizers.SGD(), # sgd is short for stochasitc gradient descent\n",
        "              metrics=[\"mae\"])\n",
        "\n",
        "# 3. Fit the model\n",
        "model.fit(X, y, epochs=5)"
      ],
      "execution_count": 13,
      "outputs": [
        {
          "output_type": "stream",
          "text": [
            "Epoch 1/5\n",
            "1/1 [==============================] - 0s 487ms/step - loss: 11.5048 - mae: 11.5048\n",
            "Epoch 2/5\n",
            "1/1 [==============================] - 0s 3ms/step - loss: 11.3723 - mae: 11.3723\n",
            "Epoch 3/5\n",
            "1/1 [==============================] - 0s 3ms/step - loss: 11.2398 - mae: 11.2398\n",
            "Epoch 4/5\n",
            "1/1 [==============================] - 0s 5ms/step - loss: 11.1073 - mae: 11.1073\n",
            "Epoch 5/5\n",
            "1/1 [==============================] - 0s 4ms/step - loss: 10.9748 - mae: 10.9748\n"
          ],
          "name": "stdout"
        },
        {
          "output_type": "execute_result",
          "data": {
            "text/plain": [
              "<tensorflow.python.keras.callbacks.History at 0x7fb01464cc50>"
            ]
          },
          "metadata": {
            "tags": []
          },
          "execution_count": 13
        }
      ]
    },
    {
      "cell_type": "code",
      "metadata": {
        "colab": {
          "base_uri": "https://localhost:8080/"
        },
        "id": "sOkNe41hChw-",
        "outputId": "1b4ee514-3cee-4c2f-a035-d1de26cd7f88"
      },
      "source": [
        "# Check out X and y\n",
        "X, y"
      ],
      "execution_count": 14,
      "outputs": [
        {
          "output_type": "execute_result",
          "data": {
            "text/plain": [
              "(<tf.Tensor: shape=(8,), dtype=float32, numpy=array([-7., -4., -1.,  2.,  5.,  8., 11., 14.], dtype=float32)>,\n",
              " <tf.Tensor: shape=(8,), dtype=float32, numpy=array([ 3.,  6.,  9., 12., 15., 18., 21., 24.], dtype=float32)>)"
            ]
          },
          "metadata": {
            "tags": []
          },
          "execution_count": 14
        }
      ]
    },
    {
      "cell_type": "code",
      "metadata": {
        "colab": {
          "base_uri": "https://localhost:8080/"
        },
        "id": "_JBE5S-4DQFj",
        "outputId": "350e9be1-24d4-43ce-a35e-a06ea8d8aee0"
      },
      "source": [
        "# Try and make a prediction using our model\n",
        "y_pred = model.predict([17.0])\n",
        "y_pred"
      ],
      "execution_count": 15,
      "outputs": [
        {
          "output_type": "execute_result",
          "data": {
            "text/plain": [
              "array([[12.716021]], dtype=float32)"
            ]
          },
          "metadata": {
            "tags": []
          },
          "execution_count": 15
        }
      ]
    },
    {
      "cell_type": "code",
      "metadata": {
        "colab": {
          "base_uri": "https://localhost:8080/"
        },
        "id": "HZm0x_e0DdvS",
        "outputId": "97de0c95-3bf8-49e0-b4bd-a25f24c3c7b3"
      },
      "source": [
        "y_pred + 11"
      ],
      "execution_count": 16,
      "outputs": [
        {
          "output_type": "execute_result",
          "data": {
            "text/plain": [
              "array([[23.71602]], dtype=float32)"
            ]
          },
          "metadata": {
            "tags": []
          },
          "execution_count": 16
        }
      ]
    },
    {
      "cell_type": "markdown",
      "metadata": {
        "id": "8RIo2cOiDrHC"
      },
      "source": [
        "## Improving our model\n",
        "\n",
        "We can improve our model, by altering the steps we took to create a model.\n",
        "\n",
        "1. **Creating a model** - here we might add more layers, increase the number of hidden units (all called neurons) within each of the hideen layers, change the activation function of each layer.\n",
        "2. **Compiling a model** - here we might change the optimization function or perhaps the **learning rate** of the optimization function.\n",
        "3. **Fitting a model** - here we might fit a model for more **epochs** (leave it training for longer) or on more data (give the model more examples to learn from)."
      ]
    },
    {
      "cell_type": "code",
      "metadata": {
        "colab": {
          "base_uri": "https://localhost:8080/"
        },
        "id": "Ki4x75jCDwlu",
        "outputId": "aa19d622-f477-479e-9bfa-6c47592eac77"
      },
      "source": [
        "# Let's rebuild our model\n",
        "\n",
        "# 1. Create the model\n",
        "model = tf.keras.Sequential([\n",
        "  tf.keras.layers.Dense(1)\n",
        "])\n",
        "\n",
        "# 2. Compile the model\n",
        "model.compile(loss=tf.keras.losses.mae,\n",
        "              optimizer=tf.keras.optimizers.SGD(),\n",
        "              metrics=[\"mae\"])\n",
        "\n",
        "# 3. Fit the model (this time we'll train for longer)\n",
        "model.fit(X, y, epochs=100)"
      ],
      "execution_count": 17,
      "outputs": [
        {
          "output_type": "stream",
          "text": [
            "Epoch 1/100\n",
            "1/1 [==============================] - 0s 257ms/step - loss: 11.2219 - mae: 11.2219\n",
            "Epoch 2/100\n",
            "1/1 [==============================] - 0s 5ms/step - loss: 11.0894 - mae: 11.0894\n",
            "Epoch 3/100\n",
            "1/1 [==============================] - 0s 4ms/step - loss: 10.9569 - mae: 10.9569\n",
            "Epoch 4/100\n",
            "1/1 [==============================] - 0s 4ms/step - loss: 10.8244 - mae: 10.8244\n",
            "Epoch 5/100\n",
            "1/1 [==============================] - 0s 7ms/step - loss: 10.6919 - mae: 10.6919\n",
            "Epoch 6/100\n",
            "1/1 [==============================] - 0s 4ms/step - loss: 10.5594 - mae: 10.5594\n",
            "Epoch 7/100\n",
            "1/1 [==============================] - 0s 8ms/step - loss: 10.4269 - mae: 10.4269\n",
            "Epoch 8/100\n",
            "1/1 [==============================] - 0s 8ms/step - loss: 10.2944 - mae: 10.2944\n",
            "Epoch 9/100\n",
            "1/1 [==============================] - 0s 7ms/step - loss: 10.1619 - mae: 10.1619\n",
            "Epoch 10/100\n",
            "1/1 [==============================] - 0s 7ms/step - loss: 10.0294 - mae: 10.0294\n",
            "Epoch 11/100\n",
            "1/1 [==============================] - 0s 9ms/step - loss: 9.8969 - mae: 9.8969\n",
            "Epoch 12/100\n",
            "1/1 [==============================] - 0s 6ms/step - loss: 9.7644 - mae: 9.7644\n",
            "Epoch 13/100\n",
            "1/1 [==============================] - 0s 7ms/step - loss: 9.6319 - mae: 9.6319\n",
            "Epoch 14/100\n",
            "1/1 [==============================] - 0s 4ms/step - loss: 9.4994 - mae: 9.4994\n",
            "Epoch 15/100\n",
            "1/1 [==============================] - 0s 7ms/step - loss: 9.3669 - mae: 9.3669\n",
            "Epoch 16/100\n",
            "1/1 [==============================] - 0s 8ms/step - loss: 9.2344 - mae: 9.2344\n",
            "Epoch 17/100\n",
            "1/1 [==============================] - 0s 3ms/step - loss: 9.1019 - mae: 9.1019\n",
            "Epoch 18/100\n",
            "1/1 [==============================] - 0s 4ms/step - loss: 8.9694 - mae: 8.9694\n",
            "Epoch 19/100\n",
            "1/1 [==============================] - 0s 9ms/step - loss: 8.8369 - mae: 8.8369\n",
            "Epoch 20/100\n",
            "1/1 [==============================] - 0s 5ms/step - loss: 8.7044 - mae: 8.7044\n",
            "Epoch 21/100\n",
            "1/1 [==============================] - 0s 5ms/step - loss: 8.5719 - mae: 8.5719\n",
            "Epoch 22/100\n",
            "1/1 [==============================] - 0s 5ms/step - loss: 8.4394 - mae: 8.4394\n",
            "Epoch 23/100\n",
            "1/1 [==============================] - 0s 5ms/step - loss: 8.3069 - mae: 8.3069\n",
            "Epoch 24/100\n",
            "1/1 [==============================] - 0s 4ms/step - loss: 8.1744 - mae: 8.1744\n",
            "Epoch 25/100\n",
            "1/1 [==============================] - 0s 4ms/step - loss: 8.0419 - mae: 8.0419\n",
            "Epoch 26/100\n",
            "1/1 [==============================] - 0s 4ms/step - loss: 7.9094 - mae: 7.9094\n",
            "Epoch 27/100\n",
            "1/1 [==============================] - 0s 5ms/step - loss: 7.7769 - mae: 7.7769\n",
            "Epoch 28/100\n",
            "1/1 [==============================] - 0s 6ms/step - loss: 7.6444 - mae: 7.6444\n",
            "Epoch 29/100\n",
            "1/1 [==============================] - 0s 4ms/step - loss: 7.5119 - mae: 7.5119\n",
            "Epoch 30/100\n",
            "1/1 [==============================] - 0s 8ms/step - loss: 7.3794 - mae: 7.3794\n",
            "Epoch 31/100\n",
            "1/1 [==============================] - 0s 9ms/step - loss: 7.2750 - mae: 7.2750\n",
            "Epoch 32/100\n",
            "1/1 [==============================] - 0s 5ms/step - loss: 7.2694 - mae: 7.2694\n",
            "Epoch 33/100\n",
            "1/1 [==============================] - 0s 6ms/step - loss: 7.2638 - mae: 7.2638\n",
            "Epoch 34/100\n",
            "1/1 [==============================] - 0s 8ms/step - loss: 7.2581 - mae: 7.2581\n",
            "Epoch 35/100\n",
            "1/1 [==============================] - 0s 4ms/step - loss: 7.2525 - mae: 7.2525\n",
            "Epoch 36/100\n",
            "1/1 [==============================] - 0s 5ms/step - loss: 7.2469 - mae: 7.2469\n",
            "Epoch 37/100\n",
            "1/1 [==============================] - 0s 5ms/step - loss: 7.2412 - mae: 7.2412\n",
            "Epoch 38/100\n",
            "1/1 [==============================] - 0s 6ms/step - loss: 7.2356 - mae: 7.2356\n",
            "Epoch 39/100\n",
            "1/1 [==============================] - 0s 6ms/step - loss: 7.2300 - mae: 7.2300\n",
            "Epoch 40/100\n",
            "1/1 [==============================] - 0s 6ms/step - loss: 7.2244 - mae: 7.2244\n",
            "Epoch 41/100\n",
            "1/1 [==============================] - 0s 7ms/step - loss: 7.2188 - mae: 7.2188\n",
            "Epoch 42/100\n",
            "1/1 [==============================] - 0s 6ms/step - loss: 7.2131 - mae: 7.2131\n",
            "Epoch 43/100\n",
            "1/1 [==============================] - 0s 5ms/step - loss: 7.2075 - mae: 7.2075\n",
            "Epoch 44/100\n",
            "1/1 [==============================] - 0s 7ms/step - loss: 7.2019 - mae: 7.2019\n",
            "Epoch 45/100\n",
            "1/1 [==============================] - 0s 17ms/step - loss: 7.1962 - mae: 7.1962\n",
            "Epoch 46/100\n",
            "1/1 [==============================] - 0s 6ms/step - loss: 7.1906 - mae: 7.1906\n",
            "Epoch 47/100\n",
            "1/1 [==============================] - 0s 7ms/step - loss: 7.1850 - mae: 7.1850\n",
            "Epoch 48/100\n",
            "1/1 [==============================] - 0s 6ms/step - loss: 7.1794 - mae: 7.1794\n",
            "Epoch 49/100\n",
            "1/1 [==============================] - 0s 7ms/step - loss: 7.1737 - mae: 7.1737\n",
            "Epoch 50/100\n",
            "1/1 [==============================] - 0s 4ms/step - loss: 7.1681 - mae: 7.1681\n",
            "Epoch 51/100\n",
            "1/1 [==============================] - 0s 8ms/step - loss: 7.1625 - mae: 7.1625\n",
            "Epoch 52/100\n",
            "1/1 [==============================] - 0s 3ms/step - loss: 7.1569 - mae: 7.1569\n",
            "Epoch 53/100\n",
            "1/1 [==============================] - 0s 5ms/step - loss: 7.1512 - mae: 7.1512\n",
            "Epoch 54/100\n",
            "1/1 [==============================] - 0s 6ms/step - loss: 7.1456 - mae: 7.1456\n",
            "Epoch 55/100\n",
            "1/1 [==============================] - 0s 9ms/step - loss: 7.1400 - mae: 7.1400\n",
            "Epoch 56/100\n",
            "1/1 [==============================] - 0s 4ms/step - loss: 7.1344 - mae: 7.1344\n",
            "Epoch 57/100\n",
            "1/1 [==============================] - 0s 4ms/step - loss: 7.1287 - mae: 7.1287\n",
            "Epoch 58/100\n",
            "1/1 [==============================] - 0s 5ms/step - loss: 7.1231 - mae: 7.1231\n",
            "Epoch 59/100\n",
            "1/1 [==============================] - 0s 6ms/step - loss: 7.1175 - mae: 7.1175\n",
            "Epoch 60/100\n",
            "1/1 [==============================] - 0s 6ms/step - loss: 7.1119 - mae: 7.1119\n",
            "Epoch 61/100\n",
            "1/1 [==============================] - 0s 9ms/step - loss: 7.1062 - mae: 7.1062\n",
            "Epoch 62/100\n",
            "1/1 [==============================] - 0s 17ms/step - loss: 7.1006 - mae: 7.1006\n",
            "Epoch 63/100\n",
            "1/1 [==============================] - 0s 9ms/step - loss: 7.0950 - mae: 7.0950\n",
            "Epoch 64/100\n",
            "1/1 [==============================] - 0s 4ms/step - loss: 7.0894 - mae: 7.0894\n",
            "Epoch 65/100\n",
            "1/1 [==============================] - 0s 5ms/step - loss: 7.0838 - mae: 7.0838\n",
            "Epoch 66/100\n",
            "1/1 [==============================] - 0s 8ms/step - loss: 7.0781 - mae: 7.0781\n",
            "Epoch 67/100\n",
            "1/1 [==============================] - 0s 5ms/step - loss: 7.0725 - mae: 7.0725\n",
            "Epoch 68/100\n",
            "1/1 [==============================] - 0s 5ms/step - loss: 7.0669 - mae: 7.0669\n",
            "Epoch 69/100\n",
            "1/1 [==============================] - 0s 6ms/step - loss: 7.0613 - mae: 7.0613\n",
            "Epoch 70/100\n",
            "1/1 [==============================] - 0s 7ms/step - loss: 7.0556 - mae: 7.0556\n",
            "Epoch 71/100\n",
            "1/1 [==============================] - 0s 6ms/step - loss: 7.0500 - mae: 7.0500\n",
            "Epoch 72/100\n",
            "1/1 [==============================] - 0s 8ms/step - loss: 7.0444 - mae: 7.0444\n",
            "Epoch 73/100\n",
            "1/1 [==============================] - 0s 4ms/step - loss: 7.0388 - mae: 7.0388\n",
            "Epoch 74/100\n",
            "1/1 [==============================] - 0s 6ms/step - loss: 7.0331 - mae: 7.0331\n",
            "Epoch 75/100\n",
            "1/1 [==============================] - 0s 5ms/step - loss: 7.0275 - mae: 7.0275\n",
            "Epoch 76/100\n",
            "1/1 [==============================] - 0s 4ms/step - loss: 7.0219 - mae: 7.0219\n",
            "Epoch 77/100\n",
            "1/1 [==============================] - 0s 5ms/step - loss: 7.0163 - mae: 7.0163\n",
            "Epoch 78/100\n",
            "1/1 [==============================] - 0s 8ms/step - loss: 7.0106 - mae: 7.0106\n",
            "Epoch 79/100\n",
            "1/1 [==============================] - 0s 4ms/step - loss: 7.0050 - mae: 7.0050\n",
            "Epoch 80/100\n",
            "1/1 [==============================] - 0s 5ms/step - loss: 6.9994 - mae: 6.9994\n",
            "Epoch 81/100\n",
            "1/1 [==============================] - 0s 6ms/step - loss: 6.9938 - mae: 6.9938\n",
            "Epoch 82/100\n",
            "1/1 [==============================] - 0s 7ms/step - loss: 6.9881 - mae: 6.9881\n",
            "Epoch 83/100\n",
            "1/1 [==============================] - 0s 9ms/step - loss: 6.9825 - mae: 6.9825\n",
            "Epoch 84/100\n",
            "1/1 [==============================] - 0s 4ms/step - loss: 6.9769 - mae: 6.9769\n",
            "Epoch 85/100\n",
            "1/1 [==============================] - 0s 4ms/step - loss: 6.9713 - mae: 6.9713\n",
            "Epoch 86/100\n",
            "1/1 [==============================] - 0s 5ms/step - loss: 6.9656 - mae: 6.9656\n",
            "Epoch 87/100\n",
            "1/1 [==============================] - 0s 5ms/step - loss: 6.9600 - mae: 6.9600\n",
            "Epoch 88/100\n",
            "1/1 [==============================] - 0s 5ms/step - loss: 6.9544 - mae: 6.9544\n",
            "Epoch 89/100\n",
            "1/1 [==============================] - 0s 8ms/step - loss: 6.9488 - mae: 6.9488\n",
            "Epoch 90/100\n",
            "1/1 [==============================] - 0s 6ms/step - loss: 6.9431 - mae: 6.9431\n",
            "Epoch 91/100\n",
            "1/1 [==============================] - 0s 4ms/step - loss: 6.9375 - mae: 6.9375\n",
            "Epoch 92/100\n",
            "1/1 [==============================] - 0s 7ms/step - loss: 6.9319 - mae: 6.9319\n",
            "Epoch 93/100\n",
            "1/1 [==============================] - 0s 4ms/step - loss: 6.9263 - mae: 6.9263\n",
            "Epoch 94/100\n",
            "1/1 [==============================] - 0s 7ms/step - loss: 6.9206 - mae: 6.9206\n",
            "Epoch 95/100\n",
            "1/1 [==============================] - 0s 7ms/step - loss: 6.9150 - mae: 6.9150\n",
            "Epoch 96/100\n",
            "1/1 [==============================] - 0s 5ms/step - loss: 6.9094 - mae: 6.9094\n",
            "Epoch 97/100\n",
            "1/1 [==============================] - 0s 8ms/step - loss: 6.9038 - mae: 6.9038\n",
            "Epoch 98/100\n",
            "1/1 [==============================] - 0s 5ms/step - loss: 6.8981 - mae: 6.8981\n",
            "Epoch 99/100\n",
            "1/1 [==============================] - 0s 4ms/step - loss: 6.8925 - mae: 6.8925\n",
            "Epoch 100/100\n",
            "1/1 [==============================] - 0s 3ms/step - loss: 6.8869 - mae: 6.8869\n"
          ],
          "name": "stdout"
        },
        {
          "output_type": "execute_result",
          "data": {
            "text/plain": [
              "<tensorflow.python.keras.callbacks.History at 0x7fb00d98bfd0>"
            ]
          },
          "metadata": {
            "tags": []
          },
          "execution_count": 17
        }
      ]
    },
    {
      "cell_type": "code",
      "metadata": {
        "colab": {
          "base_uri": "https://localhost:8080/"
        },
        "id": "UMa-jMl6ccRT",
        "outputId": "b6aa1804-03a1-4dcf-fa56-c91d5ec67b7a"
      },
      "source": [
        "# Remind ourselves of the data\n",
        "X, y"
      ],
      "execution_count": 18,
      "outputs": [
        {
          "output_type": "execute_result",
          "data": {
            "text/plain": [
              "(<tf.Tensor: shape=(8,), dtype=float32, numpy=array([-7., -4., -1.,  2.,  5.,  8., 11., 14.], dtype=float32)>,\n",
              " <tf.Tensor: shape=(8,), dtype=float32, numpy=array([ 3.,  6.,  9., 12., 15., 18., 21., 24.], dtype=float32)>)"
            ]
          },
          "metadata": {
            "tags": []
          },
          "execution_count": 18
        }
      ]
    },
    {
      "cell_type": "code",
      "metadata": {
        "colab": {
          "base_uri": "https://localhost:8080/"
        },
        "id": "8_w1g_ZKc0K_",
        "outputId": "008c2d27-12b8-4e8d-c845-a5eed1de88fe"
      },
      "source": [
        "# Let's see if our model's prediction has improved...\n",
        "model.predict([17.0])"
      ],
      "execution_count": 19,
      "outputs": [
        {
          "output_type": "execute_result",
          "data": {
            "text/plain": [
              "array([[29.739855]], dtype=float32)"
            ]
          },
          "metadata": {
            "tags": []
          },
          "execution_count": 19
        }
      ]
    },
    {
      "cell_type": "code",
      "metadata": {
        "colab": {
          "base_uri": "https://localhost:8080/"
        },
        "id": "y8r7_kLzc932",
        "outputId": "84f7bfd0-117c-474d-fb77-135bbb100c87"
      },
      "source": [
        "# Let's see if we can make another to improve our model\n",
        "\n",
        "# 1. Create the model (this time with an extra hidden layer with 100 hidden units)\n",
        "model = tf.keras.Sequential([\n",
        "  tf.keras.layers.Dense(100, activation=None),\n",
        "  tf.keras.layers.Dense(1)\n",
        "])\n",
        "\n",
        "# 2. Compile the model\n",
        "model.compile(loss=\"mae\",\n",
        "              optimizer=tf.keras.optimizers.Adam(lr=0.01),\n",
        "              metrics=[\"mae\"])\n",
        "\n",
        "# 3. Fit the model\n",
        "model.fit(X, y, epochs=100) "
      ],
      "execution_count": 20,
      "outputs": [
        {
          "output_type": "stream",
          "text": [
            "Epoch 1/100\n",
            "1/1 [==============================] - 0s 333ms/step - loss: 12.0109 - mae: 12.0109\n",
            "Epoch 2/100\n",
            "1/1 [==============================] - 0s 4ms/step - loss: 11.0827 - mae: 11.0827\n",
            "Epoch 3/100\n",
            "1/1 [==============================] - 0s 4ms/step - loss: 10.1377 - mae: 10.1377\n",
            "Epoch 4/100\n",
            "1/1 [==============================] - 0s 5ms/step - loss: 9.1687 - mae: 9.1687\n",
            "Epoch 5/100\n",
            "1/1 [==============================] - 0s 5ms/step - loss: 8.1666 - mae: 8.1666\n",
            "Epoch 6/100\n",
            "1/1 [==============================] - 0s 7ms/step - loss: 7.1234 - mae: 7.1234\n",
            "Epoch 7/100\n",
            "1/1 [==============================] - 0s 4ms/step - loss: 7.0477 - mae: 7.0477\n",
            "Epoch 8/100\n",
            "1/1 [==============================] - 0s 8ms/step - loss: 7.4551 - mae: 7.4551\n",
            "Epoch 9/100\n",
            "1/1 [==============================] - 0s 6ms/step - loss: 7.7955 - mae: 7.7955\n",
            "Epoch 10/100\n",
            "1/1 [==============================] - 0s 11ms/step - loss: 7.8032 - mae: 7.8032\n",
            "Epoch 11/100\n",
            "1/1 [==============================] - 0s 5ms/step - loss: 7.5199 - mae: 7.5199\n",
            "Epoch 12/100\n",
            "1/1 [==============================] - 0s 5ms/step - loss: 7.1109 - mae: 7.1109\n",
            "Epoch 13/100\n",
            "1/1 [==============================] - 0s 6ms/step - loss: 6.7677 - mae: 6.7677\n",
            "Epoch 14/100\n",
            "1/1 [==============================] - 0s 4ms/step - loss: 6.4015 - mae: 6.4015\n",
            "Epoch 15/100\n",
            "1/1 [==============================] - 0s 9ms/step - loss: 6.2357 - mae: 6.2357\n",
            "Epoch 16/100\n",
            "1/1 [==============================] - 0s 6ms/step - loss: 6.2423 - mae: 6.2423\n",
            "Epoch 17/100\n",
            "1/1 [==============================] - 0s 4ms/step - loss: 6.3558 - mae: 6.3558\n",
            "Epoch 18/100\n",
            "1/1 [==============================] - 0s 6ms/step - loss: 6.3170 - mae: 6.3170\n",
            "Epoch 19/100\n",
            "1/1 [==============================] - 0s 5ms/step - loss: 6.1485 - mae: 6.1485\n",
            "Epoch 20/100\n",
            "1/1 [==============================] - 0s 5ms/step - loss: 5.8645 - mae: 5.8645\n",
            "Epoch 21/100\n",
            "1/1 [==============================] - 0s 5ms/step - loss: 5.6410 - mae: 5.6410\n",
            "Epoch 22/100\n",
            "1/1 [==============================] - 0s 8ms/step - loss: 5.4964 - mae: 5.4964\n",
            "Epoch 23/100\n",
            "1/1 [==============================] - 0s 3ms/step - loss: 5.4790 - mae: 5.4790\n",
            "Epoch 24/100\n",
            "1/1 [==============================] - 0s 4ms/step - loss: 5.4653 - mae: 5.4653\n",
            "Epoch 25/100\n",
            "1/1 [==============================] - 0s 3ms/step - loss: 5.3918 - mae: 5.3918\n",
            "Epoch 26/100\n",
            "1/1 [==============================] - 0s 4ms/step - loss: 5.2633 - mae: 5.2633\n",
            "Epoch 27/100\n",
            "1/1 [==============================] - 0s 4ms/step - loss: 5.0845 - mae: 5.0845\n",
            "Epoch 28/100\n",
            "1/1 [==============================] - 0s 4ms/step - loss: 4.8603 - mae: 4.8603\n",
            "Epoch 29/100\n",
            "1/1 [==============================] - 0s 6ms/step - loss: 4.5949 - mae: 4.5949\n",
            "Epoch 30/100\n",
            "1/1 [==============================] - 0s 5ms/step - loss: 4.4549 - mae: 4.4549\n",
            "Epoch 31/100\n",
            "1/1 [==============================] - 0s 6ms/step - loss: 4.3419 - mae: 4.3419\n",
            "Epoch 32/100\n",
            "1/1 [==============================] - 0s 5ms/step - loss: 4.2469 - mae: 4.2469\n",
            "Epoch 33/100\n",
            "1/1 [==============================] - 0s 5ms/step - loss: 3.9892 - mae: 3.9892\n",
            "Epoch 34/100\n",
            "1/1 [==============================] - 0s 6ms/step - loss: 3.7639 - mae: 3.7639\n",
            "Epoch 35/100\n",
            "1/1 [==============================] - 0s 5ms/step - loss: 3.5838 - mae: 3.5838\n",
            "Epoch 36/100\n",
            "1/1 [==============================] - 0s 6ms/step - loss: 3.4578 - mae: 3.4578\n",
            "Epoch 37/100\n",
            "1/1 [==============================] - 0s 5ms/step - loss: 3.2638 - mae: 3.2638\n",
            "Epoch 38/100\n",
            "1/1 [==============================] - 0s 9ms/step - loss: 3.0042 - mae: 3.0042\n",
            "Epoch 39/100\n",
            "1/1 [==============================] - 0s 5ms/step - loss: 2.6811 - mae: 2.6811\n",
            "Epoch 40/100\n",
            "1/1 [==============================] - 0s 5ms/step - loss: 2.4239 - mae: 2.4239\n",
            "Epoch 41/100\n",
            "1/1 [==============================] - 0s 4ms/step - loss: 2.3193 - mae: 2.3193\n",
            "Epoch 42/100\n",
            "1/1 [==============================] - 0s 5ms/step - loss: 2.0514 - mae: 2.0514\n",
            "Epoch 43/100\n",
            "1/1 [==============================] - 0s 5ms/step - loss: 1.5789 - mae: 1.5789\n",
            "Epoch 44/100\n",
            "1/1 [==============================] - 0s 4ms/step - loss: 1.2803 - mae: 1.2803\n",
            "Epoch 45/100\n",
            "1/1 [==============================] - 0s 6ms/step - loss: 1.0003 - mae: 1.0003\n",
            "Epoch 46/100\n",
            "1/1 [==============================] - 0s 4ms/step - loss: 0.6312 - mae: 0.6312\n",
            "Epoch 47/100\n",
            "1/1 [==============================] - 0s 6ms/step - loss: 0.3519 - mae: 0.3519\n",
            "Epoch 48/100\n",
            "1/1 [==============================] - 0s 5ms/step - loss: 0.3731 - mae: 0.3731\n",
            "Epoch 49/100\n",
            "1/1 [==============================] - 0s 6ms/step - loss: 0.5498 - mae: 0.5498\n",
            "Epoch 50/100\n",
            "1/1 [==============================] - 0s 6ms/step - loss: 0.7918 - mae: 0.7918\n",
            "Epoch 51/100\n",
            "1/1 [==============================] - 0s 4ms/step - loss: 0.8574 - mae: 0.8574\n",
            "Epoch 52/100\n",
            "1/1 [==============================] - 0s 5ms/step - loss: 0.9624 - mae: 0.9624\n",
            "Epoch 53/100\n",
            "1/1 [==============================] - 0s 5ms/step - loss: 0.9383 - mae: 0.9383\n",
            "Epoch 54/100\n",
            "1/1 [==============================] - 0s 4ms/step - loss: 0.9712 - mae: 0.9712\n",
            "Epoch 55/100\n",
            "1/1 [==============================] - 0s 4ms/step - loss: 0.8290 - mae: 0.8290\n",
            "Epoch 56/100\n",
            "1/1 [==============================] - 0s 5ms/step - loss: 0.7937 - mae: 0.7937\n",
            "Epoch 57/100\n",
            "1/1 [==============================] - 0s 5ms/step - loss: 0.6822 - mae: 0.6822\n",
            "Epoch 58/100\n",
            "1/1 [==============================] - 0s 5ms/step - loss: 0.3600 - mae: 0.3600\n",
            "Epoch 59/100\n",
            "1/1 [==============================] - 0s 4ms/step - loss: 0.3560 - mae: 0.3560\n",
            "Epoch 60/100\n",
            "1/1 [==============================] - 0s 6ms/step - loss: 0.4129 - mae: 0.4129\n",
            "Epoch 61/100\n",
            "1/1 [==============================] - 0s 11ms/step - loss: 0.2622 - mae: 0.2622\n",
            "Epoch 62/100\n",
            "1/1 [==============================] - 0s 4ms/step - loss: 0.5552 - mae: 0.5552\n",
            "Epoch 63/100\n",
            "1/1 [==============================] - 0s 5ms/step - loss: 0.6130 - mae: 0.6130\n",
            "Epoch 64/100\n",
            "1/1 [==============================] - 0s 7ms/step - loss: 0.4665 - mae: 0.4665\n",
            "Epoch 65/100\n",
            "1/1 [==============================] - 0s 4ms/step - loss: 0.5549 - mae: 0.5549\n",
            "Epoch 66/100\n",
            "1/1 [==============================] - 0s 4ms/step - loss: 0.5040 - mae: 0.5040\n",
            "Epoch 67/100\n",
            "1/1 [==============================] - 0s 4ms/step - loss: 0.3059 - mae: 0.3059\n",
            "Epoch 68/100\n",
            "1/1 [==============================] - 0s 6ms/step - loss: 0.3180 - mae: 0.3180\n",
            "Epoch 69/100\n",
            "1/1 [==============================] - 0s 10ms/step - loss: 0.1289 - mae: 0.1289\n",
            "Epoch 70/100\n",
            "1/1 [==============================] - 0s 5ms/step - loss: 0.3193 - mae: 0.3193\n",
            "Epoch 71/100\n",
            "1/1 [==============================] - 0s 6ms/step - loss: 0.4343 - mae: 0.4343\n",
            "Epoch 72/100\n",
            "1/1 [==============================] - 0s 6ms/step - loss: 0.3293 - mae: 0.3293\n",
            "Epoch 73/100\n",
            "1/1 [==============================] - 0s 5ms/step - loss: 0.5476 - mae: 0.5476\n",
            "Epoch 74/100\n",
            "1/1 [==============================] - 0s 4ms/step - loss: 0.6088 - mae: 0.6088\n",
            "Epoch 75/100\n",
            "1/1 [==============================] - 0s 6ms/step - loss: 0.3411 - mae: 0.3411\n",
            "Epoch 76/100\n",
            "1/1 [==============================] - 0s 11ms/step - loss: 0.4043 - mae: 0.4043\n",
            "Epoch 77/100\n",
            "1/1 [==============================] - 0s 5ms/step - loss: 0.6183 - mae: 0.6183\n",
            "Epoch 78/100\n",
            "1/1 [==============================] - 0s 6ms/step - loss: 0.4809 - mae: 0.4809\n",
            "Epoch 79/100\n",
            "1/1 [==============================] - 0s 7ms/step - loss: 0.0982 - mae: 0.0982\n",
            "Epoch 80/100\n",
            "1/1 [==============================] - 0s 8ms/step - loss: 0.2504 - mae: 0.2504\n",
            "Epoch 81/100\n",
            "1/1 [==============================] - 0s 4ms/step - loss: 0.1929 - mae: 0.1929\n",
            "Epoch 82/100\n",
            "1/1 [==============================] - 0s 5ms/step - loss: 0.1561 - mae: 0.1561\n",
            "Epoch 83/100\n",
            "1/1 [==============================] - 0s 6ms/step - loss: 0.0545 - mae: 0.0545\n",
            "Epoch 84/100\n",
            "1/1 [==============================] - 0s 5ms/step - loss: 0.3572 - mae: 0.3572\n",
            "Epoch 85/100\n",
            "1/1 [==============================] - 0s 7ms/step - loss: 0.3705 - mae: 0.3705\n",
            "Epoch 86/100\n",
            "1/1 [==============================] - 0s 4ms/step - loss: 0.0835 - mae: 0.0835\n",
            "Epoch 87/100\n",
            "1/1 [==============================] - 0s 4ms/step - loss: 0.3945 - mae: 0.3945\n",
            "Epoch 88/100\n",
            "1/1 [==============================] - 0s 5ms/step - loss: 0.4196 - mae: 0.4196\n",
            "Epoch 89/100\n",
            "1/1 [==============================] - 0s 4ms/step - loss: 0.1171 - mae: 0.1171\n",
            "Epoch 90/100\n",
            "1/1 [==============================] - 0s 5ms/step - loss: 0.4845 - mae: 0.4845\n",
            "Epoch 91/100\n",
            "1/1 [==============================] - 0s 5ms/step - loss: 0.6957 - mae: 0.6957\n",
            "Epoch 92/100\n",
            "1/1 [==============================] - 0s 6ms/step - loss: 0.5739 - mae: 0.5739\n",
            "Epoch 93/100\n",
            "1/1 [==============================] - 0s 7ms/step - loss: 0.1783 - mae: 0.1783\n",
            "Epoch 94/100\n",
            "1/1 [==============================] - 0s 5ms/step - loss: 0.4492 - mae: 0.4492\n",
            "Epoch 95/100\n",
            "1/1 [==============================] - 0s 4ms/step - loss: 0.6536 - mae: 0.6536\n",
            "Epoch 96/100\n",
            "1/1 [==============================] - 0s 4ms/step - loss: 0.5370 - mae: 0.5370\n",
            "Epoch 97/100\n",
            "1/1 [==============================] - 0s 7ms/step - loss: 0.1539 - mae: 0.1539\n",
            "Epoch 98/100\n",
            "1/1 [==============================] - 0s 4ms/step - loss: 0.4828 - mae: 0.4828\n",
            "Epoch 99/100\n",
            "1/1 [==============================] - 0s 6ms/step - loss: 0.6920 - mae: 0.6920\n",
            "Epoch 100/100\n",
            "1/1 [==============================] - 0s 6ms/step - loss: 0.5813 - mae: 0.5813\n"
          ],
          "name": "stdout"
        },
        {
          "output_type": "execute_result",
          "data": {
            "text/plain": [
              "<tensorflow.python.keras.callbacks.History at 0x7fb00c083990>"
            ]
          },
          "metadata": {
            "tags": []
          },
          "execution_count": 20
        }
      ]
    },
    {
      "cell_type": "code",
      "metadata": {
        "colab": {
          "base_uri": "https://localhost:8080/"
        },
        "id": "SAkq8adjeo2y",
        "outputId": "6223425c-36af-46b6-f36c-84ca91213632"
      },
      "source": [
        "# Let's remind ourselves of the data\n",
        "X, y"
      ],
      "execution_count": 21,
      "outputs": [
        {
          "output_type": "execute_result",
          "data": {
            "text/plain": [
              "(<tf.Tensor: shape=(8,), dtype=float32, numpy=array([-7., -4., -1.,  2.,  5.,  8., 11., 14.], dtype=float32)>,\n",
              " <tf.Tensor: shape=(8,), dtype=float32, numpy=array([ 3.,  6.,  9., 12., 15., 18., 21., 24.], dtype=float32)>)"
            ]
          },
          "metadata": {
            "tags": []
          },
          "execution_count": 21
        }
      ]
    },
    {
      "cell_type": "code",
      "metadata": {
        "colab": {
          "base_uri": "https://localhost:8080/"
        },
        "id": "84Wym6W6e45i",
        "outputId": "921dfa59-5d35-4360-936e-1c981b77791d"
      },
      "source": [
        "# Let's try to make a prediction\n",
        "model.predict([17.0])"
      ],
      "execution_count": 22,
      "outputs": [
        {
          "output_type": "execute_result",
          "data": {
            "text/plain": [
              "array([[26.485754]], dtype=float32)"
            ]
          },
          "metadata": {
            "tags": []
          },
          "execution_count": 22
        }
      ]
    },
    {
      "cell_type": "markdown",
      "metadata": {
        "id": "MYOVI6lMe_KR"
      },
      "source": [
        "## Evaluting a model\n",
        "\n",
        "In practice, a typical workflow you'll go through when building neural networks is:\n",
        "\n",
        "```\n",
        "Build a model  -> fit it -> evaluate it -> tweak a model -> fit it -> evaluate it -> tweak a model -> fit it -> evaluate it...\n",
        "```"
      ]
    },
    {
      "cell_type": "markdown",
      "metadata": {
        "id": "usrqoYOojh5S"
      },
      "source": [
        "When it comes to evaluation... there are 3 words you should memorize:\n",
        "\n",
        "> \"Visualize, visualize, visualize\"\n",
        "\n",
        "It's a good idea to visualize:\n",
        "* The data - what data are we working with? What does it look like?\n",
        "* The model itself - what does our model look like?\n",
        "* The training of a model - how does a model perform while it learns?\n",
        "* The predictions of the model - how do the predictions of a model line up against the ground truth (the original labels)?"
      ]
    },
    {
      "cell_type": "code",
      "metadata": {
        "colab": {
          "base_uri": "https://localhost:8080/"
        },
        "id": "8zcYJzAykVku",
        "outputId": "1674eac9-1fdf-4f22-d922-b4e23df703b8"
      },
      "source": [
        "# Make a bigger dataset\n",
        "X = tf.range(-100, 100, 4)\n",
        "X"
      ],
      "execution_count": 23,
      "outputs": [
        {
          "output_type": "execute_result",
          "data": {
            "text/plain": [
              "<tf.Tensor: shape=(50,), dtype=int32, numpy=\n",
              "array([-100,  -96,  -92,  -88,  -84,  -80,  -76,  -72,  -68,  -64,  -60,\n",
              "        -56,  -52,  -48,  -44,  -40,  -36,  -32,  -28,  -24,  -20,  -16,\n",
              "        -12,   -8,   -4,    0,    4,    8,   12,   16,   20,   24,   28,\n",
              "         32,   36,   40,   44,   48,   52,   56,   60,   64,   68,   72,\n",
              "         76,   80,   84,   88,   92,   96], dtype=int32)>"
            ]
          },
          "metadata": {
            "tags": []
          },
          "execution_count": 23
        }
      ]
    },
    {
      "cell_type": "code",
      "metadata": {
        "colab": {
          "base_uri": "https://localhost:8080/"
        },
        "id": "tYmBjJyGkyhf",
        "outputId": "3d3b8ab0-df59-4565-9c76-4d30d3acfabb"
      },
      "source": [
        "# Make labels for the dataset\n",
        "y = X + 10\n",
        "y"
      ],
      "execution_count": 24,
      "outputs": [
        {
          "output_type": "execute_result",
          "data": {
            "text/plain": [
              "<tf.Tensor: shape=(50,), dtype=int32, numpy=\n",
              "array([-90, -86, -82, -78, -74, -70, -66, -62, -58, -54, -50, -46, -42,\n",
              "       -38, -34, -30, -26, -22, -18, -14, -10,  -6,  -2,   2,   6,  10,\n",
              "        14,  18,  22,  26,  30,  34,  38,  42,  46,  50,  54,  58,  62,\n",
              "        66,  70,  74,  78,  82,  86,  90,  94,  98, 102, 106], dtype=int32)>"
            ]
          },
          "metadata": {
            "tags": []
          },
          "execution_count": 24
        }
      ]
    },
    {
      "cell_type": "code",
      "metadata": {
        "colab": {
          "base_uri": "https://localhost:8080/",
          "height": 282
        },
        "id": "GsPCWn6Bk7-n",
        "outputId": "6ae49c7d-45bb-4df6-d8fe-3bb42758bd83"
      },
      "source": [
        "# Visualize the data\n",
        "import matplotlib.pyplot as plt\n",
        "\n",
        "plt.scatter(X, y)"
      ],
      "execution_count": 25,
      "outputs": [
        {
          "output_type": "execute_result",
          "data": {
            "text/plain": [
              "<matplotlib.collections.PathCollection at 0x7fb00c8d3dd0>"
            ]
          },
          "metadata": {
            "tags": []
          },
          "execution_count": 25
        },
        {
          "output_type": "display_data",
          "data": {
            "image/png": "[encoded data removed]",
            "text/plain": [
              "<Figure size 432x288 with 1 Axes>"
            ]
          },
          "metadata": {
            "tags": [],
            "needs_background": "light"
          }
        }
      ]
    },
    {
      "cell_type": "markdown",
      "metadata": {
        "id": "EYSYiP6mlE-g"
      },
      "source": [
        "### The 3 sets...\n",
        "\n",
        "* **Training set** - the model learns from this data, which is typically 70-80% of the total data you have available.\n",
        "* **Validation set** - the model gets tuned on this data, which is typically 10-15% of the data available.\n",
        "* **Test set** - the model gets evaluated on this data to test what is has learned, this set is typically 10-15% of the total data available.\n",
        "\n"
      ]
    },
    {
      "cell_type": "code",
      "metadata": {
        "colab": {
          "base_uri": "https://localhost:8080/"
        },
        "id": "o6x4ayTkmbsz",
        "outputId": "71c77c6a-a8f8-4f58-97f8-9e41119bbaa4"
      },
      "source": [
        "# Check the length of how many samples we have\n",
        "len(X)"
      ],
      "execution_count": 26,
      "outputs": [
        {
          "output_type": "execute_result",
          "data": {
            "text/plain": [
              "50"
            ]
          },
          "metadata": {
            "tags": []
          },
          "execution_count": 26
        }
      ]
    },
    {
      "cell_type": "code",
      "metadata": {
        "colab": {
          "base_uri": "https://localhost:8080/"
        },
        "id": "XSFQQTirmyvV",
        "outputId": "a66d6ebd-9bad-4219-e9bb-2a505f135c48"
      },
      "source": [
        "# Split the data into train and test sets\n",
        "X_train = X[:40] # first 40 are training samples (80% of the data) \n",
        "y_train = y[:40]\n",
        "\n",
        "X_test = X[40:] # last 10 are testing samples (20% of the data)\n",
        "y_test = y[40:]\n",
        "\n",
        "len(X_train), len(X_test), len(y_train), len(y_test)"
      ],
      "execution_count": 27,
      "outputs": [
        {
          "output_type": "execute_result",
          "data": {
            "text/plain": [
              "(40, 10, 40, 10)"
            ]
          },
          "metadata": {
            "tags": []
          },
          "execution_count": 27
        }
      ]
    },
    {
      "cell_type": "markdown",
      "metadata": {
        "id": "-TppBKDWnbKC"
      },
      "source": [
        "### Visualizing the data\n",
        "\n",
        "Now we've got our data in training and test sets... let's visualize it again!"
      ]
    },
    {
      "cell_type": "code",
      "metadata": {
        "colab": {
          "base_uri": "https://localhost:8080/",
          "height": 428
        },
        "id": "Wx8g6vh9nwLs",
        "outputId": "f81cf5b0-866c-4c8b-f698-2d7bc1078070"
      },
      "source": [
        "plt.figure(figsize=(10, 7))\n",
        "# Plot training data in blue\n",
        "plt.scatter(X_train, y_train, c=\"b\", label=\"Training data\") # our model will learn on this\n",
        "# Plot test data in green\n",
        "plt.scatter(X_test, y_test, c=\"g\", label=\"Testing data\") # want our model to be able to predict this (given X, what's y?)\n",
        "# Show a legend\n",
        "plt.legend();"
      ],
      "execution_count": 28,
      "outputs": [
        {
          "output_type": "display_data",
          "data": {
            "image/png": "[encoded data removed]",
            "text/plain": [
              "<Figure size 720x504 with 1 Axes>"
            ]
          },
          "metadata": {
            "tags": [],
            "needs_background": "light"
          }
        }
      ]
    },
    {
      "cell_type": "code",
      "metadata": {
        "id": "z0U3nhHtpKve"
      },
      "source": [
        "# Let's have a look at how to build a neural network for our data\n",
        "\n",
        "# 1. Create a model\n",
        "model = tf.keras.Sequential([\n",
        "  tf.keras.layers.Dense(1)                             \n",
        "])\n",
        "\n",
        "# 2. Compile the model\n",
        "model.compile(loss=tf.keras.losses.mae,\n",
        "              optimizer=tf.keras.optimizers.SGD(),\n",
        "              metrics=[\"mae\"])\n",
        "\n",
        "# # 3. Fit the model\n",
        "# model.fit(X_train, y_train, epochs=100)"
      ],
      "execution_count": 29,
      "outputs": []
    },
    {
      "cell_type": "markdown",
      "metadata": {
        "id": "RnscI3h_qP5a"
      },
      "source": [
        "### Visualizing the model"
      ]
    },
    {
      "cell_type": "code",
      "metadata": {
        "colab": {
          "base_uri": "https://localhost:8080/",
          "height": 296
        },
        "id": "gfiOkjp5qSiZ",
        "outputId": "d026a22a-2381-459c-ddf6-8126d8806cc6"
      },
      "source": [
        "model.summary()"
      ],
      "execution_count": 30,
      "outputs": [
        {
          "output_type": "error",
          "ename": "ValueError",
          "evalue": "ignored",
          "traceback": [
            "\u001b[0;31m---------------------------------------------------------------------------\u001b[0m",
            "\u001b[0;31mValueError\u001b[0m                                Traceback (most recent call last)",
            "\u001b[0;32m<ipython-input-30-5f15418b3570>\u001b[0m in \u001b[0;36m<module>\u001b[0;34m()\u001b[0m\n\u001b[0;32m----> 1\u001b[0;31m \u001b[0mmodel\u001b[0m\u001b[0;34m.\u001b[0m\u001b[0msummary\u001b[0m\u001b[0;34m(\u001b[0m\u001b[0;34m)\u001b[0m\u001b[0;34m\u001b[0m\u001b[0;34m\u001b[0m\u001b[0m\n\u001b[0m",
            "\u001b[0;32m/usr/local/lib/python3.7/dist-packages/tensorflow/python/keras/engine/training.py\u001b[0m in \u001b[0;36msummary\u001b[0;34m(self, line_length, positions, print_fn)\u001b[0m\n\u001b[1;32m   2374\u001b[0m     \"\"\"\n\u001b[1;32m   2375\u001b[0m     \u001b[0;32mif\u001b[0m \u001b[0;32mnot\u001b[0m \u001b[0mself\u001b[0m\u001b[0;34m.\u001b[0m\u001b[0mbuilt\u001b[0m\u001b[0;34m:\u001b[0m\u001b[0;34m\u001b[0m\u001b[0;34m\u001b[0m\u001b[0m\n\u001b[0;32m-> 2376\u001b[0;31m       raise ValueError('This model has not yet been built. '\n\u001b[0m\u001b[1;32m   2377\u001b[0m                        \u001b[0;34m'Build the model first by calling `build()` or calling '\u001b[0m\u001b[0;34m\u001b[0m\u001b[0;34m\u001b[0m\u001b[0m\n\u001b[1;32m   2378\u001b[0m                        \u001b[0;34m'`fit()` with some data, or specify '\u001b[0m\u001b[0;34m\u001b[0m\u001b[0;34m\u001b[0m\u001b[0m\n",
            "\u001b[0;31mValueError\u001b[0m: This model has not yet been built. Build the model first by calling `build()` or calling `fit()` with some data, or specify an `input_shape` argument in the first layer(s) for automatic build."
          ]
        }
      ]
    },
    {
      "cell_type": "code",
      "metadata": {
        "colab": {
          "base_uri": "https://localhost:8080/"
        },
        "id": "2b2QjQhzq6Ah",
        "outputId": "4c0ed453-51f6-4068-94dc-92e92f31d536"
      },
      "source": [
        "X[0], y[0]"
      ],
      "execution_count": 31,
      "outputs": [
        {
          "output_type": "execute_result",
          "data": {
            "text/plain": [
              "(<tf.Tensor: shape=(), dtype=int32, numpy=-100>,\n",
              " <tf.Tensor: shape=(), dtype=int32, numpy=-90>)"
            ]
          },
          "metadata": {
            "tags": []
          },
          "execution_count": 31
        }
      ]
    },
    {
      "cell_type": "code",
      "metadata": {
        "id": "jzPTRyrCqVpT"
      },
      "source": [
        "# Let's create a model which builds automatically by defining the input_shape argument in the first layer\n",
        "tf.random.set_seed(42)\n",
        "\n",
        "# 1. Create a model (same as above)\n",
        "model = tf.keras.Sequential([\n",
        "  tf.keras.layers.Dense(10, input_shape=[1], name=\"input_layer\"),\n",
        "  tf.keras.layers.Dense(1, name=\"output_layer\")\n",
        "], name=\"model_1\")\n",
        "\n",
        "# 2. Compile the model (same as above)\n",
        "model.compile(loss=tf.keras.losses.mae,\n",
        "              optimizer=tf.keras.optimizers.SGD(),\n",
        "              metrics=[\"mae\"])"
      ],
      "execution_count": 32,
      "outputs": []
    },
    {
      "cell_type": "code",
      "metadata": {
        "colab": {
          "base_uri": "https://localhost:8080/"
        },
        "id": "_RDh-9PdrMXo",
        "outputId": "9b631c34-3435-47c4-d506-0183742f14ba"
      },
      "source": [
        "model.summary()"
      ],
      "execution_count": 33,
      "outputs": [
        {
          "output_type": "stream",
          "text": [
            "Model: \"model_1\"\n",
            "_________________________________________________________________\n",
            "Layer (type)                 Output Shape              Param #   \n",
            "=================================================================\n",
            "input_layer (Dense)          (None, 10)                20        \n",
            "_________________________________________________________________\n",
            "output_layer (Dense)         (None, 1)                 11        \n",
            "=================================================================\n",
            "Total params: 31\n",
            "Trainable params: 31\n",
            "Non-trainable params: 0\n",
            "_________________________________________________________________\n"
          ],
          "name": "stdout"
        }
      ]
    },
    {
      "cell_type": "markdown",
      "metadata": {
        "id": "n8BlRom8rhQx"
      },
      "source": [
        "* Total params - total number of parameters in the model.\n",
        "* Trainable parameters - these are the parameters (patterns) the model can update as it trains.\n",
        "* Non-trainable params - these parameters aren't updated during training (this is typical when you bring in already learn patterns or parameters from other models during **transfer learning**).\n",
        "\n",
        "📖 **Resource:** For a more in-depth overview of the trainable parameters within a layer, check out [MIT's introduction to deep learning video](https://youtu.be/njKP3FqW3Sk). \n",
        "\n",
        "🛠 **Exercise:** Try playing around with the number of hidden units in the dense layer, see how that effects the number of parameters (total and trainable) by calling `model.summary()`."
      ]
    },
    {
      "cell_type": "code",
      "metadata": {
        "colab": {
          "base_uri": "https://localhost:8080/"
        },
        "id": "ZP91lGTgrPno",
        "outputId": "487d83eb-edab-419a-b07d-8d520d9a3c38"
      },
      "source": [
        "# Let's fit our model to the training data\n",
        "model.fit(X_train, y_train, epochs=100, verbose=0)"
      ],
      "execution_count": 34,
      "outputs": [
        {
          "output_type": "execute_result",
          "data": {
            "text/plain": [
              "<tensorflow.python.keras.callbacks.History at 0x7fb00adf4050>"
            ]
          },
          "metadata": {
            "tags": []
          },
          "execution_count": 34
        }
      ]
    },
    {
      "cell_type": "code",
      "metadata": {
        "colab": {
          "base_uri": "https://localhost:8080/"
        },
        "id": "SS4oIHfktlex",
        "outputId": "45bafacd-9051-4f5b-da8b-ad32cc7dd061"
      },
      "source": [
        "# Get a summary of our model\n",
        "model.summary()"
      ],
      "execution_count": 35,
      "outputs": [
        {
          "output_type": "stream",
          "text": [
            "Model: \"model_1\"\n",
            "_________________________________________________________________\n",
            "Layer (type)                 Output Shape              Param #   \n",
            "=================================================================\n",
            "input_layer (Dense)          (None, 10)                20        \n",
            "_________________________________________________________________\n",
            "output_layer (Dense)         (None, 1)                 11        \n",
            "=================================================================\n",
            "Total params: 31\n",
            "Trainable params: 31\n",
            "Non-trainable params: 0\n",
            "_________________________________________________________________\n"
          ],
          "name": "stdout"
        }
      ]
    },
    {
      "cell_type": "code",
      "metadata": {
        "colab": {
          "base_uri": "https://localhost:8080/",
          "height": 312
        },
        "id": "--yP4uW8ugKH",
        "outputId": "c791c408-22fe-4b3c-9d41-4b3ce9437fb5"
      },
      "source": [
        "from tensorflow.keras.utils import plot_model\n",
        "\n",
        "plot_model(model=model, show_shapes=True)"
      ],
      "execution_count": 36,
      "outputs": [
        {
          "output_type": "execute_result",
          "data": {
            "image/png": "[encoded data removed]",
            "text/plain": [
              "<IPython.core.display.Image object>"
            ]
          },
          "metadata": {
            "tags": []
          },
          "execution_count": 36
        }
      ]
    },
    {
      "cell_type": "markdown",
      "metadata": {
        "id": "ORwPibL8u7Yk"
      },
      "source": [
        "### Visualizing our model's predictions\n",
        "\n",
        "To visualize predictions, it's a good idea to plot them against the ground truth labels.\n",
        "\n",
        "Often you'll see this in the form of `y_test` or `y_true` versus `y_pred` (ground truth versus your model's predictions)."
      ]
    },
    {
      "cell_type": "code",
      "metadata": {
        "colab": {
          "base_uri": "https://localhost:8080/"
        },
        "id": "85dQbIrHsggD",
        "outputId": "d1900309-4789-482e-dcdb-b92d3d0a88cc"
      },
      "source": [
        "# Make some predictions\n",
        "y_pred = model.predict(X_test)\n",
        "y_pred "
      ],
      "execution_count": 37,
      "outputs": [
        {
          "output_type": "execute_result",
          "data": {
            "text/plain": [
              "array([[ 70.55218 ],\n",
              "       [ 75.13991 ],\n",
              "       [ 79.72763 ],\n",
              "       [ 84.31535 ],\n",
              "       [ 88.903076],\n",
              "       [ 93.49081 ],\n",
              "       [ 98.07853 ],\n",
              "       [102.66625 ],\n",
              "       [107.253975],\n",
              "       [111.8417  ]], dtype=float32)"
            ]
          },
          "metadata": {
            "tags": []
          },
          "execution_count": 37
        }
      ]
    },
    {
      "cell_type": "code",
      "metadata": {
        "colab": {
          "base_uri": "https://localhost:8080/"
        },
        "id": "Iw7TyglVtUZL",
        "outputId": "899b0023-a2f7-4483-ff56-230375d08bfb"
      },
      "source": [
        "y_test"
      ],
      "execution_count": 38,
      "outputs": [
        {
          "output_type": "execute_result",
          "data": {
            "text/plain": [
              "<tf.Tensor: shape=(10,), dtype=int32, numpy=array([ 70,  74,  78,  82,  86,  90,  94,  98, 102, 106], dtype=int32)>"
            ]
          },
          "metadata": {
            "tags": []
          },
          "execution_count": 38
        }
      ]
    },
    {
      "cell_type": "markdown",
      "metadata": {
        "id": "rZvNFJGVtjov"
      },
      "source": [
        "🔑 **Note:** If you feel like you're going to reuse some kind of functionality in the future, it's a good idea to turn it into a function."
      ]
    },
    {
      "cell_type": "code",
      "metadata": {
        "id": "sJsnIciYtWfn"
      },
      "source": [
        "# Let's create a plotting function\n",
        "def plot_predictions(train_data=X_train,\n",
        "                     train_labels=y_train,\n",
        "                     test_data=X_test,\n",
        "                     test_labels=y_test,\n",
        "                     predictions=y_pred):\n",
        "  \"\"\"\n",
        "  Plots training data, test data and compares predictions to ground truth labels.\n",
        "  \"\"\"\n",
        "  plt.figure(figsize=(10, 7))\n",
        "  # Plot training data in blue\n",
        "  plt.scatter(train_data, train_labels, c=\"b\", label=\"Training data\")\n",
        "  # Plot testing data in green\n",
        "  plt.scatter(test_data, test_labels, c=\"g\", label=\"Testing data\")\n",
        "  # Plot model's predictions in red\n",
        "  plt.scatter(test_data, predictions, c=\"r\", label=\"Predictions\")\n",
        "  # Show the legend\n",
        "  plt.legend();"
      ],
      "execution_count": 39,
      "outputs": []
    },
    {
      "cell_type": "code",
      "metadata": {
        "colab": {
          "base_uri": "https://localhost:8080/",
          "height": 428
        },
        "id": "6VeRueShuhfN",
        "outputId": "c7fcd1cd-0e62-40fc-dc3f-302669e12c28"
      },
      "source": [
        "plot_predictions(train_data=X_train,\n",
        "                 train_labels=y_train,\n",
        "                 test_data=X_test,\n",
        "                 test_labels=y_test,\n",
        "                 predictions=y_pred)"
      ],
      "execution_count": 40,
      "outputs": [
        {
          "output_type": "display_data",
          "data": {
            "image/png": "[encoded data removed]",
            "text/plain": [
              "<Figure size 720x504 with 1 Axes>"
            ]
          },
          "metadata": {
            "tags": [],
            "needs_background": "light"
          }
        }
      ]
    },
    {
      "cell_type": "markdown",
      "metadata": {
        "id": "poOuTGosukJU"
      },
      "source": [
        "### Evaluting our model's predictions with regression evaluation metrics\n",
        "\n",
        "Depending on the problem you're working on, there will be different evaluation metrics to evaluate your model's performance.\n",
        "\n",
        "Since we're working on a regression, two of the main metrics: \n",
        "* MAE - mean absolute error, \"on average, how wrong is each of my model's predictions\"\n",
        "* MSE - mean square error, \"square the average errors\" "
      ]
    },
    {
      "cell_type": "code",
      "metadata": {
        "colab": {
          "base_uri": "https://localhost:8080/"
        },
        "id": "FmeohFOJu_C_",
        "outputId": "37a27ab8-6a65-4df9-eaab-49755e1d6075"
      },
      "source": [
        "# Evaluate the model on the test\n",
        "model.evaluate(X_test, y_test)"
      ],
      "execution_count": 41,
      "outputs": [
        {
          "output_type": "stream",
          "text": [
            "1/1 [==============================] - 0s 138ms/step - loss: 3.1969 - mae: 3.1969\n"
          ],
          "name": "stdout"
        },
        {
          "output_type": "execute_result",
          "data": {
            "text/plain": [
              "[3.1969428062438965, 3.1969428062438965]"
            ]
          },
          "metadata": {
            "tags": []
          },
          "execution_count": 41
        }
      ]
    },
    {
      "cell_type": "code",
      "metadata": {
        "colab": {
          "base_uri": "https://localhost:8080/"
        },
        "id": "eWAP6TCJyUeL",
        "outputId": "71a6c1ce-12d9-42d3-b57c-68230ab53807"
      },
      "source": [
        "# Calculate the mean absolute error\n",
        "mae = tf.metrics.mean_absolute_error(y_true=y_test, \n",
        "                                     y_pred=tf.constant(y_pred))\n",
        "mae"
      ],
      "execution_count": 42,
      "outputs": [
        {
          "output_type": "execute_result",
          "data": {
            "text/plain": [
              "<tf.Tensor: shape=(10,), dtype=float32, numpy=\n",
              "array([17.558258 , 14.1160555, 11.708948 , 10.336929 , 10.       ,\n",
              "       10.698161 , 12.447118 , 15.333002 , 19.253975 , 23.841698 ],\n",
              "      dtype=float32)>"
            ]
          },
          "metadata": {
            "tags": []
          },
          "execution_count": 42
        }
      ]
    },
    {
      "cell_type": "code",
      "metadata": {
        "colab": {
          "base_uri": "https://localhost:8080/"
        },
        "id": "znxoDzBCyGEd",
        "outputId": "0d1babbe-ad66-495c-b592-1572de9ce866"
      },
      "source": [
        "tf.constant(y_pred)"
      ],
      "execution_count": 43,
      "outputs": [
        {
          "output_type": "execute_result",
          "data": {
            "text/plain": [
              "<tf.Tensor: shape=(10, 1), dtype=float32, numpy=\n",
              "array([[ 70.55218 ],\n",
              "       [ 75.13991 ],\n",
              "       [ 79.72763 ],\n",
              "       [ 84.31535 ],\n",
              "       [ 88.903076],\n",
              "       [ 93.49081 ],\n",
              "       [ 98.07853 ],\n",
              "       [102.66625 ],\n",
              "       [107.253975],\n",
              "       [111.8417  ]], dtype=float32)>"
            ]
          },
          "metadata": {
            "tags": []
          },
          "execution_count": 43
        }
      ]
    },
    {
      "cell_type": "code",
      "metadata": {
        "colab": {
          "base_uri": "https://localhost:8080/"
        },
        "id": "NB5OwjD2ySv4",
        "outputId": "387215c5-7c8b-4c04-c74b-a347e726ea15"
      },
      "source": [
        "y_test"
      ],
      "execution_count": 44,
      "outputs": [
        {
          "output_type": "execute_result",
          "data": {
            "text/plain": [
              "<tf.Tensor: shape=(10,), dtype=int32, numpy=array([ 70,  74,  78,  82,  86,  90,  94,  98, 102, 106], dtype=int32)>"
            ]
          },
          "metadata": {
            "tags": []
          },
          "execution_count": 44
        }
      ]
    },
    {
      "cell_type": "code",
      "metadata": {
        "colab": {
          "base_uri": "https://localhost:8080/"
        },
        "id": "fit8MiNSyTZu",
        "outputId": "633ac7f0-4c17-4f3d-aae5-6df1d8c73c29"
      },
      "source": [
        "tf.squeeze(y_pred)"
      ],
      "execution_count": 45,
      "outputs": [
        {
          "output_type": "execute_result",
          "data": {
            "text/plain": [
              "<tf.Tensor: shape=(10,), dtype=float32, numpy=\n",
              "array([ 70.55218 ,  75.13991 ,  79.72763 ,  84.31535 ,  88.903076,\n",
              "        93.49081 ,  98.07853 , 102.66625 , 107.253975, 111.8417  ],\n",
              "      dtype=float32)>"
            ]
          },
          "metadata": {
            "tags": []
          },
          "execution_count": 45
        }
      ]
    },
    {
      "cell_type": "code",
      "metadata": {
        "colab": {
          "base_uri": "https://localhost:8080/"
        },
        "id": "nFhtsK8J1j2M",
        "outputId": "827fc7e3-0c26-4532-8a60-5d3b3917f5fd"
      },
      "source": [
        "# Calculate the mean absolute error\n",
        "mae = tf.metrics.mean_absolute_error(y_true=y_test,\n",
        "                                     y_pred=tf.squeeze(y_pred))\n",
        "mae"
      ],
      "execution_count": 46,
      "outputs": [
        {
          "output_type": "execute_result",
          "data": {
            "text/plain": [
              "<tf.Tensor: shape=(), dtype=float32, numpy=3.1969407>"
            ]
          },
          "metadata": {
            "tags": []
          },
          "execution_count": 46
        }
      ]
    },
    {
      "cell_type": "code",
      "metadata": {
        "colab": {
          "base_uri": "https://localhost:8080/"
        },
        "id": "BK4bRMgi4LcR",
        "outputId": "e5a765ad-5c70-4f4c-c626-0ee25faac40e"
      },
      "source": [
        "# Calculate the mean square error\n",
        "mse = tf.metrics.mean_squared_error(y_true=y_test,\n",
        "                                    y_pred=tf.squeeze(y_pred))\n",
        "mse"
      ],
      "execution_count": 47,
      "outputs": [
        {
          "output_type": "execute_result",
          "data": {
            "text/plain": [
              "<tf.Tensor: shape=(), dtype=float32, numpy=13.070143>"
            ]
          },
          "metadata": {
            "tags": []
          },
          "execution_count": 47
        }
      ]
    },
    {
      "cell_type": "code",
      "metadata": {
        "id": "h46VZYQ28tFP"
      },
      "source": [
        "# Make some functions to reuse MAE and MSE\n",
        "def mae(y_true, y_pred):\n",
        "  return tf.metrics.mean_absolute_error(y_true=y_true,\n",
        "                                        y_pred=tf.squeeze(y_pred))\n",
        "  \n",
        "def mse(y_true, y_pred):\n",
        "  return tf.metrics.mean_squared_error(y_true=y_true,\n",
        "                                       y_pred=tf.squeeze(y_pred))"
      ],
      "execution_count": 48,
      "outputs": []
    },
    {
      "cell_type": "markdown",
      "metadata": {
        "id": "E4mlm41z9w6S"
      },
      "source": [
        "## Running experiments to improve our model\n",
        "\n",
        "```\n",
        "Build a model -> fit it -> evaluate it -> tweak it -> fit it -> evaluate it -> tweak it -> fit it -> evaluate it ...\n",
        "```\n",
        "\n",
        "1. Get more data - get more examples for your model to train on (more opportunities to learn patterns or relationships between features and labels).\n",
        "2. Make your model larger (using a more complex model) - this might come in the form of more layers or more hidden units in each layer.\n",
        "3. Train for longer - give your model more of a chance to find patterns in the data.\n",
        "\n",
        "Let's do 3 modelling experiments:\n",
        "\n",
        "1. `model_1` - same as the original model, 1 layer, trained for 100 epochs\n",
        "2. `model_2` - 2 layers, trained for 100 epochs\n",
        "3. `model_3` - 2 layers, trained for 500 epochs \n",
        "\n",
        "**Build `model_1`**"
      ]
    },
    {
      "cell_type": "code",
      "metadata": {
        "colab": {
          "base_uri": "https://localhost:8080/"
        },
        "id": "0cLyuLdP-SIw",
        "outputId": "c8075025-9ad9-4635-b52b-48e7c0b1d02a"
      },
      "source": [
        "# Set random seed\n",
        "tf.random.set_seed(42)\n",
        "\n",
        "# 1. Create the model\n",
        "model_1 = tf.keras.Sequential([\n",
        "  tf.keras.layers.Dense(1)\n",
        "])\n",
        "\n",
        "# 2. Compile the model\n",
        "model_1.compile(loss=tf.keras.losses.mae,\n",
        "                optimizer=tf.keras.optimizers.SGD(),\n",
        "                metrics=[\"mae\"])\n",
        "\n",
        "# 3. Fit the model\n",
        "model_1.fit(X_train, y_train, epochs=100)"
      ],
      "execution_count": 49,
      "outputs": [
        {
          "output_type": "stream",
          "text": [
            "Epoch 1/100\n",
            "2/2 [==============================] - 0s 6ms/step - loss: 16.4124 - mae: 16.4124\n",
            "Epoch 2/100\n",
            "2/2 [==============================] - 0s 8ms/step - loss: 11.0829 - mae: 11.0829\n",
            "Epoch 3/100\n",
            "2/2 [==============================] - 0s 6ms/step - loss: 11.1242 - mae: 11.1242\n",
            "Epoch 4/100\n",
            "2/2 [==============================] - 0s 3ms/step - loss: 8.6945 - mae: 8.6945\n",
            "Epoch 5/100\n",
            "2/2 [==============================] - 0s 3ms/step - loss: 9.8003 - mae: 9.8003\n",
            "Epoch 6/100\n",
            "2/2 [==============================] - 0s 4ms/step - loss: 9.5263 - mae: 9.5263\n",
            "Epoch 7/100\n",
            "2/2 [==============================] - 0s 4ms/step - loss: 8.4102 - mae: 8.4102\n",
            "Epoch 8/100\n",
            "2/2 [==============================] - 0s 7ms/step - loss: 9.1449 - mae: 9.1449\n",
            "Epoch 9/100\n",
            "2/2 [==============================] - 0s 4ms/step - loss: 19.4932 - mae: 19.4932\n",
            "Epoch 10/100\n",
            "2/2 [==============================] - 0s 4ms/step - loss: 9.6061 - mae: 9.6061\n",
            "Epoch 11/100\n",
            "2/2 [==============================] - 0s 8ms/step - loss: 8.5992 - mae: 8.5992\n",
            "Epoch 12/100\n",
            "2/2 [==============================] - 0s 6ms/step - loss: 10.9324 - mae: 10.9324\n",
            "Epoch 13/100\n",
            "2/2 [==============================] - 0s 6ms/step - loss: 10.0574 - mae: 10.0574\n",
            "Epoch 14/100\n",
            "2/2 [==============================] - 0s 3ms/step - loss: 16.5679 - mae: 16.5679\n",
            "Epoch 15/100\n",
            "2/2 [==============================] - 0s 3ms/step - loss: 11.4537 - mae: 11.4537\n",
            "Epoch 16/100\n",
            "2/2 [==============================] - 0s 6ms/step - loss: 8.4056 - mae: 8.4056\n",
            "Epoch 17/100\n",
            "2/2 [==============================] - 0s 9ms/step - loss: 13.8417 - mae: 13.8417\n",
            "Epoch 18/100\n",
            "2/2 [==============================] - 0s 5ms/step - loss: 11.6621 - mae: 11.6621\n",
            "Epoch 19/100\n",
            "2/2 [==============================] - 0s 5ms/step - loss: 18.7623 - mae: 18.7623\n",
            "Epoch 20/100\n",
            "2/2 [==============================] - 0s 4ms/step - loss: 15.5702 - mae: 15.5702\n",
            "Epoch 21/100\n",
            "2/2 [==============================] - 0s 10ms/step - loss: 10.9959 - mae: 10.9959\n",
            "Epoch 22/100\n",
            "2/2 [==============================] - 0s 7ms/step - loss: 8.0023 - mae: 8.0023\n",
            "Epoch 23/100\n",
            "2/2 [==============================] - 0s 6ms/step - loss: 9.8593 - mae: 9.8593\n",
            "Epoch 24/100\n",
            "2/2 [==============================] - 0s 5ms/step - loss: 7.5796 - mae: 7.5796\n",
            "Epoch 25/100\n",
            "2/2 [==============================] - 0s 4ms/step - loss: 13.7226 - mae: 13.7226\n",
            "Epoch 26/100\n",
            "2/2 [==============================] - 0s 5ms/step - loss: 17.1740 - mae: 17.1740\n",
            "Epoch 27/100\n",
            "2/2 [==============================] - 0s 5ms/step - loss: 13.4233 - mae: 13.4233\n",
            "Epoch 28/100\n",
            "2/2 [==============================] - 0s 6ms/step - loss: 14.5473 - mae: 14.5473\n",
            "Epoch 29/100\n",
            "2/2 [==============================] - 0s 3ms/step - loss: 9.8753 - mae: 9.8753\n",
            "Epoch 30/100\n",
            "2/2 [==============================] - 0s 7ms/step - loss: 17.1187 - mae: 17.1187\n",
            "Epoch 31/100\n",
            "2/2 [==============================] - 0s 5ms/step - loss: 24.5949 - mae: 24.5949\n",
            "Epoch 32/100\n",
            "2/2 [==============================] - 0s 5ms/step - loss: 7.6765 - mae: 7.6765\n",
            "Epoch 33/100\n",
            "2/2 [==============================] - 0s 7ms/step - loss: 9.2971 - mae: 9.2971\n",
            "Epoch 34/100\n",
            "2/2 [==============================] - 0s 7ms/step - loss: 14.1703 - mae: 14.1703\n",
            "Epoch 35/100\n",
            "2/2 [==============================] - 0s 3ms/step - loss: 10.8635 - mae: 10.8635\n",
            "Epoch 36/100\n",
            "2/2 [==============================] - 0s 6ms/step - loss: 13.5689 - mae: 13.5689\n",
            "Epoch 37/100\n",
            "2/2 [==============================] - 0s 3ms/step - loss: 9.3448 - mae: 9.3448\n",
            "Epoch 38/100\n",
            "2/2 [==============================] - 0s 5ms/step - loss: 10.4804 - mae: 10.4804\n",
            "Epoch 39/100\n",
            "2/2 [==============================] - 0s 4ms/step - loss: 10.0178 - mae: 10.0178\n",
            "Epoch 40/100\n",
            "2/2 [==============================] - 0s 3ms/step - loss: 10.8005 - mae: 10.8005\n",
            "Epoch 41/100\n",
            "2/2 [==============================] - 0s 6ms/step - loss: 7.7789 - mae: 7.7789\n",
            "Epoch 42/100\n",
            "2/2 [==============================] - 0s 3ms/step - loss: 10.2844 - mae: 10.2844\n",
            "Epoch 43/100\n",
            "2/2 [==============================] - 0s 12ms/step - loss: 8.9628 - mae: 8.9628\n",
            "Epoch 44/100\n",
            "2/2 [==============================] - 0s 3ms/step - loss: 12.6243 - mae: 12.6243\n",
            "Epoch 45/100\n",
            "2/2 [==============================] - 0s 4ms/step - loss: 14.1236 - mae: 14.1236\n",
            "Epoch 46/100\n",
            "2/2 [==============================] - 0s 4ms/step - loss: 8.2681 - mae: 8.2681\n",
            "Epoch 47/100\n",
            "2/2 [==============================] - 0s 5ms/step - loss: 9.0126 - mae: 9.0126\n",
            "Epoch 48/100\n",
            "2/2 [==============================] - 0s 8ms/step - loss: 10.6882 - mae: 10.6882\n",
            "Epoch 49/100\n",
            "2/2 [==============================] - 0s 3ms/step - loss: 7.7431 - mae: 7.7431\n",
            "Epoch 50/100\n",
            "2/2 [==============================] - 0s 5ms/step - loss: 9.3950 - mae: 9.3950\n",
            "Epoch 51/100\n",
            "2/2 [==============================] - 0s 8ms/step - loss: 8.9267 - mae: 8.9267\n",
            "Epoch 52/100\n",
            "2/2 [==============================] - 0s 3ms/step - loss: 16.9818 - mae: 16.9818\n",
            "Epoch 53/100\n",
            "2/2 [==============================] - 0s 9ms/step - loss: 14.8677 - mae: 14.8677\n",
            "Epoch 54/100\n",
            "2/2 [==============================] - 0s 3ms/step - loss: 22.0413 - mae: 22.0413\n",
            "Epoch 55/100\n",
            "2/2 [==============================] - 0s 5ms/step - loss: 17.0640 - mae: 17.0640\n",
            "Epoch 56/100\n",
            "2/2 [==============================] - 0s 5ms/step - loss: 9.9520 - mae: 9.9520\n",
            "Epoch 57/100\n",
            "2/2 [==============================] - 0s 5ms/step - loss: 9.7522 - mae: 9.7522\n",
            "Epoch 58/100\n",
            "2/2 [==============================] - 0s 6ms/step - loss: 9.4378 - mae: 9.4378\n",
            "Epoch 59/100\n",
            "2/2 [==============================] - 0s 9ms/step - loss: 8.3373 - mae: 8.3373\n",
            "Epoch 60/100\n",
            "2/2 [==============================] - 0s 4ms/step - loss: 9.6425 - mae: 9.6425\n",
            "Epoch 61/100\n",
            "2/2 [==============================] - 0s 3ms/step - loss: 11.7590 - mae: 11.7590\n",
            "Epoch 62/100\n",
            "2/2 [==============================] - 0s 5ms/step - loss: 11.7187 - mae: 11.7187\n",
            "Epoch 63/100\n",
            "2/2 [==============================] - 0s 5ms/step - loss: 7.2316 - mae: 7.2316\n",
            "Epoch 64/100\n",
            "2/2 [==============================] - 0s 3ms/step - loss: 17.7848 - mae: 17.7848\n",
            "Epoch 65/100\n",
            "2/2 [==============================] - 0s 5ms/step - loss: 12.6255 - mae: 12.6255\n",
            "Epoch 66/100\n",
            "2/2 [==============================] - 0s 5ms/step - loss: 13.2840 - mae: 13.2840\n",
            "Epoch 67/100\n",
            "2/2 [==============================] - 0s 6ms/step - loss: 7.8471 - mae: 7.8471\n",
            "Epoch 68/100\n",
            "2/2 [==============================] - 0s 8ms/step - loss: 9.9708 - mae: 9.9708\n",
            "Epoch 69/100\n",
            "2/2 [==============================] - 0s 3ms/step - loss: 12.4903 - mae: 12.4903\n",
            "Epoch 70/100\n",
            "2/2 [==============================] - 0s 6ms/step - loss: 8.5001 - mae: 8.5001\n",
            "Epoch 71/100\n",
            "2/2 [==============================] - 0s 3ms/step - loss: 9.9996 - mae: 9.9996\n",
            "Epoch 72/100\n",
            "2/2 [==============================] - 0s 8ms/step - loss: 10.1797 - mae: 10.1797\n",
            "Epoch 73/100\n",
            "2/2 [==============================] - 0s 4ms/step - loss: 13.0024 - mae: 13.0024\n",
            "Epoch 74/100\n",
            "2/2 [==============================] - 0s 4ms/step - loss: 10.3812 - mae: 10.3812\n",
            "Epoch 75/100\n",
            "2/2 [==============================] - 0s 8ms/step - loss: 9.7621 - mae: 9.7621\n",
            "Epoch 76/100\n",
            "2/2 [==============================] - 0s 4ms/step - loss: 11.5186 - mae: 11.5186\n",
            "Epoch 77/100\n",
            "2/2 [==============================] - 0s 3ms/step - loss: 8.3070 - mae: 8.3070\n",
            "Epoch 78/100\n",
            "2/2 [==============================] - 0s 6ms/step - loss: 9.4436 - mae: 9.4436\n",
            "Epoch 79/100\n",
            "2/2 [==============================] - 0s 3ms/step - loss: 20.3897 - mae: 20.3897\n",
            "Epoch 80/100\n",
            "2/2 [==============================] - 0s 3ms/step - loss: 15.4751 - mae: 15.4751\n",
            "Epoch 81/100\n",
            "2/2 [==============================] - 0s 3ms/step - loss: 9.0208 - mae: 9.0208\n",
            "Epoch 82/100\n",
            "2/2 [==============================] - 0s 3ms/step - loss: 13.3869 - mae: 13.3869\n",
            "Epoch 83/100\n",
            "2/2 [==============================] - 0s 3ms/step - loss: 7.9649 - mae: 7.9649\n",
            "Epoch 84/100\n",
            "2/2 [==============================] - 0s 3ms/step - loss: 7.5702 - mae: 7.5702\n",
            "Epoch 85/100\n",
            "2/2 [==============================] - 0s 3ms/step - loss: 9.9706 - mae: 9.9706\n",
            "Epoch 86/100\n",
            "2/2 [==============================] - 0s 3ms/step - loss: 9.0533 - mae: 9.0533\n",
            "Epoch 87/100\n",
            "2/2 [==============================] - 0s 3ms/step - loss: 12.2670 - mae: 12.2670\n",
            "Epoch 88/100\n",
            "2/2 [==============================] - 0s 3ms/step - loss: 10.6052 - mae: 10.6052\n",
            "Epoch 89/100\n",
            "2/2 [==============================] - 0s 3ms/step - loss: 7.1986 - mae: 7.1986\n",
            "Epoch 90/100\n",
            "2/2 [==============================] - 0s 3ms/step - loss: 13.0379 - mae: 13.0379\n",
            "Epoch 91/100\n",
            "2/2 [==============================] - 0s 3ms/step - loss: 7.1968 - mae: 7.1968\n",
            "Epoch 92/100\n",
            "2/2 [==============================] - 0s 4ms/step - loss: 7.5386 - mae: 7.5386\n",
            "Epoch 93/100\n",
            "2/2 [==============================] - 0s 4ms/step - loss: 7.0932 - mae: 7.0932\n",
            "Epoch 94/100\n",
            "2/2 [==============================] - 0s 4ms/step - loss: 12.8860 - mae: 12.8860\n",
            "Epoch 95/100\n",
            "2/2 [==============================] - 0s 5ms/step - loss: 9.9620 - mae: 9.9620\n",
            "Epoch 96/100\n",
            "2/2 [==============================] - 0s 3ms/step - loss: 8.7739 - mae: 8.7739\n",
            "Epoch 97/100\n",
            "2/2 [==============================] - 0s 4ms/step - loss: 13.0861 - mae: 13.0861\n",
            "Epoch 98/100\n",
            "2/2 [==============================] - 0s 4ms/step - loss: 8.3848 - mae: 8.3848\n",
            "Epoch 99/100\n",
            "2/2 [==============================] - 0s 4ms/step - loss: 9.7828 - mae: 9.7828\n",
            "Epoch 100/100\n",
            "2/2 [==============================] - 0s 3ms/step - loss: 8.5252 - mae: 8.5252\n"
          ],
          "name": "stdout"
        },
        {
          "output_type": "execute_result",
          "data": {
            "text/plain": [
              "<tensorflow.python.keras.callbacks.History at 0x7fb01000c210>"
            ]
          },
          "metadata": {
            "tags": []
          },
          "execution_count": 49
        }
      ]
    },
    {
      "cell_type": "code",
      "metadata": {
        "colab": {
          "base_uri": "https://localhost:8080/",
          "height": 465
        },
        "id": "9Wfj4dqK-z6H",
        "outputId": "514d16d8-8a0a-43cc-ab5b-aec13938d78c"
      },
      "source": [
        "# Make and plot predictions for model_1\n",
        "y_preds_1 = model_1.predict(X_test)\n",
        "plot_predictions(predictions=y_preds_1)"
      ],
      "execution_count": 50,
      "outputs": [
        {
          "output_type": "stream",
          "text": [
            "WARNING:tensorflow:5 out of the last 5 calls to <function Model.make_predict_function.<locals>.predict_function at 0x7fb00f6b4e60> triggered tf.function retracing. Tracing is expensive and the excessive number of tracings could be due to (1) creating @tf.function repeatedly in a loop, (2) passing tensors with different shapes, (3) passing Python objects instead of tensors. For (1), please define your @tf.function outside of the loop. For (2), @tf.function has experimental_relax_shapes=True option that relaxes argument shapes that can avoid unnecessary retracing. For (3), please refer to https://www.tensorflow.org/guide/function#controlling_retracing and https://www.tensorflow.org/api_docs/python/tf/function for  more details.\n"
          ],
          "name": "stdout"
        },
        {
          "output_type": "display_data",
          "data": {
            "image/png": "[encoded data removed]",
            "text/plain": [
              "<Figure size 720x504 with 1 Axes>"
            ]
          },
          "metadata": {
            "tags": [],
            "needs_background": "light"
          }
        }
      ]
    },
    {
      "cell_type": "code",
      "metadata": {
        "colab": {
          "base_uri": "https://localhost:8080/"
        },
        "id": "7B2ujgQeALRb",
        "outputId": "bffe4186-6e69-4f72-c662-dfe705b76ae4"
      },
      "source": [
        "# Calculate model_1 evaluation metrics\n",
        "mae_1 = mae(y_test, y_preds_1)\n",
        "mse_1 = mse(y_test, y_preds_1)\n",
        "mae_1, mse_1"
      ],
      "execution_count": 51,
      "outputs": [
        {
          "output_type": "execute_result",
          "data": {
            "text/plain": [
              "(<tf.Tensor: shape=(), dtype=float32, numpy=18.745327>,\n",
              " <tf.Tensor: shape=(), dtype=float32, numpy=353.57336>)"
            ]
          },
          "metadata": {
            "tags": []
          },
          "execution_count": 51
        }
      ]
    },
    {
      "cell_type": "markdown",
      "metadata": {
        "id": "lMKAg48cAcAX"
      },
      "source": [
        "**Build `model_2`**\n",
        "\n",
        "* 2 dense layers, trained for 100 epochs"
      ]
    },
    {
      "cell_type": "code",
      "metadata": {
        "colab": {
          "base_uri": "https://localhost:8080/"
        },
        "id": "KfNxa4oOBK55",
        "outputId": "9d36abc3-ea1f-40c3-8204-cb772efcac78"
      },
      "source": [
        "# Set the random seed\n",
        "tf.random.set_seed(42)\n",
        "\n",
        "# 1. Create the model\n",
        "model_2 = tf.keras.Sequential([\n",
        "  tf.keras.layers.Dense(10),\n",
        "  tf.keras.layers.Dense(1)\n",
        "])\n",
        "\n",
        "# 2. Compile the model\n",
        "model_2.compile(loss=tf.keras.losses.mae,\n",
        "                optimizer=tf.keras.optimizers.SGD(),\n",
        "                metrics=[\"mse\"])\n",
        "\n",
        "# 3. Fit the model\n",
        "model_2.fit(X_train, y_train, epochs=100)"
      ],
      "execution_count": 52,
      "outputs": [
        {
          "output_type": "stream",
          "text": [
            "Epoch 1/100\n",
            "2/2 [==============================] - 0s 7ms/step - loss: 26.8627 - mse: 1015.8976\n",
            "Epoch 2/100\n",
            "2/2 [==============================] - 0s 5ms/step - loss: 24.4175 - mse: 767.5334\n",
            "Epoch 3/100\n",
            "2/2 [==============================] - 0s 8ms/step - loss: 31.5187 - mse: 1433.3081\n",
            "Epoch 4/100\n",
            "2/2 [==============================] - 0s 2ms/step - loss: 27.8490 - mse: 1141.6671\n",
            "Epoch 5/100\n",
            "2/2 [==============================] - 0s 4ms/step - loss: 14.6465 - mse: 267.4541\n",
            "Epoch 6/100\n",
            "2/2 [==============================] - 0s 5ms/step - loss: 11.9682 - mse: 169.5529\n",
            "Epoch 7/100\n",
            "2/2 [==============================] - 0s 6ms/step - loss: 11.0874 - mse: 141.6589\n",
            "Epoch 8/100\n",
            "2/2 [==============================] - 0s 5ms/step - loss: 11.3978 - mse: 167.3422\n",
            "Epoch 9/100\n",
            "2/2 [==============================] - 0s 4ms/step - loss: 42.4087 - mse: 2772.5432\n",
            "Epoch 10/100\n",
            "2/2 [==============================] - 0s 6ms/step - loss: 28.3537 - mse: 1129.8181\n",
            "Epoch 11/100\n",
            "2/2 [==============================] - 0s 6ms/step - loss: 9.6590 - mse: 132.9751\n",
            "Epoch 12/100\n",
            "2/2 [==============================] - 0s 8ms/step - loss: 25.8820 - mse: 933.4347\n",
            "Epoch 13/100\n",
            "2/2 [==============================] - 0s 5ms/step - loss: 16.7682 - mse: 398.1734\n",
            "Epoch 14/100\n",
            "2/2 [==============================] - 0s 6ms/step - loss: 26.6019 - mse: 1102.2358\n",
            "Epoch 15/100\n",
            "2/2 [==============================] - 0s 4ms/step - loss: 17.7361 - mse: 441.0350\n",
            "Epoch 16/100\n",
            "2/2 [==============================] - 0s 4ms/step - loss: 7.4550 - mse: 81.2729\n",
            "Epoch 17/100\n",
            "2/2 [==============================] - 0s 7ms/step - loss: 10.6974 - mse: 163.8851\n",
            "Epoch 18/100\n",
            "2/2 [==============================] - 0s 5ms/step - loss: 20.7691 - mse: 610.4133\n",
            "Epoch 19/100\n",
            "2/2 [==============================] - 0s 7ms/step - loss: 9.6535 - mse: 146.6566\n",
            "Epoch 20/100\n",
            "2/2 [==============================] - 0s 9ms/step - loss: 18.4600 - mse: 487.0986\n",
            "Epoch 21/100\n",
            "2/2 [==============================] - 0s 8ms/step - loss: 16.2352 - mse: 362.8490\n",
            "Epoch 22/100\n",
            "2/2 [==============================] - 0s 6ms/step - loss: 14.5012 - mse: 290.6680\n",
            "Epoch 23/100\n",
            "2/2 [==============================] - 0s 3ms/step - loss: 8.6493 - mse: 88.0710\n",
            "Epoch 24/100\n",
            "2/2 [==============================] - 0s 6ms/step - loss: 10.4430 - mse: 131.0228\n",
            "Epoch 25/100\n",
            "2/2 [==============================] - 0s 10ms/step - loss: 12.8060 - mse: 237.9437\n",
            "Epoch 26/100\n",
            "2/2 [==============================] - 0s 4ms/step - loss: 26.8011 - mse: 1075.4349\n",
            "Epoch 27/100\n",
            "2/2 [==============================] - 0s 3ms/step - loss: 12.0333 - mse: 202.1001\n",
            "Epoch 28/100\n",
            "2/2 [==============================] - 0s 5ms/step - loss: 23.4573 - mse: 871.2026\n",
            "Epoch 29/100\n",
            "2/2 [==============================] - 0s 4ms/step - loss: 9.1266 - mse: 92.4710\n",
            "Epoch 30/100\n",
            "2/2 [==============================] - 0s 4ms/step - loss: 31.1804 - mse: 1657.8954\n",
            "Epoch 31/100\n",
            "2/2 [==============================] - 0s 4ms/step - loss: 56.8211 - mse: 5441.4578\n",
            "Epoch 32/100\n",
            "2/2 [==============================] - 0s 8ms/step - loss: 12.2909 - mse: 221.1293\n",
            "Epoch 33/100\n",
            "2/2 [==============================] - 0s 4ms/step - loss: 15.3304 - mse: 330.0120\n",
            "Epoch 34/100\n",
            "2/2 [==============================] - 0s 7ms/step - loss: 12.8145 - mse: 215.9797\n",
            "Epoch 35/100\n",
            "2/2 [==============================] - 0s 4ms/step - loss: 9.4721 - mse: 95.5154\n",
            "Epoch 36/100\n",
            "2/2 [==============================] - 0s 8ms/step - loss: 16.6526 - mse: 404.8040\n",
            "Epoch 37/100\n",
            "2/2 [==============================] - 0s 8ms/step - loss: 10.4634 - mse: 169.1310\n",
            "Epoch 38/100\n",
            "2/2 [==============================] - 0s 6ms/step - loss: 18.7760 - mse: 459.8314\n",
            "Epoch 39/100\n",
            "2/2 [==============================] - 0s 4ms/step - loss: 20.1198 - mse: 569.0893\n",
            "Epoch 40/100\n",
            "2/2 [==============================] - 0s 4ms/step - loss: 21.4944 - mse: 654.6215\n",
            "Epoch 41/100\n",
            "2/2 [==============================] - 0s 5ms/step - loss: 14.5667 - mse: 268.1430\n",
            "Epoch 42/100\n",
            "2/2 [==============================] - 0s 9ms/step - loss: 12.2999 - mse: 188.8544\n",
            "Epoch 43/100\n",
            "2/2 [==============================] - 0s 3ms/step - loss: 11.1115 - mse: 175.7055\n",
            "Epoch 44/100\n",
            "2/2 [==============================] - 0s 5ms/step - loss: 23.5895 - mse: 869.7923\n",
            "Epoch 45/100\n",
            "2/2 [==============================] - 0s 7ms/step - loss: 9.9461 - mse: 113.3929\n",
            "Epoch 46/100\n",
            "2/2 [==============================] - 0s 5ms/step - loss: 12.0273 - mse: 188.4640\n",
            "Epoch 47/100\n",
            "2/2 [==============================] - 0s 5ms/step - loss: 9.0557 - mse: 132.7936\n",
            "Epoch 48/100\n",
            "2/2 [==============================] - 0s 4ms/step - loss: 17.8711 - mse: 427.6238\n",
            "Epoch 49/100\n",
            "2/2 [==============================] - 0s 7ms/step - loss: 9.5485 - mse: 96.8224\n",
            "Epoch 50/100\n",
            "2/2 [==============================] - 0s 6ms/step - loss: 13.7912 - mse: 256.8746\n",
            "Epoch 51/100\n",
            "2/2 [==============================] - 0s 7ms/step - loss: 11.2969 - mse: 145.4000\n",
            "Epoch 52/100\n",
            "2/2 [==============================] - 0s 4ms/step - loss: 32.1753 - mse: 1732.7588\n",
            "Epoch 53/100\n",
            "2/2 [==============================] - 0s 4ms/step - loss: 14.1257 - mse: 300.5092\n",
            "Epoch 54/100\n",
            "2/2 [==============================] - 0s 6ms/step - loss: 24.3921 - mse: 897.0253\n",
            "Epoch 55/100\n",
            "2/2 [==============================] - 0s 6ms/step - loss: 23.5967 - mse: 834.7571\n",
            "Epoch 56/100\n",
            "2/2 [==============================] - 0s 6ms/step - loss: 10.0101 - mse: 137.5419\n",
            "Epoch 57/100\n",
            "2/2 [==============================] - 0s 6ms/step - loss: 12.4333 - mse: 186.3946\n",
            "Epoch 58/100\n",
            "2/2 [==============================] - 0s 4ms/step - loss: 9.4491 - mse: 96.3009\n",
            "Epoch 59/100\n",
            "2/2 [==============================] - 0s 6ms/step - loss: 12.6438 - mse: 218.5184\n",
            "Epoch 60/100\n",
            "2/2 [==============================] - 0s 4ms/step - loss: 12.3168 - mse: 208.3239\n",
            "Epoch 61/100\n",
            "2/2 [==============================] - 0s 4ms/step - loss: 17.1832 - mse: 422.8597\n",
            "Epoch 62/100\n",
            "2/2 [==============================] - 0s 9ms/step - loss: 10.4860 - mse: 128.6800\n",
            "Epoch 63/100\n",
            "2/2 [==============================] - 0s 7ms/step - loss: 10.8072 - mse: 160.7222\n",
            "Epoch 64/100\n",
            "2/2 [==============================] - 0s 5ms/step - loss: 25.2892 - mse: 945.1685\n",
            "Epoch 65/100\n",
            "2/2 [==============================] - 0s 6ms/step - loss: 10.7923 - mse: 145.3387\n",
            "Epoch 66/100\n",
            "2/2 [==============================] - 0s 9ms/step - loss: 22.0328 - mse: 725.3462\n",
            "Epoch 67/100\n",
            "2/2 [==============================] - 0s 10ms/step - loss: 10.6505 - mse: 132.1476\n",
            "Epoch 68/100\n",
            "2/2 [==============================] - 0s 7ms/step - loss: 10.8455 - mse: 155.3464\n",
            "Epoch 69/100\n",
            "2/2 [==============================] - 0s 4ms/step - loss: 23.0960 - mse: 770.1602\n",
            "Epoch 70/100\n",
            "2/2 [==============================] - 0s 5ms/step - loss: 8.7402 - mse: 139.4087\n",
            "Epoch 71/100\n",
            "2/2 [==============================] - 0s 4ms/step - loss: 15.8968 - mse: 339.6098\n",
            "Epoch 72/100\n",
            "2/2 [==============================] - 0s 9ms/step - loss: 6.7092 - mse: 66.6670\n",
            "Epoch 73/100\n",
            "2/2 [==============================] - 0s 4ms/step - loss: 10.6475 - mse: 146.9912\n",
            "Epoch 74/100\n",
            "2/2 [==============================] - 0s 10ms/step - loss: 24.6152 - mse: 948.2740\n",
            "Epoch 75/100\n",
            "2/2 [==============================] - 0s 7ms/step - loss: 8.7602 - mse: 119.7264\n",
            "Epoch 76/100\n",
            "2/2 [==============================] - 0s 7ms/step - loss: 11.9799 - mse: 172.5533\n",
            "Epoch 77/100\n",
            "2/2 [==============================] - 0s 5ms/step - loss: 16.6488 - mse: 432.3298\n",
            "Epoch 78/100\n",
            "2/2 [==============================] - 0s 11ms/step - loss: 9.2784 - mse: 98.6556\n",
            "Epoch 79/100\n",
            "2/2 [==============================] - 0s 7ms/step - loss: 24.4604 - mse: 902.0727\n",
            "Epoch 80/100\n",
            "2/2 [==============================] - 0s 8ms/step - loss: 27.4405 - mse: 1158.6084\n",
            "Epoch 81/100\n",
            "2/2 [==============================] - 0s 4ms/step - loss: 11.7139 - mse: 170.4368\n",
            "Epoch 82/100\n",
            "2/2 [==============================] - 0s 3ms/step - loss: 11.6757 - mse: 196.1245\n",
            "Epoch 83/100\n",
            "2/2 [==============================] - 0s 3ms/step - loss: 17.9045 - mse: 414.3998\n",
            "Epoch 84/100\n",
            "2/2 [==============================] - 0s 3ms/step - loss: 7.0376 - mse: 70.0240\n",
            "Epoch 85/100\n",
            "2/2 [==============================] - 0s 3ms/step - loss: 15.1558 - mse: 321.1297\n",
            "Epoch 86/100\n",
            "2/2 [==============================] - 0s 3ms/step - loss: 15.1583 - mse: 311.4818\n",
            "Epoch 87/100\n",
            "2/2 [==============================] - 0s 3ms/step - loss: 19.8683 - mse: 554.4750\n",
            "Epoch 88/100\n",
            "2/2 [==============================] - 0s 3ms/step - loss: 30.7657 - mse: 1357.5454\n",
            "Epoch 89/100\n",
            "2/2 [==============================] - 0s 3ms/step - loss: 9.7059 - mse: 108.4962\n",
            "Epoch 90/100\n",
            "2/2 [==============================] - 0s 3ms/step - loss: 21.5531 - mse: 674.2966\n",
            "Epoch 91/100\n",
            "2/2 [==============================] - 0s 4ms/step - loss: 9.5827 - mse: 128.0419\n",
            "Epoch 92/100\n",
            "2/2 [==============================] - 0s 4ms/step - loss: 18.2158 - mse: 463.7713\n",
            "Epoch 93/100\n",
            "2/2 [==============================] - 0s 3ms/step - loss: 7.1935 - mse: 75.5075\n",
            "Epoch 94/100\n",
            "2/2 [==============================] - 0s 4ms/step - loss: 17.4261 - mse: 438.1330\n",
            "Epoch 95/100\n",
            "2/2 [==============================] - 0s 4ms/step - loss: 11.1722 - mse: 164.3355\n",
            "Epoch 96/100\n",
            "2/2 [==============================] - 0s 4ms/step - loss: 18.9207 - mse: 491.7021\n",
            "Epoch 97/100\n",
            "2/2 [==============================] - 0s 3ms/step - loss: 12.2012 - mse: 208.9877\n",
            "Epoch 98/100\n",
            "2/2 [==============================] - 0s 3ms/step - loss: 11.2931 - mse: 158.5947\n",
            "Epoch 99/100\n",
            "2/2 [==============================] - 0s 7ms/step - loss: 13.4562 - mse: 254.5623\n",
            "Epoch 100/100\n",
            "2/2 [==============================] - 0s 3ms/step - loss: 20.1754 - mse: 612.1691\n"
          ],
          "name": "stdout"
        },
        {
          "output_type": "execute_result",
          "data": {
            "text/plain": [
              "<tensorflow.python.keras.callbacks.History at 0x7fb00fee4710>"
            ]
          },
          "metadata": {
            "tags": []
          },
          "execution_count": 52
        }
      ]
    },
    {
      "cell_type": "code",
      "metadata": {
        "colab": {
          "base_uri": "https://localhost:8080/",
          "height": 465
        },
        "id": "RW1hakVSCOUg",
        "outputId": "1561f30b-5a2e-4b42-db19-d5608ab490cb"
      },
      "source": [
        "# Make and plot predictions of model_2\n",
        "y_preds_2 = model_2.predict(X_test)\n",
        "plot_predictions(predictions=y_preds_2)"
      ],
      "execution_count": 53,
      "outputs": [
        {
          "output_type": "stream",
          "text": [
            "WARNING:tensorflow:6 out of the last 6 calls to <function Model.make_predict_function.<locals>.predict_function at 0x7fb00ff008c0> triggered tf.function retracing. Tracing is expensive and the excessive number of tracings could be due to (1) creating @tf.function repeatedly in a loop, (2) passing tensors with different shapes, (3) passing Python objects instead of tensors. For (1), please define your @tf.function outside of the loop. For (2), @tf.function has experimental_relax_shapes=True option that relaxes argument shapes that can avoid unnecessary retracing. For (3), please refer to https://www.tensorflow.org/guide/function#controlling_retracing and https://www.tensorflow.org/api_docs/python/tf/function for  more details.\n"
          ],
          "name": "stdout"
        },
        {
          "output_type": "display_data",
          "data": {
            "image/png": "[encoded data removed]",
            "text/plain": [
              "<Figure size 720x504 with 1 Axes>"
            ]
          },
          "metadata": {
            "tags": [],
            "needs_background": "light"
          }
        }
      ]
    },
    {
      "cell_type": "code",
      "metadata": {
        "colab": {
          "base_uri": "https://localhost:8080/"
        },
        "id": "bgQMdpCICc9Q",
        "outputId": "ab4f5a7c-8d24-4756-bab1-9dbbb9ba27b0"
      },
      "source": [
        "# Calculate model_2 evaluation metrics\n",
        "mae_2 = mae(y_test, y_preds_2)\n",
        "mse_2 = mse(y_test, y_preds_2)\n",
        "mae_2, mse_2"
      ],
      "execution_count": 54,
      "outputs": [
        {
          "output_type": "execute_result",
          "data": {
            "text/plain": [
              "(<tf.Tensor: shape=(), dtype=float32, numpy=3.1969407>,\n",
              " <tf.Tensor: shape=(), dtype=float32, numpy=13.070143>)"
            ]
          },
          "metadata": {
            "tags": []
          },
          "execution_count": 54
        }
      ]
    },
    {
      "cell_type": "markdown",
      "metadata": {
        "id": "frsg7iYgCvo8"
      },
      "source": [
        "**Build `model_3`**\n",
        "\n",
        "* 2 layers, trained for 500 epochs"
      ]
    },
    {
      "cell_type": "code",
      "metadata": {
        "colab": {
          "base_uri": "https://localhost:8080/"
        },
        "id": "4sfbKhNdDCXn",
        "outputId": "a3bd0102-d41f-41c4-e1b5-cd6dc7ee2333"
      },
      "source": [
        "# Set random seed\n",
        "tf.random.set_seed(42)\n",
        "\n",
        "# 1. Create a model\n",
        "model_3 = tf.keras.Sequential([\n",
        "  tf.keras.layers.Dense(10),\n",
        "  tf.keras.layers.Dense(1)\n",
        "])\n",
        "\n",
        "# 2. Compile the model\n",
        "model_3.compile(loss=tf.keras.losses.mae,\n",
        "                optimizer=tf.keras.optimizers.SGD(),\n",
        "                metrics=[\"mae\"])\n",
        "\n",
        "# 3. Fit the model\n",
        "model_3.fit(X_train, y_train, epochs=500)"
      ],
      "execution_count": 55,
      "outputs": [
        {
          "output_type": "stream",
          "text": [
            "Epoch 1/500\n",
            "2/2 [==============================] - 0s 5ms/step - loss: 26.8627 - mae: 26.8627\n",
            "Epoch 2/500\n",
            "2/2 [==============================] - 0s 4ms/step - loss: 24.4175 - mae: 24.4175\n",
            "Epoch 3/500\n",
            "2/2 [==============================] - 0s 5ms/step - loss: 31.5187 - mae: 31.5187\n",
            "Epoch 4/500\n",
            "2/2 [==============================] - 0s 3ms/step - loss: 27.8490 - mae: 27.8490\n",
            "Epoch 5/500\n",
            "2/2 [==============================] - 0s 8ms/step - loss: 14.6465 - mae: 14.6465\n",
            "Epoch 6/500\n",
            "2/2 [==============================] - 0s 5ms/step - loss: 11.9682 - mae: 11.9682\n",
            "Epoch 7/500\n",
            "2/2 [==============================] - 0s 3ms/step - loss: 11.0874 - mae: 11.0874\n",
            "Epoch 8/500\n",
            "2/2 [==============================] - 0s 8ms/step - loss: 11.3978 - mae: 11.3978\n",
            "Epoch 9/500\n",
            "2/2 [==============================] - 0s 3ms/step - loss: 42.4087 - mae: 42.4087\n",
            "Epoch 10/500\n",
            "2/2 [==============================] - 0s 4ms/step - loss: 28.3537 - mae: 28.3537\n",
            "Epoch 11/500\n",
            "2/2 [==============================] - 0s 3ms/step - loss: 9.6590 - mae: 9.6590\n",
            "Epoch 12/500\n",
            "2/2 [==============================] - 0s 3ms/step - loss: 25.8820 - mae: 25.8820\n",
            "Epoch 13/500\n",
            "2/2 [==============================] - 0s 6ms/step - loss: 16.7682 - mae: 16.7682\n",
            "Epoch 14/500\n",
            "2/2 [==============================] - 0s 3ms/step - loss: 26.6019 - mae: 26.6019\n",
            "Epoch 15/500\n",
            "2/2 [==============================] - 0s 4ms/step - loss: 17.7361 - mae: 17.7361\n",
            "Epoch 16/500\n",
            "2/2 [==============================] - 0s 3ms/step - loss: 7.4550 - mae: 7.4550\n",
            "Epoch 17/500\n",
            "2/2 [==============================] - 0s 4ms/step - loss: 10.6974 - mae: 10.6974\n",
            "Epoch 18/500\n",
            "2/2 [==============================] - 0s 3ms/step - loss: 20.7691 - mae: 20.7691\n",
            "Epoch 19/500\n",
            "2/2 [==============================] - 0s 3ms/step - loss: 9.6535 - mae: 9.6535\n",
            "Epoch 20/500\n",
            "2/2 [==============================] - 0s 3ms/step - loss: 18.4600 - mae: 18.4600\n",
            "Epoch 21/500\n",
            "2/2 [==============================] - 0s 4ms/step - loss: 16.2352 - mae: 16.2352\n",
            "Epoch 22/500\n",
            "2/2 [==============================] - 0s 4ms/step - loss: 14.5012 - mae: 14.5012\n",
            "Epoch 23/500\n",
            "2/2 [==============================] - 0s 3ms/step - loss: 8.6493 - mae: 8.6493\n",
            "Epoch 24/500\n",
            "2/2 [==============================] - 0s 3ms/step - loss: 10.4430 - mae: 10.4430\n",
            "Epoch 25/500\n",
            "2/2 [==============================] - 0s 3ms/step - loss: 12.8060 - mae: 12.8060\n",
            "Epoch 26/500\n",
            "2/2 [==============================] - 0s 4ms/step - loss: 26.8011 - mae: 26.8011\n",
            "Epoch 27/500\n",
            "2/2 [==============================] - 0s 6ms/step - loss: 12.0333 - mae: 12.0333\n",
            "Epoch 28/500\n",
            "2/2 [==============================] - 0s 3ms/step - loss: 23.4573 - mae: 23.4573\n",
            "Epoch 29/500\n",
            "2/2 [==============================] - 0s 3ms/step - loss: 9.1266 - mae: 9.1266\n",
            "Epoch 30/500\n",
            "2/2 [==============================] - 0s 3ms/step - loss: 31.1804 - mae: 31.1804\n",
            "Epoch 31/500\n",
            "2/2 [==============================] - 0s 4ms/step - loss: 56.8211 - mae: 56.8211\n",
            "Epoch 32/500\n",
            "2/2 [==============================] - 0s 4ms/step - loss: 12.2909 - mae: 12.2909\n",
            "Epoch 33/500\n",
            "2/2 [==============================] - 0s 7ms/step - loss: 15.3304 - mae: 15.3304\n",
            "Epoch 34/500\n",
            "2/2 [==============================] - 0s 4ms/step - loss: 12.8145 - mae: 12.8145\n",
            "Epoch 35/500\n",
            "2/2 [==============================] - 0s 3ms/step - loss: 9.4721 - mae: 9.4721\n",
            "Epoch 36/500\n",
            "2/2 [==============================] - 0s 3ms/step - loss: 16.6526 - mae: 16.6526\n",
            "Epoch 37/500\n",
            "2/2 [==============================] - 0s 3ms/step - loss: 10.4634 - mae: 10.4634\n",
            "Epoch 38/500\n",
            "2/2 [==============================] - 0s 3ms/step - loss: 18.7760 - mae: 18.7760\n",
            "Epoch 39/500\n",
            "2/2 [==============================] - 0s 7ms/step - loss: 20.1198 - mae: 20.1198\n",
            "Epoch 40/500\n",
            "2/2 [==============================] - 0s 4ms/step - loss: 21.4944 - mae: 21.4944\n",
            "Epoch 41/500\n",
            "2/2 [==============================] - 0s 4ms/step - loss: 14.5667 - mae: 14.5667\n",
            "Epoch 42/500\n",
            "2/2 [==============================] - 0s 7ms/step - loss: 12.2999 - mae: 12.2999\n",
            "Epoch 43/500\n",
            "2/2 [==============================] - 0s 13ms/step - loss: 11.1115 - mae: 11.1115\n",
            "Epoch 44/500\n",
            "2/2 [==============================] - 0s 12ms/step - loss: 23.5895 - mae: 23.5895\n",
            "Epoch 45/500\n",
            "2/2 [==============================] - 0s 8ms/step - loss: 9.9461 - mae: 9.9461\n",
            "Epoch 46/500\n",
            "2/2 [==============================] - 0s 5ms/step - loss: 12.0273 - mae: 12.0273\n",
            "Epoch 47/500\n",
            "2/2 [==============================] - 0s 9ms/step - loss: 9.0557 - mae: 9.0557\n",
            "Epoch 48/500\n",
            "2/2 [==============================] - 0s 3ms/step - loss: 17.8711 - mae: 17.8711\n",
            "Epoch 49/500\n",
            "2/2 [==============================] - 0s 4ms/step - loss: 9.5485 - mae: 9.5485\n",
            "Epoch 50/500\n",
            "2/2 [==============================] - 0s 4ms/step - loss: 13.7912 - mae: 13.7912\n",
            "Epoch 51/500\n",
            "2/2 [==============================] - 0s 4ms/step - loss: 11.2969 - mae: 11.2969\n",
            "Epoch 52/500\n",
            "2/2 [==============================] - 0s 4ms/step - loss: 32.1753 - mae: 32.1753\n",
            "Epoch 53/500\n",
            "2/2 [==============================] - 0s 4ms/step - loss: 14.1257 - mae: 14.1257\n",
            "Epoch 54/500\n",
            "2/2 [==============================] - 0s 4ms/step - loss: 24.3921 - mae: 24.3921\n",
            "Epoch 55/500\n",
            "2/2 [==============================] - 0s 11ms/step - loss: 23.5967 - mae: 23.5967\n",
            "Epoch 56/500\n",
            "2/2 [==============================] - 0s 3ms/step - loss: 10.0101 - mae: 10.0101\n",
            "Epoch 57/500\n",
            "2/2 [==============================] - 0s 4ms/step - loss: 12.4333 - mae: 12.4333\n",
            "Epoch 58/500\n",
            "2/2 [==============================] - 0s 3ms/step - loss: 9.4491 - mae: 9.4491\n",
            "Epoch 59/500\n",
            "2/2 [==============================] - 0s 11ms/step - loss: 12.6438 - mae: 12.6438\n",
            "Epoch 60/500\n",
            "2/2 [==============================] - 0s 5ms/step - loss: 12.3168 - mae: 12.3168\n",
            "Epoch 61/500\n",
            "2/2 [==============================] - 0s 5ms/step - loss: 17.1832 - mae: 17.1832\n",
            "Epoch 62/500\n",
            "2/2 [==============================] - 0s 16ms/step - loss: 10.4860 - mae: 10.4860\n",
            "Epoch 63/500\n",
            "2/2 [==============================] - 0s 16ms/step - loss: 10.8072 - mae: 10.8072\n",
            "Epoch 64/500\n",
            "2/2 [==============================] - 0s 6ms/step - loss: 25.2892 - mae: 25.2892\n",
            "Epoch 65/500\n",
            "2/2 [==============================] - 0s 3ms/step - loss: 10.7923 - mae: 10.7923\n",
            "Epoch 66/500\n",
            "2/2 [==============================] - 0s 3ms/step - loss: 22.0328 - mae: 22.0328\n",
            "Epoch 67/500\n",
            "2/2 [==============================] - 0s 3ms/step - loss: 10.6505 - mae: 10.6505\n",
            "Epoch 68/500\n",
            "2/2 [==============================] - 0s 4ms/step - loss: 10.8455 - mae: 10.8455\n",
            "Epoch 69/500\n",
            "2/2 [==============================] - 0s 4ms/step - loss: 23.0960 - mae: 23.0960\n",
            "Epoch 70/500\n",
            "2/2 [==============================] - 0s 6ms/step - loss: 8.7402 - mae: 8.7402\n",
            "Epoch 71/500\n",
            "2/2 [==============================] - 0s 3ms/step - loss: 15.8968 - mae: 15.8968\n",
            "Epoch 72/500\n",
            "2/2 [==============================] - 0s 3ms/step - loss: 6.7092 - mae: 6.7092\n",
            "Epoch 73/500\n",
            "2/2 [==============================] - 0s 4ms/step - loss: 10.6475 - mae: 10.6475\n",
            "Epoch 74/500\n",
            "2/2 [==============================] - 0s 3ms/step - loss: 24.6152 - mae: 24.6152\n",
            "Epoch 75/500\n",
            "2/2 [==============================] - 0s 9ms/step - loss: 8.7602 - mae: 8.7602\n",
            "Epoch 76/500\n",
            "2/2 [==============================] - 0s 4ms/step - loss: 11.9799 - mae: 11.9799\n",
            "Epoch 77/500\n",
            "2/2 [==============================] - 0s 3ms/step - loss: 16.6488 - mae: 16.6488\n",
            "Epoch 78/500\n",
            "2/2 [==============================] - 0s 3ms/step - loss: 9.2784 - mae: 9.2784\n",
            "Epoch 79/500\n",
            "2/2 [==============================] - 0s 3ms/step - loss: 24.4604 - mae: 24.4604\n",
            "Epoch 80/500\n",
            "2/2 [==============================] - 0s 3ms/step - loss: 27.4405 - mae: 27.4405\n",
            "Epoch 81/500\n",
            "2/2 [==============================] - 0s 3ms/step - loss: 11.7139 - mae: 11.7139\n",
            "Epoch 82/500\n",
            "2/2 [==============================] - 0s 9ms/step - loss: 11.6757 - mae: 11.6757\n",
            "Epoch 83/500\n",
            "2/2 [==============================] - 0s 3ms/step - loss: 17.9045 - mae: 17.9045\n",
            "Epoch 84/500\n",
            "2/2 [==============================] - 0s 3ms/step - loss: 7.0376 - mae: 7.0376\n",
            "Epoch 85/500\n",
            "2/2 [==============================] - 0s 3ms/step - loss: 15.1558 - mae: 15.1558\n",
            "Epoch 86/500\n",
            "2/2 [==============================] - 0s 3ms/step - loss: 15.1583 - mae: 15.1583\n",
            "Epoch 87/500\n",
            "2/2 [==============================] - 0s 3ms/step - loss: 19.8683 - mae: 19.8683\n",
            "Epoch 88/500\n",
            "2/2 [==============================] - 0s 3ms/step - loss: 30.7657 - mae: 30.7657\n",
            "Epoch 89/500\n",
            "2/2 [==============================] - 0s 5ms/step - loss: 9.7059 - mae: 9.7059\n",
            "Epoch 90/500\n",
            "2/2 [==============================] - 0s 4ms/step - loss: 21.5531 - mae: 21.5531\n",
            "Epoch 91/500\n",
            "2/2 [==============================] - 0s 3ms/step - loss: 9.5827 - mae: 9.5827\n",
            "Epoch 92/500\n",
            "2/2 [==============================] - 0s 4ms/step - loss: 18.2158 - mae: 18.2158\n",
            "Epoch 93/500\n",
            "2/2 [==============================] - 0s 3ms/step - loss: 7.1935 - mae: 7.1935\n",
            "Epoch 94/500\n",
            "2/2 [==============================] - 0s 6ms/step - loss: 17.4261 - mae: 17.4261\n",
            "Epoch 95/500\n",
            "2/2 [==============================] - 0s 4ms/step - loss: 11.1722 - mae: 11.1722\n",
            "Epoch 96/500\n",
            "2/2 [==============================] - 0s 4ms/step - loss: 18.9207 - mae: 18.9207\n",
            "Epoch 97/500\n",
            "2/2 [==============================] - 0s 3ms/step - loss: 12.2012 - mae: 12.2012\n",
            "Epoch 98/500\n",
            "2/2 [==============================] - 0s 4ms/step - loss: 11.2931 - mae: 11.2931\n",
            "Epoch 99/500\n",
            "2/2 [==============================] - 0s 3ms/step - loss: 13.4562 - mae: 13.4562\n",
            "Epoch 100/500\n",
            "2/2 [==============================] - 0s 3ms/step - loss: 20.1754 - mae: 20.1754\n",
            "Epoch 101/500\n",
            "2/2 [==============================] - 0s 3ms/step - loss: 11.4395 - mae: 11.4395\n",
            "Epoch 102/500\n",
            "2/2 [==============================] - 0s 3ms/step - loss: 17.0888 - mae: 17.0888\n",
            "Epoch 103/500\n",
            "2/2 [==============================] - 0s 3ms/step - loss: 6.9455 - mae: 6.9455\n",
            "Epoch 104/500\n",
            "2/2 [==============================] - 0s 3ms/step - loss: 24.3779 - mae: 24.3779\n",
            "Epoch 105/500\n",
            "2/2 [==============================] - 0s 3ms/step - loss: 16.8800 - mae: 16.8800\n",
            "Epoch 106/500\n",
            "2/2 [==============================] - 0s 3ms/step - loss: 8.5557 - mae: 8.5557\n",
            "Epoch 107/500\n",
            "2/2 [==============================] - 0s 3ms/step - loss: 26.5426 - mae: 26.5426\n",
            "Epoch 108/500\n",
            "2/2 [==============================] - 0s 3ms/step - loss: 13.2375 - mae: 13.2375\n",
            "Epoch 109/500\n",
            "2/2 [==============================] - 0s 3ms/step - loss: 9.1284 - mae: 9.1284\n",
            "Epoch 110/500\n",
            "2/2 [==============================] - 0s 4ms/step - loss: 8.9256 - mae: 8.9256\n",
            "Epoch 111/500\n",
            "2/2 [==============================] - 0s 3ms/step - loss: 14.0550 - mae: 14.0550\n",
            "Epoch 112/500\n",
            "2/2 [==============================] - 0s 6ms/step - loss: 9.7418 - mae: 9.7418\n",
            "Epoch 113/500\n",
            "2/2 [==============================] - 0s 3ms/step - loss: 17.5151 - mae: 17.5151\n",
            "Epoch 114/500\n",
            "2/2 [==============================] - 0s 3ms/step - loss: 17.0304 - mae: 17.0304\n",
            "Epoch 115/500\n",
            "2/2 [==============================] - 0s 3ms/step - loss: 10.9228 - mae: 10.9228\n",
            "Epoch 116/500\n",
            "2/2 [==============================] - 0s 4ms/step - loss: 23.5453 - mae: 23.5453\n",
            "Epoch 117/500\n",
            "2/2 [==============================] - 0s 3ms/step - loss: 8.8340 - mae: 8.8340\n",
            "Epoch 118/500\n",
            "2/2 [==============================] - 0s 6ms/step - loss: 10.2978 - mae: 10.2978\n",
            "Epoch 119/500\n",
            "2/2 [==============================] - 0s 4ms/step - loss: 8.3192 - mae: 8.3192\n",
            "Epoch 120/500\n",
            "2/2 [==============================] - 0s 3ms/step - loss: 30.7265 - mae: 30.7265\n",
            "Epoch 121/500\n",
            "2/2 [==============================] - 0s 3ms/step - loss: 8.1436 - mae: 8.1436\n",
            "Epoch 122/500\n",
            "2/2 [==============================] - 0s 4ms/step - loss: 29.4327 - mae: 29.4327\n",
            "Epoch 123/500\n",
            "2/2 [==============================] - 0s 3ms/step - loss: 34.2183 - mae: 34.2183\n",
            "Epoch 124/500\n",
            "2/2 [==============================] - 0s 3ms/step - loss: 19.6697 - mae: 19.6697\n",
            "Epoch 125/500\n",
            "2/2 [==============================] - 0s 4ms/step - loss: 6.5959 - mae: 6.5959\n",
            "Epoch 126/500\n",
            "2/2 [==============================] - 0s 3ms/step - loss: 21.8683 - mae: 21.8683\n",
            "Epoch 127/500\n",
            "2/2 [==============================] - 0s 4ms/step - loss: 8.0892 - mae: 8.0892\n",
            "Epoch 128/500\n",
            "2/2 [==============================] - 0s 4ms/step - loss: 21.1329 - mae: 21.1329\n",
            "Epoch 129/500\n",
            "2/2 [==============================] - 0s 3ms/step - loss: 9.3481 - mae: 9.3481\n",
            "Epoch 130/500\n",
            "2/2 [==============================] - 0s 4ms/step - loss: 24.2633 - mae: 24.2633\n",
            "Epoch 131/500\n",
            "2/2 [==============================] - 0s 3ms/step - loss: 9.9302 - mae: 9.9302\n",
            "Epoch 132/500\n",
            "2/2 [==============================] - 0s 4ms/step - loss: 18.3634 - mae: 18.3634\n",
            "Epoch 133/500\n",
            "2/2 [==============================] - 0s 3ms/step - loss: 7.2677 - mae: 7.2677\n",
            "Epoch 134/500\n",
            "2/2 [==============================] - 0s 3ms/step - loss: 18.4166 - mae: 18.4166\n",
            "Epoch 135/500\n",
            "2/2 [==============================] - 0s 6ms/step - loss: 9.7401 - mae: 9.7401\n",
            "Epoch 136/500\n",
            "2/2 [==============================] - 0s 3ms/step - loss: 17.8516 - mae: 17.8516\n",
            "Epoch 137/500\n",
            "2/2 [==============================] - 0s 9ms/step - loss: 22.9936 - mae: 22.9936\n",
            "Epoch 138/500\n",
            "2/2 [==============================] - 0s 6ms/step - loss: 8.2013 - mae: 8.2013\n",
            "Epoch 139/500\n",
            "2/2 [==============================] - 0s 5ms/step - loss: 8.0097 - mae: 8.0097\n",
            "Epoch 140/500\n",
            "2/2 [==============================] - 0s 8ms/step - loss: 15.9624 - mae: 15.9624\n",
            "Epoch 141/500\n",
            "2/2 [==============================] - 0s 3ms/step - loss: 8.6422 - mae: 8.6422\n",
            "Epoch 142/500\n",
            "2/2 [==============================] - 0s 5ms/step - loss: 39.2127 - mae: 39.2127\n",
            "Epoch 143/500\n",
            "2/2 [==============================] - 0s 6ms/step - loss: 25.9599 - mae: 25.9599\n",
            "Epoch 144/500\n",
            "2/2 [==============================] - 0s 9ms/step - loss: 8.6134 - mae: 8.6134\n",
            "Epoch 145/500\n",
            "2/2 [==============================] - 0s 5ms/step - loss: 27.7680 - mae: 27.7680\n",
            "Epoch 146/500\n",
            "2/2 [==============================] - 0s 6ms/step - loss: 8.3428 - mae: 8.3428\n",
            "Epoch 147/500\n",
            "2/2 [==============================] - 0s 6ms/step - loss: 15.0730 - mae: 15.0730\n",
            "Epoch 148/500\n",
            "2/2 [==============================] - 0s 6ms/step - loss: 19.1933 - mae: 19.1933\n",
            "Epoch 149/500\n",
            "2/2 [==============================] - 0s 4ms/step - loss: 7.4993 - mae: 7.4993\n",
            "Epoch 150/500\n",
            "2/2 [==============================] - 0s 4ms/step - loss: 7.4097 - mae: 7.4097\n",
            "Epoch 151/500\n",
            "2/2 [==============================] - 0s 5ms/step - loss: 18.1762 - mae: 18.1762\n",
            "Epoch 152/500\n",
            "2/2 [==============================] - 0s 5ms/step - loss: 9.9065 - mae: 9.9065\n",
            "Epoch 153/500\n",
            "2/2 [==============================] - 0s 6ms/step - loss: 30.6868 - mae: 30.6868\n",
            "Epoch 154/500\n",
            "2/2 [==============================] - 0s 4ms/step - loss: 9.6497 - mae: 9.6497\n",
            "Epoch 155/500\n",
            "2/2 [==============================] - 0s 5ms/step - loss: 16.0886 - mae: 16.0886\n",
            "Epoch 156/500\n",
            "2/2 [==============================] - 0s 5ms/step - loss: 18.0462 - mae: 18.0462\n",
            "Epoch 157/500\n",
            "2/2 [==============================] - 0s 3ms/step - loss: 34.4868 - mae: 34.4868\n",
            "Epoch 158/500\n",
            "2/2 [==============================] - 0s 3ms/step - loss: 10.3002 - mae: 10.3002\n",
            "Epoch 159/500\n",
            "2/2 [==============================] - 0s 3ms/step - loss: 8.5288 - mae: 8.5288\n",
            "Epoch 160/500\n",
            "2/2 [==============================] - 0s 3ms/step - loss: 22.2562 - mae: 22.2562\n",
            "Epoch 161/500\n",
            "2/2 [==============================] - 0s 10ms/step - loss: 11.2986 - mae: 11.2986\n",
            "Epoch 162/500\n",
            "2/2 [==============================] - 0s 11ms/step - loss: 21.5576 - mae: 21.5576\n",
            "Epoch 163/500\n",
            "2/2 [==============================] - 0s 3ms/step - loss: 18.8924 - mae: 18.8924\n",
            "Epoch 164/500\n",
            "2/2 [==============================] - 0s 3ms/step - loss: 10.9458 - mae: 10.9458\n",
            "Epoch 165/500\n",
            "2/2 [==============================] - 0s 5ms/step - loss: 8.7489 - mae: 8.7489\n",
            "Epoch 166/500\n",
            "2/2 [==============================] - 0s 8ms/step - loss: 22.6552 - mae: 22.6552\n",
            "Epoch 167/500\n",
            "2/2 [==============================] - 0s 3ms/step - loss: 26.9724 - mae: 26.9724\n",
            "Epoch 168/500\n",
            "2/2 [==============================] - 0s 3ms/step - loss: 9.2709 - mae: 9.2709\n",
            "Epoch 169/500\n",
            "2/2 [==============================] - 0s 6ms/step - loss: 23.1678 - mae: 23.1678\n",
            "Epoch 170/500\n",
            "2/2 [==============================] - 0s 7ms/step - loss: 9.3051 - mae: 9.3051\n",
            "Epoch 171/500\n",
            "2/2 [==============================] - 0s 3ms/step - loss: 18.9237 - mae: 18.9237\n",
            "Epoch 172/500\n",
            "2/2 [==============================] - 0s 3ms/step - loss: 29.9900 - mae: 29.9900\n",
            "Epoch 173/500\n",
            "2/2 [==============================] - 0s 3ms/step - loss: 16.4918 - mae: 16.4918\n",
            "Epoch 174/500\n",
            "2/2 [==============================] - 0s 3ms/step - loss: 10.2796 - mae: 10.2796\n",
            "Epoch 175/500\n",
            "2/2 [==============================] - 0s 5ms/step - loss: 28.8074 - mae: 28.8074\n",
            "Epoch 176/500\n",
            "2/2 [==============================] - 0s 5ms/step - loss: 8.1042 - mae: 8.1042\n",
            "Epoch 177/500\n",
            "2/2 [==============================] - 0s 3ms/step - loss: 8.8722 - mae: 8.8722\n",
            "Epoch 178/500\n",
            "2/2 [==============================] - 0s 3ms/step - loss: 17.8721 - mae: 17.8721\n",
            "Epoch 179/500\n",
            "2/2 [==============================] - 0s 3ms/step - loss: 10.4428 - mae: 10.4428\n",
            "Epoch 180/500\n",
            "2/2 [==============================] - 0s 3ms/step - loss: 7.2716 - mae: 7.2716\n",
            "Epoch 181/500\n",
            "2/2 [==============================] - 0s 6ms/step - loss: 17.0166 - mae: 17.0166\n",
            "Epoch 182/500\n",
            "2/2 [==============================] - 0s 6ms/step - loss: 10.3910 - mae: 10.3910\n",
            "Epoch 183/500\n",
            "2/2 [==============================] - 0s 3ms/step - loss: 11.1568 - mae: 11.1568\n",
            "Epoch 184/500\n",
            "2/2 [==============================] - 0s 19ms/step - loss: 31.6483 - mae: 31.6483\n",
            "Epoch 185/500\n",
            "2/2 [==============================] - 0s 7ms/step - loss: 7.0154 - mae: 7.0154\n",
            "Epoch 186/500\n",
            "2/2 [==============================] - 0s 4ms/step - loss: 16.6843 - mae: 16.6843\n",
            "Epoch 187/500\n",
            "2/2 [==============================] - 0s 5ms/step - loss: 8.1126 - mae: 8.1126\n",
            "Epoch 188/500\n",
            "2/2 [==============================] - 0s 4ms/step - loss: 29.6995 - mae: 29.6995\n",
            "Epoch 189/500\n",
            "2/2 [==============================] - 0s 5ms/step - loss: 12.3776 - mae: 12.3776\n",
            "Epoch 190/500\n",
            "2/2 [==============================] - 0s 7ms/step - loss: 19.3024 - mae: 19.3024\n",
            "Epoch 191/500\n",
            "2/2 [==============================] - 0s 3ms/step - loss: 13.9023 - mae: 13.9023\n",
            "Epoch 192/500\n",
            "2/2 [==============================] - 0s 9ms/step - loss: 12.9345 - mae: 12.9345\n",
            "Epoch 193/500\n",
            "2/2 [==============================] - 0s 3ms/step - loss: 29.5007 - mae: 29.5007\n",
            "Epoch 194/500\n",
            "2/2 [==============================] - 0s 5ms/step - loss: 6.6526 - mae: 6.6526\n",
            "Epoch 195/500\n",
            "2/2 [==============================] - 0s 3ms/step - loss: 6.6620 - mae: 6.6620\n",
            "Epoch 196/500\n",
            "2/2 [==============================] - 0s 3ms/step - loss: 22.8540 - mae: 22.8540\n",
            "Epoch 197/500\n",
            "2/2 [==============================] - 0s 5ms/step - loss: 20.7492 - mae: 20.7492\n",
            "Epoch 198/500\n",
            "2/2 [==============================] - 0s 3ms/step - loss: 11.8978 - mae: 11.8978\n",
            "Epoch 199/500\n",
            "2/2 [==============================] - 0s 3ms/step - loss: 17.4222 - mae: 17.4222\n",
            "Epoch 200/500\n",
            "2/2 [==============================] - 0s 3ms/step - loss: 13.4876 - mae: 13.4876\n",
            "Epoch 201/500\n",
            "2/2 [==============================] - 0s 8ms/step - loss: 5.6035 - mae: 5.6035\n",
            "Epoch 202/500\n",
            "2/2 [==============================] - 0s 11ms/step - loss: 13.1062 - mae: 13.1062\n",
            "Epoch 203/500\n",
            "2/2 [==============================] - 0s 3ms/step - loss: 8.4001 - mae: 8.4001\n",
            "Epoch 204/500\n",
            "2/2 [==============================] - 0s 5ms/step - loss: 21.0158 - mae: 21.0158\n",
            "Epoch 205/500\n",
            "2/2 [==============================] - 0s 4ms/step - loss: 8.7459 - mae: 8.7459\n",
            "Epoch 206/500\n",
            "2/2 [==============================] - 0s 4ms/step - loss: 11.0638 - mae: 11.0638\n",
            "Epoch 207/500\n",
            "2/2 [==============================] - 0s 12ms/step - loss: 13.8665 - mae: 13.8665\n",
            "Epoch 208/500\n",
            "2/2 [==============================] - 0s 9ms/step - loss: 13.9839 - mae: 13.9839\n",
            "Epoch 209/500\n",
            "2/2 [==============================] - 0s 5ms/step - loss: 14.2824 - mae: 14.2824\n",
            "Epoch 210/500\n",
            "2/2 [==============================] - 0s 4ms/step - loss: 17.6257 - mae: 17.6257\n",
            "Epoch 211/500\n",
            "2/2 [==============================] - 0s 13ms/step - loss: 8.8540 - mae: 8.8540\n",
            "Epoch 212/500\n",
            "2/2 [==============================] - 0s 9ms/step - loss: 18.6211 - mae: 18.6211\n",
            "Epoch 213/500\n",
            "2/2 [==============================] - 0s 3ms/step - loss: 15.0631 - mae: 15.0631\n",
            "Epoch 214/500\n",
            "2/2 [==============================] - 0s 4ms/step - loss: 14.8075 - mae: 14.8075\n",
            "Epoch 215/500\n",
            "2/2 [==============================] - 0s 6ms/step - loss: 24.6706 - mae: 24.6706\n",
            "Epoch 216/500\n",
            "2/2 [==============================] - 0s 7ms/step - loss: 12.8053 - mae: 12.8053\n",
            "Epoch 217/500\n",
            "2/2 [==============================] - 0s 5ms/step - loss: 9.7938 - mae: 9.7938\n",
            "Epoch 218/500\n",
            "2/2 [==============================] - 0s 5ms/step - loss: 12.3979 - mae: 12.3979\n",
            "Epoch 219/500\n",
            "2/2 [==============================] - 0s 5ms/step - loss: 5.0245 - mae: 5.0245\n",
            "Epoch 220/500\n",
            "2/2 [==============================] - 0s 5ms/step - loss: 6.8297 - mae: 6.8297\n",
            "Epoch 221/500\n",
            "2/2 [==============================] - 0s 10ms/step - loss: 37.3270 - mae: 37.3270\n",
            "Epoch 222/500\n",
            "2/2 [==============================] - 0s 10ms/step - loss: 36.7870 - mae: 36.7870\n",
            "Epoch 223/500\n",
            "2/2 [==============================] - 0s 13ms/step - loss: 7.3082 - mae: 7.3082\n",
            "Epoch 224/500\n",
            "2/2 [==============================] - 0s 13ms/step - loss: 15.3583 - mae: 15.3583\n",
            "Epoch 225/500\n",
            "2/2 [==============================] - 0s 3ms/step - loss: 16.9646 - mae: 16.9646\n",
            "Epoch 226/500\n",
            "2/2 [==============================] - 0s 6ms/step - loss: 16.5040 - mae: 16.5040\n",
            "Epoch 227/500\n",
            "2/2 [==============================] - 0s 5ms/step - loss: 16.8008 - mae: 16.8008\n",
            "Epoch 228/500\n",
            "2/2 [==============================] - 0s 3ms/step - loss: 14.3646 - mae: 14.3646\n",
            "Epoch 229/500\n",
            "2/2 [==============================] - 0s 4ms/step - loss: 18.9498 - mae: 18.9498\n",
            "Epoch 230/500\n",
            "2/2 [==============================] - 0s 4ms/step - loss: 15.3734 - mae: 15.3734\n",
            "Epoch 231/500\n",
            "2/2 [==============================] - 0s 20ms/step - loss: 22.2855 - mae: 22.2855\n",
            "Epoch 232/500\n",
            "2/2 [==============================] - 0s 9ms/step - loss: 25.6766 - mae: 25.6766\n",
            "Epoch 233/500\n",
            "2/2 [==============================] - 0s 9ms/step - loss: 15.8456 - mae: 15.8456\n",
            "Epoch 234/500\n",
            "2/2 [==============================] - 0s 5ms/step - loss: 7.1198 - mae: 7.1198\n",
            "Epoch 235/500\n",
            "2/2 [==============================] - 0s 6ms/step - loss: 16.5359 - mae: 16.5359\n",
            "Epoch 236/500\n",
            "2/2 [==============================] - 0s 3ms/step - loss: 6.8411 - mae: 6.8411\n",
            "Epoch 237/500\n",
            "2/2 [==============================] - 0s 3ms/step - loss: 8.4978 - mae: 8.4978\n",
            "Epoch 238/500\n",
            "2/2 [==============================] - 0s 4ms/step - loss: 7.6219 - mae: 7.6219\n",
            "Epoch 239/500\n",
            "2/2 [==============================] - 0s 4ms/step - loss: 16.6738 - mae: 16.6738\n",
            "Epoch 240/500\n",
            "2/2 [==============================] - 0s 3ms/step - loss: 8.1090 - mae: 8.1090\n",
            "Epoch 241/500\n",
            "2/2 [==============================] - 0s 3ms/step - loss: 12.2173 - mae: 12.2173\n",
            "Epoch 242/500\n",
            "2/2 [==============================] - 0s 4ms/step - loss: 8.4286 - mae: 8.4286\n",
            "Epoch 243/500\n",
            "2/2 [==============================] - 0s 4ms/step - loss: 19.0474 - mae: 19.0474\n",
            "Epoch 244/500\n",
            "2/2 [==============================] - 0s 3ms/step - loss: 13.8906 - mae: 13.8906\n",
            "Epoch 245/500\n",
            "2/2 [==============================] - 0s 3ms/step - loss: 14.9766 - mae: 14.9766\n",
            "Epoch 246/500\n",
            "2/2 [==============================] - 0s 4ms/step - loss: 16.5221 - mae: 16.5221\n",
            "Epoch 247/500\n",
            "2/2 [==============================] - 0s 6ms/step - loss: 18.3671 - mae: 18.3671\n",
            "Epoch 248/500\n",
            "2/2 [==============================] - 0s 4ms/step - loss: 12.7968 - mae: 12.7968\n",
            "Epoch 249/500\n",
            "2/2 [==============================] - 0s 3ms/step - loss: 14.6663 - mae: 14.6663\n",
            "Epoch 250/500\n",
            "2/2 [==============================] - 0s 3ms/step - loss: 24.6626 - mae: 24.6626\n",
            "Epoch 251/500\n",
            "2/2 [==============================] - 0s 3ms/step - loss: 8.8291 - mae: 8.8291\n",
            "Epoch 252/500\n",
            "2/2 [==============================] - 0s 5ms/step - loss: 38.5683 - mae: 38.5683\n",
            "Epoch 253/500\n",
            "2/2 [==============================] - 0s 10ms/step - loss: 21.8404 - mae: 21.8404\n",
            "Epoch 254/500\n",
            "2/2 [==============================] - 0s 4ms/step - loss: 6.6485 - mae: 6.6485\n",
            "Epoch 255/500\n",
            "2/2 [==============================] - 0s 3ms/step - loss: 24.9959 - mae: 24.9959\n",
            "Epoch 256/500\n",
            "2/2 [==============================] - 0s 8ms/step - loss: 11.5965 - mae: 11.5965\n",
            "Epoch 257/500\n",
            "2/2 [==============================] - 0s 3ms/step - loss: 10.0635 - mae: 10.0635\n",
            "Epoch 258/500\n",
            "2/2 [==============================] - 0s 3ms/step - loss: 13.8021 - mae: 13.8021\n",
            "Epoch 259/500\n",
            "2/2 [==============================] - 0s 4ms/step - loss: 8.3765 - mae: 8.3765\n",
            "Epoch 260/500\n",
            "2/2 [==============================] - 0s 3ms/step - loss: 45.7482 - mae: 45.7482\n",
            "Epoch 261/500\n",
            "2/2 [==============================] - 0s 3ms/step - loss: 18.1356 - mae: 18.1356\n",
            "Epoch 262/500\n",
            "2/2 [==============================] - 0s 6ms/step - loss: 6.3169 - mae: 6.3169\n",
            "Epoch 263/500\n",
            "2/2 [==============================] - 0s 3ms/step - loss: 13.7268 - mae: 13.7268\n",
            "Epoch 264/500\n",
            "2/2 [==============================] - 0s 3ms/step - loss: 22.1387 - mae: 22.1387\n",
            "Epoch 265/500\n",
            "2/2 [==============================] - 0s 9ms/step - loss: 19.3151 - mae: 19.3151\n",
            "Epoch 266/500\n",
            "2/2 [==============================] - 0s 7ms/step - loss: 10.9408 - mae: 10.9408\n",
            "Epoch 267/500\n",
            "2/2 [==============================] - 0s 5ms/step - loss: 6.7507 - mae: 6.7507\n",
            "Epoch 268/500\n",
            "2/2 [==============================] - 0s 10ms/step - loss: 22.1636 - mae: 22.1636\n",
            "Epoch 269/500\n",
            "2/2 [==============================] - 0s 12ms/step - loss: 34.7302 - mae: 34.7302\n",
            "Epoch 270/500\n",
            "2/2 [==============================] - 0s 3ms/step - loss: 9.6729 - mae: 9.6729\n",
            "Epoch 271/500\n",
            "2/2 [==============================] - 0s 13ms/step - loss: 10.5267 - mae: 10.5267\n",
            "Epoch 272/500\n",
            "2/2 [==============================] - 0s 12ms/step - loss: 26.9760 - mae: 26.9760\n",
            "Epoch 273/500\n",
            "2/2 [==============================] - 0s 8ms/step - loss: 11.6137 - mae: 11.6137\n",
            "Epoch 274/500\n",
            "2/2 [==============================] - 0s 10ms/step - loss: 12.0721 - mae: 12.0721\n",
            "Epoch 275/500\n",
            "2/2 [==============================] - 0s 5ms/step - loss: 30.5160 - mae: 30.5160\n",
            "Epoch 276/500\n",
            "2/2 [==============================] - 0s 13ms/step - loss: 6.5488 - mae: 6.5488\n",
            "Epoch 277/500\n",
            "2/2 [==============================] - 0s 13ms/step - loss: 31.9636 - mae: 31.9636\n",
            "Epoch 278/500\n",
            "2/2 [==============================] - 0s 11ms/step - loss: 11.5564 - mae: 11.5564\n",
            "Epoch 279/500\n",
            "2/2 [==============================] - 0s 10ms/step - loss: 17.3607 - mae: 17.3607\n",
            "Epoch 280/500\n",
            "2/2 [==============================] - 0s 7ms/step - loss: 23.1189 - mae: 23.1189\n",
            "Epoch 281/500\n",
            "2/2 [==============================] - 0s 4ms/step - loss: 22.5078 - mae: 22.5078\n",
            "Epoch 282/500\n",
            "2/2 [==============================] - 0s 12ms/step - loss: 7.2141 - mae: 7.2141\n",
            "Epoch 283/500\n",
            "2/2 [==============================] - 0s 6ms/step - loss: 7.7725 - mae: 7.7725\n",
            "Epoch 284/500\n",
            "2/2 [==============================] - 0s 5ms/step - loss: 25.4832 - mae: 25.4832\n",
            "Epoch 285/500\n",
            "2/2 [==============================] - 0s 5ms/step - loss: 13.3877 - mae: 13.3877\n",
            "Epoch 286/500\n",
            "2/2 [==============================] - 0s 5ms/step - loss: 6.2528 - mae: 6.2528\n",
            "Epoch 287/500\n",
            "2/2 [==============================] - 0s 7ms/step - loss: 25.2020 - mae: 25.2020\n",
            "Epoch 288/500\n",
            "2/2 [==============================] - 0s 3ms/step - loss: 20.5697 - mae: 20.5697\n",
            "Epoch 289/500\n",
            "2/2 [==============================] - 0s 5ms/step - loss: 11.0906 - mae: 11.0906\n",
            "Epoch 290/500\n",
            "2/2 [==============================] - 0s 5ms/step - loss: 17.0029 - mae: 17.0029\n",
            "Epoch 291/500\n",
            "2/2 [==============================] - 0s 5ms/step - loss: 17.6342 - mae: 17.6342\n",
            "Epoch 292/500\n",
            "2/2 [==============================] - 0s 7ms/step - loss: 8.1010 - mae: 8.1010\n",
            "Epoch 293/500\n",
            "2/2 [==============================] - 0s 3ms/step - loss: 15.5974 - mae: 15.5974\n",
            "Epoch 294/500\n",
            "2/2 [==============================] - 0s 4ms/step - loss: 24.0056 - mae: 24.0056\n",
            "Epoch 295/500\n",
            "2/2 [==============================] - 0s 4ms/step - loss: 17.6288 - mae: 17.6288\n",
            "Epoch 296/500\n",
            "2/2 [==============================] - 0s 5ms/step - loss: 5.7207 - mae: 5.7207\n",
            "Epoch 297/500\n",
            "2/2 [==============================] - 0s 16ms/step - loss: 9.5090 - mae: 9.5090\n",
            "Epoch 298/500\n",
            "2/2 [==============================] - 0s 10ms/step - loss: 24.2070 - mae: 24.2070\n",
            "Epoch 299/500\n",
            "2/2 [==============================] - 0s 4ms/step - loss: 17.5093 - mae: 17.5093\n",
            "Epoch 300/500\n",
            "2/2 [==============================] - 0s 10ms/step - loss: 6.9937 - mae: 6.9937\n",
            "Epoch 301/500\n",
            "2/2 [==============================] - 0s 3ms/step - loss: 25.4316 - mae: 25.4316\n",
            "Epoch 302/500\n",
            "2/2 [==============================] - 0s 16ms/step - loss: 8.5327 - mae: 8.5327\n",
            "Epoch 303/500\n",
            "2/2 [==============================] - 0s 13ms/step - loss: 17.2889 - mae: 17.2889\n",
            "Epoch 304/500\n",
            "2/2 [==============================] - 0s 8ms/step - loss: 10.1101 - mae: 10.1101\n",
            "Epoch 305/500\n",
            "2/2 [==============================] - 0s 4ms/step - loss: 12.0683 - mae: 12.0683\n",
            "Epoch 306/500\n",
            "2/2 [==============================] - 0s 4ms/step - loss: 7.9177 - mae: 7.9177\n",
            "Epoch 307/500\n",
            "2/2 [==============================] - 0s 4ms/step - loss: 12.7052 - mae: 12.7052\n",
            "Epoch 308/500\n",
            "2/2 [==============================] - 0s 3ms/step - loss: 6.9439 - mae: 6.9439\n",
            "Epoch 309/500\n",
            "2/2 [==============================] - 0s 3ms/step - loss: 8.8822 - mae: 8.8822\n",
            "Epoch 310/500\n",
            "2/2 [==============================] - 0s 3ms/step - loss: 10.3575 - mae: 10.3575\n",
            "Epoch 311/500\n",
            "2/2 [==============================] - 0s 3ms/step - loss: 12.4583 - mae: 12.4583\n",
            "Epoch 312/500\n",
            "2/2 [==============================] - 0s 3ms/step - loss: 30.1003 - mae: 30.1003\n",
            "Epoch 313/500\n",
            "2/2 [==============================] - 0s 3ms/step - loss: 6.8146 - mae: 6.8146\n",
            "Epoch 314/500\n",
            "2/2 [==============================] - 0s 4ms/step - loss: 8.5820 - mae: 8.5820\n",
            "Epoch 315/500\n",
            "2/2 [==============================] - 0s 3ms/step - loss: 24.8169 - mae: 24.8169\n",
            "Epoch 316/500\n",
            "2/2 [==============================] - 0s 3ms/step - loss: 15.7743 - mae: 15.7743\n",
            "Epoch 317/500\n",
            "2/2 [==============================] - 0s 4ms/step - loss: 20.6639 - mae: 20.6639\n",
            "Epoch 318/500\n",
            "2/2 [==============================] - 0s 3ms/step - loss: 7.6411 - mae: 7.6411\n",
            "Epoch 319/500\n",
            "2/2 [==============================] - 0s 3ms/step - loss: 17.5017 - mae: 17.5017\n",
            "Epoch 320/500\n",
            "2/2 [==============================] - 0s 3ms/step - loss: 9.6369 - mae: 9.6369\n",
            "Epoch 321/500\n",
            "2/2 [==============================] - 0s 3ms/step - loss: 7.6257 - mae: 7.6257\n",
            "Epoch 322/500\n",
            "2/2 [==============================] - 0s 3ms/step - loss: 4.7523 - mae: 4.7523\n",
            "Epoch 323/500\n",
            "2/2 [==============================] - 0s 3ms/step - loss: 23.8769 - mae: 23.8769\n",
            "Epoch 324/500\n",
            "2/2 [==============================] - 0s 3ms/step - loss: 6.5827 - mae: 6.5827\n",
            "Epoch 325/500\n",
            "2/2 [==============================] - 0s 4ms/step - loss: 15.7011 - mae: 15.7011\n",
            "Epoch 326/500\n",
            "2/2 [==============================] - 0s 5ms/step - loss: 7.0888 - mae: 7.0888\n",
            "Epoch 327/500\n",
            "2/2 [==============================] - 0s 3ms/step - loss: 20.2157 - mae: 20.2157\n",
            "Epoch 328/500\n",
            "2/2 [==============================] - 0s 3ms/step - loss: 13.8279 - mae: 13.8279\n",
            "Epoch 329/500\n",
            "2/2 [==============================] - 0s 3ms/step - loss: 17.7642 - mae: 17.7642\n",
            "Epoch 330/500\n",
            "2/2 [==============================] - 0s 3ms/step - loss: 6.3600 - mae: 6.3600\n",
            "Epoch 331/500\n",
            "2/2 [==============================] - 0s 4ms/step - loss: 21.7519 - mae: 21.7519\n",
            "Epoch 332/500\n",
            "2/2 [==============================] - 0s 3ms/step - loss: 11.2420 - mae: 11.2420\n",
            "Epoch 333/500\n",
            "2/2 [==============================] - 0s 6ms/step - loss: 11.1790 - mae: 11.1790\n",
            "Epoch 334/500\n",
            "2/2 [==============================] - 0s 9ms/step - loss: 7.5349 - mae: 7.5349\n",
            "Epoch 335/500\n",
            "2/2 [==============================] - 0s 4ms/step - loss: 11.1596 - mae: 11.1596\n",
            "Epoch 336/500\n",
            "2/2 [==============================] - 0s 7ms/step - loss: 32.2226 - mae: 32.2226\n",
            "Epoch 337/500\n",
            "2/2 [==============================] - 0s 3ms/step - loss: 9.5676 - mae: 9.5676\n",
            "Epoch 338/500\n",
            "2/2 [==============================] - 0s 4ms/step - loss: 20.4626 - mae: 20.4626\n",
            "Epoch 339/500\n",
            "2/2 [==============================] - 0s 3ms/step - loss: 36.5697 - mae: 36.5697\n",
            "Epoch 340/500\n",
            "2/2 [==============================] - 0s 3ms/step - loss: 9.4412 - mae: 9.4412\n",
            "Epoch 341/500\n",
            "2/2 [==============================] - 0s 11ms/step - loss: 9.2981 - mae: 9.2981\n",
            "Epoch 342/500\n",
            "2/2 [==============================] - 0s 6ms/step - loss: 11.7808 - mae: 11.7808\n",
            "Epoch 343/500\n",
            "2/2 [==============================] - 0s 6ms/step - loss: 8.6574 - mae: 8.6574\n",
            "Epoch 344/500\n",
            "2/2 [==============================] - 0s 5ms/step - loss: 5.2876 - mae: 5.2876\n",
            "Epoch 345/500\n",
            "2/2 [==============================] - 0s 6ms/step - loss: 39.5019 - mae: 39.5019\n",
            "Epoch 346/500\n",
            "2/2 [==============================] - 0s 3ms/step - loss: 16.1694 - mae: 16.1694\n",
            "Epoch 347/500\n",
            "2/2 [==============================] - 0s 3ms/step - loss: 12.1609 - mae: 12.1609\n",
            "Epoch 348/500\n",
            "2/2 [==============================] - 0s 9ms/step - loss: 7.1087 - mae: 7.1087\n",
            "Epoch 349/500\n",
            "2/2 [==============================] - 0s 4ms/step - loss: 12.9491 - mae: 12.9491\n",
            "Epoch 350/500\n",
            "2/2 [==============================] - 0s 15ms/step - loss: 16.1665 - mae: 16.1665\n",
            "Epoch 351/500\n",
            "2/2 [==============================] - 0s 4ms/step - loss: 34.0546 - mae: 34.0546\n",
            "Epoch 352/500\n",
            "2/2 [==============================] - 0s 7ms/step - loss: 14.2398 - mae: 14.2398\n",
            "Epoch 353/500\n",
            "2/2 [==============================] - 0s 4ms/step - loss: 16.6958 - mae: 16.6958\n",
            "Epoch 354/500\n",
            "2/2 [==============================] - 0s 5ms/step - loss: 19.8495 - mae: 19.8495\n",
            "Epoch 355/500\n",
            "2/2 [==============================] - 0s 3ms/step - loss: 35.6263 - mae: 35.6263\n",
            "Epoch 356/500\n",
            "2/2 [==============================] - 0s 4ms/step - loss: 7.3612 - mae: 7.3612\n",
            "Epoch 357/500\n",
            "2/2 [==============================] - 0s 4ms/step - loss: 25.8732 - mae: 25.8732\n",
            "Epoch 358/500\n",
            "2/2 [==============================] - 0s 5ms/step - loss: 23.0121 - mae: 23.0121\n",
            "Epoch 359/500\n",
            "2/2 [==============================] - 0s 4ms/step - loss: 7.5922 - mae: 7.5922\n",
            "Epoch 360/500\n",
            "2/2 [==============================] - 0s 3ms/step - loss: 22.7494 - mae: 22.7494\n",
            "Epoch 361/500\n",
            "2/2 [==============================] - 0s 3ms/step - loss: 20.6563 - mae: 20.6563\n",
            "Epoch 362/500\n",
            "2/2 [==============================] - 0s 3ms/step - loss: 6.4755 - mae: 6.4755\n",
            "Epoch 363/500\n",
            "2/2 [==============================] - 0s 4ms/step - loss: 26.4405 - mae: 26.4405\n",
            "Epoch 364/500\n",
            "2/2 [==============================] - 0s 3ms/step - loss: 33.4598 - mae: 33.4598\n",
            "Epoch 365/500\n",
            "2/2 [==============================] - 0s 3ms/step - loss: 9.3624 - mae: 9.3624\n",
            "Epoch 366/500\n",
            "2/2 [==============================] - 0s 4ms/step - loss: 8.1176 - mae: 8.1176\n",
            "Epoch 367/500\n",
            "2/2 [==============================] - 0s 3ms/step - loss: 31.5796 - mae: 31.5796\n",
            "Epoch 368/500\n",
            "2/2 [==============================] - 0s 3ms/step - loss: 9.3113 - mae: 9.3113\n",
            "Epoch 369/500\n",
            "2/2 [==============================] - 0s 6ms/step - loss: 15.4731 - mae: 15.4731\n",
            "Epoch 370/500\n",
            "2/2 [==============================] - 0s 4ms/step - loss: 15.1064 - mae: 15.1064\n",
            "Epoch 371/500\n",
            "2/2 [==============================] - 0s 4ms/step - loss: 24.6474 - mae: 24.6474\n",
            "Epoch 372/500\n",
            "2/2 [==============================] - 0s 4ms/step - loss: 12.0766 - mae: 12.0766\n",
            "Epoch 373/500\n",
            "2/2 [==============================] - 0s 3ms/step - loss: 8.6626 - mae: 8.6626\n",
            "Epoch 374/500\n",
            "2/2 [==============================] - 0s 4ms/step - loss: 8.5077 - mae: 8.5077\n",
            "Epoch 375/500\n",
            "2/2 [==============================] - 0s 5ms/step - loss: 12.7401 - mae: 12.7401\n",
            "Epoch 376/500\n",
            "2/2 [==============================] - 0s 3ms/step - loss: 15.4849 - mae: 15.4849\n",
            "Epoch 377/500\n",
            "2/2 [==============================] - 0s 4ms/step - loss: 14.3770 - mae: 14.3770\n",
            "Epoch 378/500\n",
            "2/2 [==============================] - 0s 3ms/step - loss: 17.3350 - mae: 17.3350\n",
            "Epoch 379/500\n",
            "2/2 [==============================] - 0s 4ms/step - loss: 21.5410 - mae: 21.5410\n",
            "Epoch 380/500\n",
            "2/2 [==============================] - 0s 8ms/step - loss: 35.0745 - mae: 35.0745\n",
            "Epoch 381/500\n",
            "2/2 [==============================] - 0s 8ms/step - loss: 7.6949 - mae: 7.6949\n",
            "Epoch 382/500\n",
            "2/2 [==============================] - 0s 4ms/step - loss: 12.5581 - mae: 12.5581\n",
            "Epoch 383/500\n",
            "2/2 [==============================] - 0s 6ms/step - loss: 7.7018 - mae: 7.7018\n",
            "Epoch 384/500\n",
            "2/2 [==============================] - 0s 5ms/step - loss: 6.5894 - mae: 6.5894\n",
            "Epoch 385/500\n",
            "2/2 [==============================] - 0s 4ms/step - loss: 9.5069 - mae: 9.5069\n",
            "Epoch 386/500\n",
            "2/2 [==============================] - 0s 4ms/step - loss: 21.0157 - mae: 21.0157\n",
            "Epoch 387/500\n",
            "2/2 [==============================] - 0s 3ms/step - loss: 25.3279 - mae: 25.3279\n",
            "Epoch 388/500\n",
            "2/2 [==============================] - 0s 3ms/step - loss: 8.1201 - mae: 8.1201\n",
            "Epoch 389/500\n",
            "2/2 [==============================] - 0s 4ms/step - loss: 5.9262 - mae: 5.9262\n",
            "Epoch 390/500\n",
            "2/2 [==============================] - 0s 8ms/step - loss: 24.9399 - mae: 24.9399\n",
            "Epoch 391/500\n",
            "2/2 [==============================] - 0s 6ms/step - loss: 5.3383 - mae: 5.3383\n",
            "Epoch 392/500\n",
            "2/2 [==============================] - 0s 3ms/step - loss: 15.4748 - mae: 15.4748\n",
            "Epoch 393/500\n",
            "2/2 [==============================] - 0s 18ms/step - loss: 5.3155 - mae: 5.3155\n",
            "Epoch 394/500\n",
            "2/2 [==============================] - 0s 4ms/step - loss: 10.0902 - mae: 10.0902\n",
            "Epoch 395/500\n",
            "2/2 [==============================] - 0s 11ms/step - loss: 14.1821 - mae: 14.1821\n",
            "Epoch 396/500\n",
            "2/2 [==============================] - 0s 6ms/step - loss: 6.8618 - mae: 6.8618\n",
            "Epoch 397/500\n",
            "2/2 [==============================] - 0s 7ms/step - loss: 8.0388 - mae: 8.0388\n",
            "Epoch 398/500\n",
            "2/2 [==============================] - 0s 18ms/step - loss: 13.8073 - mae: 13.8073\n",
            "Epoch 399/500\n",
            "2/2 [==============================] - 0s 10ms/step - loss: 9.7530 - mae: 9.7530\n",
            "Epoch 400/500\n",
            "2/2 [==============================] - 0s 5ms/step - loss: 23.2993 - mae: 23.2993\n",
            "Epoch 401/500\n",
            "2/2 [==============================] - 0s 6ms/step - loss: 14.3730 - mae: 14.3730\n",
            "Epoch 402/500\n",
            "2/2 [==============================] - 0s 7ms/step - loss: 7.7284 - mae: 7.7284\n",
            "Epoch 403/500\n",
            "2/2 [==============================] - 0s 9ms/step - loss: 9.4205 - mae: 9.4205\n",
            "Epoch 404/500\n",
            "2/2 [==============================] - 0s 16ms/step - loss: 9.3544 - mae: 9.3544\n",
            "Epoch 405/500\n",
            "2/2 [==============================] - 0s 3ms/step - loss: 5.8138 - mae: 5.8138\n",
            "Epoch 406/500\n",
            "2/2 [==============================] - 0s 11ms/step - loss: 17.3152 - mae: 17.3152\n",
            "Epoch 407/500\n",
            "2/2 [==============================] - 0s 9ms/step - loss: 9.8933 - mae: 9.8933\n",
            "Epoch 408/500\n",
            "2/2 [==============================] - 0s 5ms/step - loss: 21.8613 - mae: 21.8613\n",
            "Epoch 409/500\n",
            "2/2 [==============================] - 0s 6ms/step - loss: 32.9579 - mae: 32.9579\n",
            "Epoch 410/500\n",
            "2/2 [==============================] - 0s 3ms/step - loss: 7.9618 - mae: 7.9618\n",
            "Epoch 411/500\n",
            "2/2 [==============================] - 0s 3ms/step - loss: 14.7364 - mae: 14.7364\n",
            "Epoch 412/500\n",
            "2/2 [==============================] - 0s 7ms/step - loss: 23.1980 - mae: 23.1980\n",
            "Epoch 413/500\n",
            "2/2 [==============================] - 0s 4ms/step - loss: 11.8724 - mae: 11.8724\n",
            "Epoch 414/500\n",
            "2/2 [==============================] - 0s 6ms/step - loss: 5.3169 - mae: 5.3169\n",
            "Epoch 415/500\n",
            "2/2 [==============================] - 0s 9ms/step - loss: 12.9845 - mae: 12.9845\n",
            "Epoch 416/500\n",
            "2/2 [==============================] - 0s 3ms/step - loss: 27.9657 - mae: 27.9657\n",
            "Epoch 417/500\n",
            "2/2 [==============================] - 0s 5ms/step - loss: 10.0398 - mae: 10.0398\n",
            "Epoch 418/500\n",
            "2/2 [==============================] - 0s 7ms/step - loss: 12.4292 - mae: 12.4292\n",
            "Epoch 419/500\n",
            "2/2 [==============================] - 0s 9ms/step - loss: 16.7570 - mae: 16.7570\n",
            "Epoch 420/500\n",
            "2/2 [==============================] - 0s 4ms/step - loss: 25.5950 - mae: 25.5950\n",
            "Epoch 421/500\n",
            "2/2 [==============================] - 0s 10ms/step - loss: 16.8935 - mae: 16.8935\n",
            "Epoch 422/500\n",
            "2/2 [==============================] - 0s 4ms/step - loss: 6.5194 - mae: 6.5194\n",
            "Epoch 423/500\n",
            "2/2 [==============================] - 0s 3ms/step - loss: 26.2627 - mae: 26.2627\n",
            "Epoch 424/500\n",
            "2/2 [==============================] - 0s 4ms/step - loss: 14.3894 - mae: 14.3894\n",
            "Epoch 425/500\n",
            "2/2 [==============================] - 0s 3ms/step - loss: 6.5461 - mae: 6.5461\n",
            "Epoch 426/500\n",
            "2/2 [==============================] - 0s 14ms/step - loss: 20.0221 - mae: 20.0221\n",
            "Epoch 427/500\n",
            "2/2 [==============================] - 0s 6ms/step - loss: 5.4675 - mae: 5.4675\n",
            "Epoch 428/500\n",
            "2/2 [==============================] - 0s 3ms/step - loss: 11.9020 - mae: 11.9020\n",
            "Epoch 429/500\n",
            "2/2 [==============================] - 0s 3ms/step - loss: 9.7413 - mae: 9.7413\n",
            "Epoch 430/500\n",
            "2/2 [==============================] - 0s 3ms/step - loss: 10.3967 - mae: 10.3967\n",
            "Epoch 431/500\n",
            "2/2 [==============================] - 0s 3ms/step - loss: 9.5247 - mae: 9.5247\n",
            "Epoch 432/500\n",
            "2/2 [==============================] - 0s 3ms/step - loss: 10.4026 - mae: 10.4026\n",
            "Epoch 433/500\n",
            "2/2 [==============================] - 0s 3ms/step - loss: 9.5572 - mae: 9.5572\n",
            "Epoch 434/500\n",
            "2/2 [==============================] - 0s 3ms/step - loss: 31.0641 - mae: 31.0641\n",
            "Epoch 435/500\n",
            "2/2 [==============================] - 0s 4ms/step - loss: 8.7320 - mae: 8.7320\n",
            "Epoch 436/500\n",
            "2/2 [==============================] - 0s 5ms/step - loss: 30.4039 - mae: 30.4039\n",
            "Epoch 437/500\n",
            "2/2 [==============================] - 0s 4ms/step - loss: 7.2410 - mae: 7.2410\n",
            "Epoch 438/500\n",
            "2/2 [==============================] - 0s 3ms/step - loss: 11.4983 - mae: 11.4983\n",
            "Epoch 439/500\n",
            "2/2 [==============================] - 0s 4ms/step - loss: 34.0209 - mae: 34.0209\n",
            "Epoch 440/500\n",
            "2/2 [==============================] - 0s 4ms/step - loss: 15.0207 - mae: 15.0207\n",
            "Epoch 441/500\n",
            "2/2 [==============================] - 0s 5ms/step - loss: 18.6827 - mae: 18.6827\n",
            "Epoch 442/500\n",
            "2/2 [==============================] - 0s 4ms/step - loss: 23.3211 - mae: 23.3211\n",
            "Epoch 443/500\n",
            "2/2 [==============================] - 0s 7ms/step - loss: 23.7391 - mae: 23.7391\n",
            "Epoch 444/500\n",
            "2/2 [==============================] - 0s 9ms/step - loss: 10.5044 - mae: 10.5044\n",
            "Epoch 445/500\n",
            "2/2 [==============================] - 0s 3ms/step - loss: 15.2148 - mae: 15.2148\n",
            "Epoch 446/500\n",
            "2/2 [==============================] - 0s 7ms/step - loss: 19.1407 - mae: 19.1407\n",
            "Epoch 447/500\n",
            "2/2 [==============================] - 0s 3ms/step - loss: 4.9130 - mae: 4.9130\n",
            "Epoch 448/500\n",
            "2/2 [==============================] - 0s 7ms/step - loss: 8.6091 - mae: 8.6091\n",
            "Epoch 449/500\n",
            "2/2 [==============================] - 0s 6ms/step - loss: 13.8472 - mae: 13.8472\n",
            "Epoch 450/500\n",
            "2/2 [==============================] - 0s 6ms/step - loss: 17.7478 - mae: 17.7478\n",
            "Epoch 451/500\n",
            "2/2 [==============================] - 0s 12ms/step - loss: 14.7603 - mae: 14.7603\n",
            "Epoch 452/500\n",
            "2/2 [==============================] - 0s 13ms/step - loss: 31.1154 - mae: 31.1154\n",
            "Epoch 453/500\n",
            "2/2 [==============================] - 0s 7ms/step - loss: 6.3488 - mae: 6.3488\n",
            "Epoch 454/500\n",
            "2/2 [==============================] - 0s 9ms/step - loss: 28.8322 - mae: 28.8322\n",
            "Epoch 455/500\n",
            "2/2 [==============================] - 0s 9ms/step - loss: 7.3912 - mae: 7.3912\n",
            "Epoch 456/500\n",
            "2/2 [==============================] - 0s 7ms/step - loss: 8.8416 - mae: 8.8416\n",
            "Epoch 457/500\n",
            "2/2 [==============================] - 0s 5ms/step - loss: 15.4993 - mae: 15.4993\n",
            "Epoch 458/500\n",
            "2/2 [==============================] - 0s 4ms/step - loss: 17.7243 - mae: 17.7243\n",
            "Epoch 459/500\n",
            "2/2 [==============================] - 0s 4ms/step - loss: 27.5770 - mae: 27.5770\n",
            "Epoch 460/500\n",
            "2/2 [==============================] - 0s 3ms/step - loss: 11.7501 - mae: 11.7501\n",
            "Epoch 461/500\n",
            "2/2 [==============================] - 0s 3ms/step - loss: 11.5889 - mae: 11.5889\n",
            "Epoch 462/500\n",
            "2/2 [==============================] - 0s 12ms/step - loss: 13.2257 - mae: 13.2257\n",
            "Epoch 463/500\n",
            "2/2 [==============================] - 0s 3ms/step - loss: 30.3476 - mae: 30.3476\n",
            "Epoch 464/500\n",
            "2/2 [==============================] - 0s 7ms/step - loss: 3.3242 - mae: 3.3242\n",
            "Epoch 465/500\n",
            "2/2 [==============================] - 0s 3ms/step - loss: 15.9370 - mae: 15.9370\n",
            "Epoch 466/500\n",
            "2/2 [==============================] - 0s 3ms/step - loss: 21.7724 - mae: 21.7724\n",
            "Epoch 467/500\n",
            "2/2 [==============================] - 0s 3ms/step - loss: 31.6820 - mae: 31.6820\n",
            "Epoch 468/500\n",
            "2/2 [==============================] - 0s 3ms/step - loss: 9.6243 - mae: 9.6243\n",
            "Epoch 469/500\n",
            "2/2 [==============================] - 0s 3ms/step - loss: 11.8263 - mae: 11.8263\n",
            "Epoch 470/500\n",
            "2/2 [==============================] - 0s 3ms/step - loss: 3.2032 - mae: 3.2032\n",
            "Epoch 471/500\n",
            "2/2 [==============================] - 0s 3ms/step - loss: 17.3217 - mae: 17.3217\n",
            "Epoch 472/500\n",
            "2/2 [==============================] - 0s 3ms/step - loss: 12.9616 - mae: 12.9616\n",
            "Epoch 473/500\n",
            "2/2 [==============================] - 0s 7ms/step - loss: 16.3344 - mae: 16.3344\n",
            "Epoch 474/500\n",
            "2/2 [==============================] - 0s 4ms/step - loss: 10.4298 - mae: 10.4298\n",
            "Epoch 475/500\n",
            "2/2 [==============================] - 0s 6ms/step - loss: 17.3095 - mae: 17.3095\n",
            "Epoch 476/500\n",
            "2/2 [==============================] - 0s 10ms/step - loss: 14.0110 - mae: 14.0110\n",
            "Epoch 477/500\n",
            "2/2 [==============================] - 0s 6ms/step - loss: 31.3851 - mae: 31.3851\n",
            "Epoch 478/500\n",
            "2/2 [==============================] - 0s 3ms/step - loss: 7.4666 - mae: 7.4666\n",
            "Epoch 479/500\n",
            "2/2 [==============================] - 0s 4ms/step - loss: 9.3610 - mae: 9.3610\n",
            "Epoch 480/500\n",
            "2/2 [==============================] - 0s 5ms/step - loss: 19.0261 - mae: 19.0261\n",
            "Epoch 481/500\n",
            "2/2 [==============================] - 0s 12ms/step - loss: 16.5661 - mae: 16.5661\n",
            "Epoch 482/500\n",
            "2/2 [==============================] - 0s 6ms/step - loss: 22.2981 - mae: 22.2981\n",
            "Epoch 483/500\n",
            "2/2 [==============================] - 0s 12ms/step - loss: 25.8888 - mae: 25.8888\n",
            "Epoch 484/500\n",
            "2/2 [==============================] - 0s 3ms/step - loss: 24.0995 - mae: 24.0995\n",
            "Epoch 485/500\n",
            "2/2 [==============================] - 0s 5ms/step - loss: 5.2883 - mae: 5.2883\n",
            "Epoch 486/500\n",
            "2/2 [==============================] - 0s 3ms/step - loss: 20.4084 - mae: 20.4084\n",
            "Epoch 487/500\n",
            "2/2 [==============================] - 0s 6ms/step - loss: 14.3825 - mae: 14.3825\n",
            "Epoch 488/500\n",
            "2/2 [==============================] - 0s 8ms/step - loss: 32.0213 - mae: 32.0213\n",
            "Epoch 489/500\n",
            "2/2 [==============================] - 0s 6ms/step - loss: 11.1841 - mae: 11.1841\n",
            "Epoch 490/500\n",
            "2/2 [==============================] - 0s 5ms/step - loss: 11.9448 - mae: 11.9448\n",
            "Epoch 491/500\n",
            "2/2 [==============================] - 0s 5ms/step - loss: 24.6860 - mae: 24.6860\n",
            "Epoch 492/500\n",
            "2/2 [==============================] - 0s 5ms/step - loss: 20.3409 - mae: 20.3409\n",
            "Epoch 493/500\n",
            "2/2 [==============================] - 0s 12ms/step - loss: 4.5806 - mae: 4.5806\n",
            "Epoch 494/500\n",
            "2/2 [==============================] - 0s 4ms/step - loss: 12.1887 - mae: 12.1887\n",
            "Epoch 495/500\n",
            "2/2 [==============================] - 0s 6ms/step - loss: 13.4238 - mae: 13.4238\n",
            "Epoch 496/500\n",
            "2/2 [==============================] - 0s 7ms/step - loss: 12.0397 - mae: 12.0397\n",
            "Epoch 497/500\n",
            "2/2 [==============================] - 0s 4ms/step - loss: 18.8880 - mae: 18.8880\n",
            "Epoch 498/500\n",
            "2/2 [==============================] - 0s 5ms/step - loss: 23.8076 - mae: 23.8076\n",
            "Epoch 499/500\n",
            "2/2 [==============================] - 0s 6ms/step - loss: 8.9942 - mae: 8.9942\n",
            "Epoch 500/500\n",
            "2/2 [==============================] - 0s 6ms/step - loss: 15.1579 - mae: 15.1579\n"
          ],
          "name": "stdout"
        },
        {
          "output_type": "execute_result",
          "data": {
            "text/plain": [
              "<tensorflow.python.keras.callbacks.History at 0x7fb00fd467d0>"
            ]
          },
          "metadata": {
            "tags": []
          },
          "execution_count": 55
        }
      ]
    },
    {
      "cell_type": "code",
      "metadata": {
        "colab": {
          "base_uri": "https://localhost:8080/",
          "height": 465
        },
        "id": "Fem6mBsnDUdS",
        "outputId": "82550019-e35d-4c8c-e96b-936280ac0272"
      },
      "source": [
        "# Make and plot some predictions\n",
        "y_preds_3 = model_3.predict(X_test)\n",
        "plot_predictions(predictions=y_preds_3)"
      ],
      "execution_count": 56,
      "outputs": [
        {
          "output_type": "stream",
          "text": [
            "WARNING:tensorflow:7 out of the last 7 calls to <function Model.make_predict_function.<locals>.predict_function at 0x7fb00fdc0d40> triggered tf.function retracing. Tracing is expensive and the excessive number of tracings could be due to (1) creating @tf.function repeatedly in a loop, (2) passing tensors with different shapes, (3) passing Python objects instead of tensors. For (1), please define your @tf.function outside of the loop. For (2), @tf.function has experimental_relax_shapes=True option that relaxes argument shapes that can avoid unnecessary retracing. For (3), please refer to https://www.tensorflow.org/guide/function#controlling_retracing and https://www.tensorflow.org/api_docs/python/tf/function for  more details.\n"
          ],
          "name": "stdout"
        },
        {
          "output_type": "display_data",
          "data": {
            "image/png": "[encoded data removed]",
            "text/plain": [
              "<Figure size 720x504 with 1 Axes>"
            ]
          },
          "metadata": {
            "tags": [],
            "needs_background": "light"
          }
        }
      ]
    },
    {
      "cell_type": "code",
      "metadata": {
        "colab": {
          "base_uri": "https://localhost:8080/"
        },
        "id": "TbSmrikFDpE8",
        "outputId": "f1fac384-15ac-40e2-ad14-b741e0d30335"
      },
      "source": [
        "# Calculate model_3 evalaution metrics\n",
        "mae_3 = mae(y_test, y_preds_3)\n",
        "mse_3 = mse(y_test, y_preds_3)\n",
        "mae_3, mse_3"
      ],
      "execution_count": 57,
      "outputs": [
        {
          "output_type": "execute_result",
          "data": {
            "text/plain": [
              "(<tf.Tensor: shape=(), dtype=float32, numpy=68.713615>,\n",
              " <tf.Tensor: shape=(), dtype=float32, numpy=4808.0273>)"
            ]
          },
          "metadata": {
            "tags": []
          },
          "execution_count": 57
        }
      ]
    },
    {
      "cell_type": "markdown",
      "metadata": {
        "id": "lMwtZ03YGSdv"
      },
      "source": [
        "🔑 **Note:** You want to start with small experiments (small models) and make sure they work and then increase their scale when necessary."
      ]
    },
    {
      "cell_type": "markdown",
      "metadata": {
        "id": "D_5UdQMOEA5y"
      },
      "source": [
        "### Comparing the results of our experiments\n",
        "\n",
        "We've run a few experiments, let's compare the results."
      ]
    },
    {
      "cell_type": "code",
      "metadata": {
        "colab": {
          "base_uri": "https://localhost:8080/",
          "height": 136
        },
        "id": "OZe_HWXzESJ8",
        "outputId": "b71809d8-73fe-4f31-dabd-4f1f00274a55"
      },
      "source": [
        "# Let's compare our model's results using a pandas DataFrame\n",
        "import pandas as pd\n",
        "\n",
        "model_results = [[\"model_1\", mae_1.numpy(), mse_1.numpy()],\n",
        "                 [\"model_2\", mae_2.numpy(), mse_2.numpy()],\n",
        "                 [\"model_3\", mae_3.numpy(), mse_3.numpy()]]\n",
        "\n",
        "all_results = pd.DataFrame(model_results, columns=[\"model\", \"mae\", \"mse\"])\n",
        "all_results"
      ],
      "execution_count": 58,
      "outputs": [
        {
          "output_type": "execute_result",
          "data": {
            "text/html": [
              "<div>\n",
              "<style scoped>\n",
              "    .dataframe tbody tr th:only-of-type {\n",
              "        vertical-align: middle;\n",
              "    }\n",
              "\n",
              "    .dataframe tbody tr th {\n",
              "        vertical-align: top;\n",
              "    }\n",
              "\n",
              "    .dataframe thead th {\n",
              "        text-align: right;\n",
              "    }\n",
              "</style>\n",
              "<table border=\"1\" class=\"dataframe\">\n",
              "  <thead>\n",
              "    <tr style=\"text-align: right;\">\n",
              "      <th></th>\n",
              "      <th>model</th>\n",
              "      <th>mae</th>\n",
              "      <th>mse</th>\n",
              "    </tr>\n",
              "  </thead>\n",
              "  <tbody>\n",
              "    <tr>\n",
              "      <th>0</th>\n",
              "      <td>model_1</td>\n",
              "      <td>18.745327</td>\n",
              "      <td>353.573364</td>\n",
              "    </tr>\n",
              "    <tr>\n",
              "      <th>1</th>\n",
              "      <td>model_2</td>\n",
              "      <td>3.196941</td>\n",
              "      <td>13.070143</td>\n",
              "    </tr>\n",
              "    <tr>\n",
              "      <th>2</th>\n",
              "      <td>model_3</td>\n",
              "      <td>68.713615</td>\n",
              "      <td>4808.027344</td>\n",
              "    </tr>\n",
              "  </tbody>\n",
              "</table>\n",
              "</div>"
            ],
            "text/plain": [
              "     model        mae          mse\n",
              "0  model_1  18.745327   353.573364\n",
              "1  model_2   3.196941    13.070143\n",
              "2  model_3  68.713615  4808.027344"
            ]
          },
          "metadata": {
            "tags": []
          },
          "execution_count": 58
        }
      ]
    },
    {
      "cell_type": "markdown",
      "metadata": {
        "id": "8OTx1UNfHVKZ"
      },
      "source": [
        "Looks like `model_2` performed the best..."
      ]
    },
    {
      "cell_type": "code",
      "metadata": {
        "colab": {
          "base_uri": "https://localhost:8080/"
        },
        "id": "XhFEXF1iG665",
        "outputId": "84745532-3e47-487a-8b38-24e486df8263"
      },
      "source": [
        "model_2.summary()"
      ],
      "execution_count": 59,
      "outputs": [
        {
          "output_type": "stream",
          "text": [
            "Model: \"sequential_5\"\n",
            "_________________________________________________________________\n",
            "Layer (type)                 Output Shape              Param #   \n",
            "=================================================================\n",
            "dense_6 (Dense)              (None, 10)                20        \n",
            "_________________________________________________________________\n",
            "dense_7 (Dense)              (None, 1)                 11        \n",
            "=================================================================\n",
            "Total params: 31\n",
            "Trainable params: 31\n",
            "Non-trainable params: 0\n",
            "_________________________________________________________________\n"
          ],
          "name": "stdout"
        }
      ]
    },
    {
      "cell_type": "markdown",
      "metadata": {
        "id": "Oaa6e-HMHILL"
      },
      "source": [
        "> 🔑 **Note:** One of your main goals should be to minimize the time between your experiments. The more experiments you do, the more things you'll figure out which don't work and in turn, get closer to figuring out what does work. Remember the machine learning practioner's motto: \"experiment, experiment, experiment\".\n",
        "\n"
      ]
    },
    {
      "cell_type": "markdown",
      "metadata": {
        "id": "3DI9I7j3H1-r"
      },
      "source": [
        "## Tracking your experiments\n",
        "\n",
        "One really good habit in machine learning modelling is to track the results of your experiments.\n",
        "\n",
        "And when doing so, it can be tedious if you're running lots of experiments.\n",
        "\n",
        "Luckily, there are tools to help us!\n",
        "\n",
        "📖 **Resource:** As you build more models, you'll want to look into using:\n",
        "\n",
        "* [TensorBoard](https://www.tensorflow.org/tensorboard) - a component of the TensorFlow library to help track modelling experiments (we'll see this one later).\n",
        "* [Weights & Biases](https://www.wandb.com/) - a tool for tracking all of kinds of machine learning experiments (plugs straight into TensorBoard)."
      ]
    },
    {
      "cell_type": "markdown",
      "metadata": {
        "id": "E3fF957RIrwz"
      },
      "source": [
        "## Saving our models\n",
        "\n",
        "Saving our models allows us to use them outside of Google Colab (or wherever they were trained) such as in a web application or a mobile app.\n",
        "\n",
        "There are two main formats we can save our model's too:\n",
        "\n",
        "1. The SavedModel format\n",
        "2. The HDF5 format"
      ]
    },
    {
      "cell_type": "code",
      "metadata": {
        "colab": {
          "base_uri": "https://localhost:8080/"
        },
        "id": "VFPevKYiIxRl",
        "outputId": "ffaf37da-fe3b-4a1d-8444-ab3f12d227b6"
      },
      "source": [
        "# Save model using the SavedModel format\n",
        "model_2.save(\"best_model_SavedModel_format\")"
      ],
      "execution_count": 60,
      "outputs": [
        {
          "output_type": "stream",
          "text": [
            "INFO:tensorflow:Assets written to: best_model_SavedModel_format/assets\n"
          ],
          "name": "stdout"
        }
      ]
    },
    {
      "cell_type": "code",
      "metadata": {
        "id": "7Xg2mFS9s4eA"
      },
      "source": [
        "# Save model using the HDF5 format\n",
        "model_2.save(\"best_model_HDF5_format.h5\")"
      ],
      "execution_count": 61,
      "outputs": []
    },
    {
      "cell_type": "markdown",
      "metadata": {
        "id": "wMTu6_fStqIQ"
      },
      "source": [
        "## Loading in a saved model"
      ]
    },
    {
      "cell_type": "code",
      "metadata": {
        "colab": {
          "base_uri": "https://localhost:8080/"
        },
        "id": "r-mCdNXLuUbV",
        "outputId": "24af5395-2d7b-4bb1-fd2e-f09b451d5851"
      },
      "source": [
        "# Load in the SavedModel format model\n",
        "loaded_SavedModel_format = tf.keras.models.load_model(\"best_model_SavedModel_format\")\n",
        "loaded_SavedModel_format.summary()"
      ],
      "execution_count": 62,
      "outputs": [
        {
          "output_type": "stream",
          "text": [
            "Model: \"sequential_5\"\n",
            "_________________________________________________________________\n",
            "Layer (type)                 Output Shape              Param #   \n",
            "=================================================================\n",
            "dense_6 (Dense)              (None, 10)                20        \n",
            "_________________________________________________________________\n",
            "dense_7 (Dense)              (None, 1)                 11        \n",
            "=================================================================\n",
            "Total params: 31\n",
            "Trainable params: 31\n",
            "Non-trainable params: 0\n",
            "_________________________________________________________________\n"
          ],
          "name": "stdout"
        }
      ]
    },
    {
      "cell_type": "code",
      "metadata": {
        "colab": {
          "base_uri": "https://localhost:8080/"
        },
        "id": "13H-0FV5utDN",
        "outputId": "94d79458-032f-4645-e0e2-e8ae1a89319e"
      },
      "source": [
        "# Compare model_2 predictions with SavedModel format model predictions\n",
        "model_2_preds = model_2.predict(X_test)\n",
        "loaded_SavedModel_format_preds = loaded_SavedModel_format.predict(X_test)\n",
        "model_2_preds == loaded_SavedModel_format_preds"
      ],
      "execution_count": 63,
      "outputs": [
        {
          "output_type": "stream",
          "text": [
            "WARNING:tensorflow:8 out of the last 9 calls to <function Model.make_predict_function.<locals>.predict_function at 0x7fb00fbb0d40> triggered tf.function retracing. Tracing is expensive and the excessive number of tracings could be due to (1) creating @tf.function repeatedly in a loop, (2) passing tensors with different shapes, (3) passing Python objects instead of tensors. For (1), please define your @tf.function outside of the loop. For (2), @tf.function has experimental_relax_shapes=True option that relaxes argument shapes that can avoid unnecessary retracing. For (3), please refer to https://www.tensorflow.org/guide/function#controlling_retracing and https://www.tensorflow.org/api_docs/python/tf/function for  more details.\n"
          ],
          "name": "stdout"
        },
        {
          "output_type": "execute_result",
          "data": {
            "text/plain": [
              "array([[ True],\n",
              "       [ True],\n",
              "       [ True],\n",
              "       [ True],\n",
              "       [ True],\n",
              "       [ True],\n",
              "       [ True],\n",
              "       [ True],\n",
              "       [ True],\n",
              "       [ True]])"
            ]
          },
          "metadata": {
            "tags": []
          },
          "execution_count": 63
        }
      ]
    },
    {
      "cell_type": "code",
      "metadata": {
        "colab": {
          "base_uri": "https://localhost:8080/"
        },
        "id": "XyATYIrLuxrM",
        "outputId": "bfee0f13-b967-46db-ca45-dc0dc5372d42"
      },
      "source": [
        "# Compare the MAE of model_2 preds and loaded_SavedModel_preds\n",
        "mae(y_true=y_test, y_pred=model_2_preds) == mae(y_true=y_test, y_pred=loaded_SavedModel_format_preds)"
      ],
      "execution_count": 64,
      "outputs": [
        {
          "output_type": "execute_result",
          "data": {
            "text/plain": [
              "<tf.Tensor: shape=(), dtype=bool, numpy=True>"
            ]
          },
          "metadata": {
            "tags": []
          },
          "execution_count": 64
        }
      ]
    },
    {
      "cell_type": "code",
      "metadata": {
        "colab": {
          "base_uri": "https://localhost:8080/"
        },
        "id": "KYRN_QQ1v36P",
        "outputId": "7fce4c36-4bec-44c7-ed63-fa4c5791660c"
      },
      "source": [
        "# Load in a model using the .h5 format\n",
        "loaded_h5_model = tf.keras.models.load_model(\"/content/best_model_HDF5_format.h5\")\n",
        "loaded_h5_model.summary()"
      ],
      "execution_count": 65,
      "outputs": [
        {
          "output_type": "stream",
          "text": [
            "Model: \"sequential_5\"\n",
            "_________________________________________________________________\n",
            "Layer (type)                 Output Shape              Param #   \n",
            "=================================================================\n",
            "dense_6 (Dense)              (None, 10)                20        \n",
            "_________________________________________________________________\n",
            "dense_7 (Dense)              (None, 1)                 11        \n",
            "=================================================================\n",
            "Total params: 31\n",
            "Trainable params: 31\n",
            "Non-trainable params: 0\n",
            "_________________________________________________________________\n"
          ],
          "name": "stdout"
        }
      ]
    },
    {
      "cell_type": "code",
      "metadata": {
        "colab": {
          "base_uri": "https://localhost:8080/"
        },
        "id": "9tAE0IE7wHWz",
        "outputId": "112839ea-108a-4cbb-f4b9-617221ba81f7"
      },
      "source": [
        "# Check to see if loaded .h5 model predictions match model_2\n",
        "model_2_preds = model_2.predict(X_test)\n",
        "loaded_h5_model_preds = loaded_h5_model.predict(X_test)\n",
        "model_2_preds == loaded_h5_model_preds"
      ],
      "execution_count": 66,
      "outputs": [
        {
          "output_type": "stream",
          "text": [
            "WARNING:tensorflow:9 out of the last 11 calls to <function Model.make_predict_function.<locals>.predict_function at 0x7fb00fc6ce60> triggered tf.function retracing. Tracing is expensive and the excessive number of tracings could be due to (1) creating @tf.function repeatedly in a loop, (2) passing tensors with different shapes, (3) passing Python objects instead of tensors. For (1), please define your @tf.function outside of the loop. For (2), @tf.function has experimental_relax_shapes=True option that relaxes argument shapes that can avoid unnecessary retracing. For (3), please refer to https://www.tensorflow.org/guide/function#controlling_retracing and https://www.tensorflow.org/api_docs/python/tf/function for  more details.\n"
          ],
          "name": "stdout"
        },
        {
          "output_type": "execute_result",
          "data": {
            "text/plain": [
              "array([[ True],\n",
              "       [ True],\n",
              "       [ True],\n",
              "       [ True],\n",
              "       [ True],\n",
              "       [ True],\n",
              "       [ True],\n",
              "       [ True],\n",
              "       [ True],\n",
              "       [ True]])"
            ]
          },
          "metadata": {
            "tags": []
          },
          "execution_count": 66
        }
      ]
    },
    {
      "cell_type": "markdown",
      "metadata": {
        "id": "YUFnorbpwon_"
      },
      "source": [
        "## Download a model (or any other file) from Google Colab\n",
        "\n",
        "If you want to download your files from Google Colab:\n",
        "\n",
        "1. You can go to the \"files\" tab and right click on the file you're after and click \"download\".\n",
        "2. Use code (see the cell below).\n",
        "3. Save it to Google Drive by connecting Google Drive and copying it there (see 2nd code cell below)."
      ]
    },
    {
      "cell_type": "code",
      "metadata": {
        "colab": {
          "base_uri": "https://localhost:8080/",
          "height": 17
        },
        "id": "MrfvCrjgxSg2",
        "outputId": "2585300e-4dbf-471e-90c8-f3d6a52b3386"
      },
      "source": [
        "# Download a file from Google Colab\n",
        "from google.colab import files\n",
        "files.download(\"/content/best_model_HDF5_format.h5\")"
      ],
      "execution_count": 67,
      "outputs": [
        {
          "output_type": "display_data",
          "data": {
            "application/javascript": [
              "\n",
              "    async function download(id, filename, size) {\n",
              "      if (!google.colab.kernel.accessAllowed) {\n",
              "        return;\n",
              "      }\n",
              "      const div = document.createElement('div');\n",
              "      const label = document.createElement('label');\n",
              "      label.textContent = `Downloading \"${filename}\": `;\n",
              "      div.appendChild(label);\n",
              "      const progress = document.createElement('progress');\n",
              "      progress.max = size;\n",
              "      div.appendChild(progress);\n",
              "      document.body.appendChild(div);\n",
              "\n",
              "      const buffers = [];\n",
              "      let downloaded = 0;\n",
              "\n",
              "      const channel = await google.colab.kernel.comms.open(id);\n",
              "      // Send a message to notify the kernel that we're ready.\n",
              "      channel.send({})\n",
              "\n",
              "      for await (const message of channel.messages) {\n",
              "        // Send a message to notify the kernel that we're ready.\n",
              "        channel.send({})\n",
              "        if (message.buffers) {\n",
              "          for (const buffer of message.buffers) {\n",
              "            buffers.push(buffer);\n",
              "            downloaded += buffer.byteLength;\n",
              "            progress.value = downloaded;\n",
              "          }\n",
              "        }\n",
              "      }\n",
              "      const blob = new Blob(buffers, {type: 'application/binary'});\n",
              "      const a = document.createElement('a');\n",
              "      a.href = window.URL.createObjectURL(blob);\n",
              "      a.download = filename;\n",
              "      div.appendChild(a);\n",
              "      a.click();\n",
              "      div.remove();\n",
              "    }\n",
              "  "
            ],
            "text/plain": [
              "<IPython.core.display.Javascript object>"
            ]
          },
          "metadata": {
            "tags": []
          }
        },
        {
          "output_type": "display_data",
          "data": {
            "application/javascript": [
              "download(\"download_c111bcb7-b613-4ef3-b0d9-a06b8bf7c24f\", \"best_model_HDF5_format.h5\", 16952)"
            ],
            "text/plain": [
              "<IPython.core.display.Javascript object>"
            ]
          },
          "metadata": {
            "tags": []
          }
        }
      ]
    },
    {
      "cell_type": "code",
      "metadata": {
        "id": "9eQEQSJ8xypc"
      },
      "source": [
        "# Save a file from Google Colab to Google Drive (requires mounting Google Drive)\n",
        "!cp /content/best_model_HDF5_format.h5 /content/drive/MyDrive/tensorflow_course"
      ],
      "execution_count": null,
      "outputs": []
    },
    {
      "cell_type": "code",
      "metadata": {
        "colab": {
          "base_uri": "https://localhost:8080/"
        },
        "id": "0ODwgyDRyaBh",
        "outputId": "c3d45bf7-156c-4496-c201-2e75fed8073a"
      },
      "source": [
        "!ls /content/drive/MyDrive/tensorflow_course"
      ],
      "execution_count": null,
      "outputs": [
        {
          "output_type": "stream",
          "text": [
            "101_food_class_10_percent_saved_big_dog_model  food_vision\n",
            "10_food_classes_model_5_epochs\t\t       skim_lit\n",
            "best_model_HDF5_format.h5\n"
          ],
          "name": "stdout"
        }
      ]
    },
    {
      "cell_type": "markdown",
      "metadata": {
        "id": "e-Yv-2Bhymy6"
      },
      "source": [
        "## A larger example"
      ]
    },
    {
      "cell_type": "code",
      "metadata": {
        "id": "6vZ8AIbD1XpM"
      },
      "source": [
        "# Import required libraries\n",
        "import tensorflow as tf\n",
        "import pandas as pd\n",
        "import matplotlib.pyplot as plt"
      ],
      "execution_count": 69,
      "outputs": []
    },
    {
      "cell_type": "code",
      "metadata": {
        "colab": {
          "base_uri": "https://localhost:8080/",
          "height": 402
        },
        "id": "uPQmsO6Y2Exv",
        "outputId": "e0d8e59e-8e2f-479c-ab72-a9a6fd6b01a2"
      },
      "source": [
        "# Read in the insurance dataset\n",
        "insurance = pd.read_csv(\"https://raw.githubusercontent.com/stedy/Machine-Learning-with-R-datasets/master/insurance.csv\")\n",
        "insurance"
      ],
      "execution_count": 70,
      "outputs": [
        {
          "output_type": "execute_result",
          "data": {
            "text/html": [
              "<div>\n",
              "<style scoped>\n",
              "    .dataframe tbody tr th:only-of-type {\n",
              "        vertical-align: middle;\n",
              "    }\n",
              "\n",
              "    .dataframe tbody tr th {\n",
              "        vertical-align: top;\n",
              "    }\n",
              "\n",
              "    .dataframe thead th {\n",
              "        text-align: right;\n",
              "    }\n",
              "</style>\n",
              "<table border=\"1\" class=\"dataframe\">\n",
              "  <thead>\n",
              "    <tr style=\"text-align: right;\">\n",
              "      <th></th>\n",
              "      <th>age</th>\n",
              "      <th>sex</th>\n",
              "      <th>bmi</th>\n",
              "      <th>children</th>\n",
              "      <th>smoker</th>\n",
              "      <th>region</th>\n",
              "      <th>charges</th>\n",
              "    </tr>\n",
              "  </thead>\n",
              "  <tbody>\n",
              "    <tr>\n",
              "      <th>0</th>\n",
              "      <td>19</td>\n",
              "      <td>female</td>\n",
              "      <td>27.900</td>\n",
              "      <td>0</td>\n",
              "      <td>yes</td>\n",
              "      <td>southwest</td>\n",
              "      <td>16884.92400</td>\n",
              "    </tr>\n",
              "    <tr>\n",
              "      <th>1</th>\n",
              "      <td>18</td>\n",
              "      <td>male</td>\n",
              "      <td>33.770</td>\n",
              "      <td>1</td>\n",
              "      <td>no</td>\n",
              "      <td>southeast</td>\n",
              "      <td>1725.55230</td>\n",
              "    </tr>\n",
              "    <tr>\n",
              "      <th>2</th>\n",
              "      <td>28</td>\n",
              "      <td>male</td>\n",
              "      <td>33.000</td>\n",
              "      <td>3</td>\n",
              "      <td>no</td>\n",
              "      <td>southeast</td>\n",
              "      <td>4449.46200</td>\n",
              "    </tr>\n",
              "    <tr>\n",
              "      <th>3</th>\n",
              "      <td>33</td>\n",
              "      <td>male</td>\n",
              "      <td>22.705</td>\n",
              "      <td>0</td>\n",
              "      <td>no</td>\n",
              "      <td>northwest</td>\n",
              "      <td>21984.47061</td>\n",
              "    </tr>\n",
              "    <tr>\n",
              "      <th>4</th>\n",
              "      <td>32</td>\n",
              "      <td>male</td>\n",
              "      <td>28.880</td>\n",
              "      <td>0</td>\n",
              "      <td>no</td>\n",
              "      <td>northwest</td>\n",
              "      <td>3866.85520</td>\n",
              "    </tr>\n",
              "    <tr>\n",
              "      <th>...</th>\n",
              "      <td>...</td>\n",
              "      <td>...</td>\n",
              "      <td>...</td>\n",
              "      <td>...</td>\n",
              "      <td>...</td>\n",
              "      <td>...</td>\n",
              "      <td>...</td>\n",
              "    </tr>\n",
              "    <tr>\n",
              "      <th>1333</th>\n",
              "      <td>50</td>\n",
              "      <td>male</td>\n",
              "      <td>30.970</td>\n",
              "      <td>3</td>\n",
              "      <td>no</td>\n",
              "      <td>northwest</td>\n",
              "      <td>10600.54830</td>\n",
              "    </tr>\n",
              "    <tr>\n",
              "      <th>1334</th>\n",
              "      <td>18</td>\n",
              "      <td>female</td>\n",
              "      <td>31.920</td>\n",
              "      <td>0</td>\n",
              "      <td>no</td>\n",
              "      <td>northeast</td>\n",
              "      <td>2205.98080</td>\n",
              "    </tr>\n",
              "    <tr>\n",
              "      <th>1335</th>\n",
              "      <td>18</td>\n",
              "      <td>female</td>\n",
              "      <td>36.850</td>\n",
              "      <td>0</td>\n",
              "      <td>no</td>\n",
              "      <td>southeast</td>\n",
              "      <td>1629.83350</td>\n",
              "    </tr>\n",
              "    <tr>\n",
              "      <th>1336</th>\n",
              "      <td>21</td>\n",
              "      <td>female</td>\n",
              "      <td>25.800</td>\n",
              "      <td>0</td>\n",
              "      <td>no</td>\n",
              "      <td>southwest</td>\n",
              "      <td>2007.94500</td>\n",
              "    </tr>\n",
              "    <tr>\n",
              "      <th>1337</th>\n",
              "      <td>61</td>\n",
              "      <td>female</td>\n",
              "      <td>29.070</td>\n",
              "      <td>0</td>\n",
              "      <td>yes</td>\n",
              "      <td>northwest</td>\n",
              "      <td>29141.36030</td>\n",
              "    </tr>\n",
              "  </tbody>\n",
              "</table>\n",
              "<p>1338 rows × 7 columns</p>\n",
              "</div>"
            ],
            "text/plain": [
              "      age     sex     bmi  children smoker     region      charges\n",
              "0      19  female  27.900         0    yes  southwest  16884.92400\n",
              "1      18    male  33.770         1     no  southeast   1725.55230\n",
              "2      28    male  33.000         3     no  southeast   4449.46200\n",
              "3      33    male  22.705         0     no  northwest  21984.47061\n",
              "4      32    male  28.880         0     no  northwest   3866.85520\n",
              "...   ...     ...     ...       ...    ...        ...          ...\n",
              "1333   50    male  30.970         3     no  northwest  10600.54830\n",
              "1334   18  female  31.920         0     no  northeast   2205.98080\n",
              "1335   18  female  36.850         0     no  southeast   1629.83350\n",
              "1336   21  female  25.800         0     no  southwest   2007.94500\n",
              "1337   61  female  29.070         0    yes  northwest  29141.36030\n",
              "\n",
              "[1338 rows x 7 columns]"
            ]
          },
          "metadata": {
            "tags": []
          },
          "execution_count": 70
        }
      ]
    },
    {
      "cell_type": "code",
      "metadata": {
        "colab": {
          "base_uri": "https://localhost:8080/",
          "height": 215
        },
        "id": "robZtd8l2y19",
        "outputId": "5442a4e0-aaf0-42aa-c280-e20f6bfb1cb3"
      },
      "source": [
        "# Let's try one-hot encode our DataFrame so it's all numbers\n",
        "insurance_one_hot = pd.get_dummies(insurance)\n",
        "insurance_one_hot.head()"
      ],
      "execution_count": 71,
      "outputs": [
        {
          "output_type": "execute_result",
          "data": {
            "text/html": [
              "<div>\n",
              "<style scoped>\n",
              "    .dataframe tbody tr th:only-of-type {\n",
              "        vertical-align: middle;\n",
              "    }\n",
              "\n",
              "    .dataframe tbody tr th {\n",
              "        vertical-align: top;\n",
              "    }\n",
              "\n",
              "    .dataframe thead th {\n",
              "        text-align: right;\n",
              "    }\n",
              "</style>\n",
              "<table border=\"1\" class=\"dataframe\">\n",
              "  <thead>\n",
              "    <tr style=\"text-align: right;\">\n",
              "      <th></th>\n",
              "      <th>age</th>\n",
              "      <th>bmi</th>\n",
              "      <th>children</th>\n",
              "      <th>charges</th>\n",
              "      <th>sex_female</th>\n",
              "      <th>sex_male</th>\n",
              "      <th>smoker_no</th>\n",
              "      <th>smoker_yes</th>\n",
              "      <th>region_northeast</th>\n",
              "      <th>region_northwest</th>\n",
              "      <th>region_southeast</th>\n",
              "      <th>region_southwest</th>\n",
              "    </tr>\n",
              "  </thead>\n",
              "  <tbody>\n",
              "    <tr>\n",
              "      <th>0</th>\n",
              "      <td>19</td>\n",
              "      <td>27.900</td>\n",
              "      <td>0</td>\n",
              "      <td>16884.92400</td>\n",
              "      <td>1</td>\n",
              "      <td>0</td>\n",
              "      <td>0</td>\n",
              "      <td>1</td>\n",
              "      <td>0</td>\n",
              "      <td>0</td>\n",
              "      <td>0</td>\n",
              "      <td>1</td>\n",
              "    </tr>\n",
              "    <tr>\n",
              "      <th>1</th>\n",
              "      <td>18</td>\n",
              "      <td>33.770</td>\n",
              "      <td>1</td>\n",
              "      <td>1725.55230</td>\n",
              "      <td>0</td>\n",
              "      <td>1</td>\n",
              "      <td>1</td>\n",
              "      <td>0</td>\n",
              "      <td>0</td>\n",
              "      <td>0</td>\n",
              "      <td>1</td>\n",
              "      <td>0</td>\n",
              "    </tr>\n",
              "    <tr>\n",
              "      <th>2</th>\n",
              "      <td>28</td>\n",
              "      <td>33.000</td>\n",
              "      <td>3</td>\n",
              "      <td>4449.46200</td>\n",
              "      <td>0</td>\n",
              "      <td>1</td>\n",
              "      <td>1</td>\n",
              "      <td>0</td>\n",
              "      <td>0</td>\n",
              "      <td>0</td>\n",
              "      <td>1</td>\n",
              "      <td>0</td>\n",
              "    </tr>\n",
              "    <tr>\n",
              "      <th>3</th>\n",
              "      <td>33</td>\n",
              "      <td>22.705</td>\n",
              "      <td>0</td>\n",
              "      <td>21984.47061</td>\n",
              "      <td>0</td>\n",
              "      <td>1</td>\n",
              "      <td>1</td>\n",
              "      <td>0</td>\n",
              "      <td>0</td>\n",
              "      <td>1</td>\n",
              "      <td>0</td>\n",
              "      <td>0</td>\n",
              "    </tr>\n",
              "    <tr>\n",
              "      <th>4</th>\n",
              "      <td>32</td>\n",
              "      <td>28.880</td>\n",
              "      <td>0</td>\n",
              "      <td>3866.85520</td>\n",
              "      <td>0</td>\n",
              "      <td>1</td>\n",
              "      <td>1</td>\n",
              "      <td>0</td>\n",
              "      <td>0</td>\n",
              "      <td>1</td>\n",
              "      <td>0</td>\n",
              "      <td>0</td>\n",
              "    </tr>\n",
              "  </tbody>\n",
              "</table>\n",
              "</div>"
            ],
            "text/plain": [
              "   age     bmi  children  ...  region_northwest  region_southeast  region_southwest\n",
              "0   19  27.900         0  ...                 0                 0                 1\n",
              "1   18  33.770         1  ...                 0                 1                 0\n",
              "2   28  33.000         3  ...                 0                 1                 0\n",
              "3   33  22.705         0  ...                 1                 0                 0\n",
              "4   32  28.880         0  ...                 1                 0                 0\n",
              "\n",
              "[5 rows x 12 columns]"
            ]
          },
          "metadata": {
            "tags": []
          },
          "execution_count": 71
        }
      ]
    },
    {
      "cell_type": "code",
      "metadata": {
        "id": "jGU53qHw3yTQ"
      },
      "source": [
        "# Create X & y values (features and labels)\n",
        "X = insurance_one_hot.drop(\"charges\", axis=1)\n",
        "y = insurance_one_hot[\"charges\"]"
      ],
      "execution_count": 72,
      "outputs": []
    },
    {
      "cell_type": "code",
      "metadata": {
        "colab": {
          "base_uri": "https://localhost:8080/",
          "height": 195
        },
        "id": "879Oxm4Z5I9H",
        "outputId": "22e9d1cc-b9fa-4f12-f8a9-25e4a9d99b48"
      },
      "source": [
        "# View X\n",
        "X.head()"
      ],
      "execution_count": 73,
      "outputs": [
        {
          "output_type": "execute_result",
          "data": {
            "text/html": [
              "<div>\n",
              "<style scoped>\n",
              "    .dataframe tbody tr th:only-of-type {\n",
              "        vertical-align: middle;\n",
              "    }\n",
              "\n",
              "    .dataframe tbody tr th {\n",
              "        vertical-align: top;\n",
              "    }\n",
              "\n",
              "    .dataframe thead th {\n",
              "        text-align: right;\n",
              "    }\n",
              "</style>\n",
              "<table border=\"1\" class=\"dataframe\">\n",
              "  <thead>\n",
              "    <tr style=\"text-align: right;\">\n",
              "      <th></th>\n",
              "      <th>age</th>\n",
              "      <th>bmi</th>\n",
              "      <th>children</th>\n",
              "      <th>sex_female</th>\n",
              "      <th>sex_male</th>\n",
              "      <th>smoker_no</th>\n",
              "      <th>smoker_yes</th>\n",
              "      <th>region_northeast</th>\n",
              "      <th>region_northwest</th>\n",
              "      <th>region_southeast</th>\n",
              "      <th>region_southwest</th>\n",
              "    </tr>\n",
              "  </thead>\n",
              "  <tbody>\n",
              "    <tr>\n",
              "      <th>0</th>\n",
              "      <td>19</td>\n",
              "      <td>27.900</td>\n",
              "      <td>0</td>\n",
              "      <td>1</td>\n",
              "      <td>0</td>\n",
              "      <td>0</td>\n",
              "      <td>1</td>\n",
              "      <td>0</td>\n",
              "      <td>0</td>\n",
              "      <td>0</td>\n",
              "      <td>1</td>\n",
              "    </tr>\n",
              "    <tr>\n",
              "      <th>1</th>\n",
              "      <td>18</td>\n",
              "      <td>33.770</td>\n",
              "      <td>1</td>\n",
              "      <td>0</td>\n",
              "      <td>1</td>\n",
              "      <td>1</td>\n",
              "      <td>0</td>\n",
              "      <td>0</td>\n",
              "      <td>0</td>\n",
              "      <td>1</td>\n",
              "      <td>0</td>\n",
              "    </tr>\n",
              "    <tr>\n",
              "      <th>2</th>\n",
              "      <td>28</td>\n",
              "      <td>33.000</td>\n",
              "      <td>3</td>\n",
              "      <td>0</td>\n",
              "      <td>1</td>\n",
              "      <td>1</td>\n",
              "      <td>0</td>\n",
              "      <td>0</td>\n",
              "      <td>0</td>\n",
              "      <td>1</td>\n",
              "      <td>0</td>\n",
              "    </tr>\n",
              "    <tr>\n",
              "      <th>3</th>\n",
              "      <td>33</td>\n",
              "      <td>22.705</td>\n",
              "      <td>0</td>\n",
              "      <td>0</td>\n",
              "      <td>1</td>\n",
              "      <td>1</td>\n",
              "      <td>0</td>\n",
              "      <td>0</td>\n",
              "      <td>1</td>\n",
              "      <td>0</td>\n",
              "      <td>0</td>\n",
              "    </tr>\n",
              "    <tr>\n",
              "      <th>4</th>\n",
              "      <td>32</td>\n",
              "      <td>28.880</td>\n",
              "      <td>0</td>\n",
              "      <td>0</td>\n",
              "      <td>1</td>\n",
              "      <td>1</td>\n",
              "      <td>0</td>\n",
              "      <td>0</td>\n",
              "      <td>1</td>\n",
              "      <td>0</td>\n",
              "      <td>0</td>\n",
              "    </tr>\n",
              "  </tbody>\n",
              "</table>\n",
              "</div>"
            ],
            "text/plain": [
              "   age     bmi  children  ...  region_northwest  region_southeast  region_southwest\n",
              "0   19  27.900         0  ...                 0                 0                 1\n",
              "1   18  33.770         1  ...                 0                 1                 0\n",
              "2   28  33.000         3  ...                 0                 1                 0\n",
              "3   33  22.705         0  ...                 1                 0                 0\n",
              "4   32  28.880         0  ...                 1                 0                 0\n",
              "\n",
              "[5 rows x 11 columns]"
            ]
          },
          "metadata": {
            "tags": []
          },
          "execution_count": 73
        }
      ]
    },
    {
      "cell_type": "code",
      "metadata": {
        "colab": {
          "base_uri": "https://localhost:8080/"
        },
        "id": "tkDW7YGa5MNu",
        "outputId": "59e1b2e2-0a39-4ef5-9a36-346aed89c1a7"
      },
      "source": [
        "# View y\n",
        "y.head()"
      ],
      "execution_count": 74,
      "outputs": [
        {
          "output_type": "execute_result",
          "data": {
            "text/plain": [
              "0    16884.92400\n",
              "1     1725.55230\n",
              "2     4449.46200\n",
              "3    21984.47061\n",
              "4     3866.85520\n",
              "Name: charges, dtype: float64"
            ]
          },
          "metadata": {
            "tags": []
          },
          "execution_count": 74
        }
      ]
    },
    {
      "cell_type": "code",
      "metadata": {
        "colab": {
          "base_uri": "https://localhost:8080/"
        },
        "id": "5a1cIygD46Ng",
        "outputId": "5e33f50f-058d-437f-ea9c-a9de0dc1d90c"
      },
      "source": [
        "# Create training and test sets\n",
        "from sklearn.model_selection import train_test_split\n",
        "X_train, X_test, y_train, y_test = train_test_split(X, y, test_size=0.2, random_state=42)\n",
        "len(X), len(X_train), len(X_test)"
      ],
      "execution_count": 75,
      "outputs": [
        {
          "output_type": "execute_result",
          "data": {
            "text/plain": [
              "(1338, 1070, 268)"
            ]
          },
          "metadata": {
            "tags": []
          },
          "execution_count": 75
        }
      ]
    },
    {
      "cell_type": "code",
      "metadata": {
        "colab": {
          "base_uri": "https://localhost:8080/"
        },
        "id": "E6A8y4WT47s4",
        "outputId": "735ea887-f583-4d9d-cf45-52e6343eea76"
      },
      "source": [
        "# Build a neural network (sort of like model_2 above)\n",
        "tf.random.set_seed(42)\n",
        "\n",
        "# 1. Create a model\n",
        "insurance_model = tf.keras.Sequential([\n",
        "  tf.keras.layers.Dense(10),\n",
        "  tf.keras.layers.Dense(1)\n",
        "])\n",
        "\n",
        "# 2. Compile the model\n",
        "insurance_model.compile(loss=tf.keras.losses.mae,\n",
        "                        optimizer=tf.keras.optimizers.SGD(),\n",
        "                        metrics=[\"mae\"])\n",
        "\n",
        "# 3. Fit the model\n",
        "insurance_model.fit(X_train, y_train, epochs=100)"
      ],
      "execution_count": 76,
      "outputs": [
        {
          "output_type": "stream",
          "text": [
            "Epoch 1/100\n",
            "34/34 [==============================] - 0s 1ms/step - loss: 10200.7270 - mae: 10200.7270\n",
            "Epoch 2/100\n",
            "34/34 [==============================] - 0s 1ms/step - loss: 7718.1918 - mae: 7718.1918\n",
            "Epoch 3/100\n",
            "34/34 [==============================] - 0s 1ms/step - loss: 6983.7825 - mae: 6983.7825\n",
            "Epoch 4/100\n",
            "34/34 [==============================] - 0s 977us/step - loss: 8083.4823 - mae: 8083.4823\n",
            "Epoch 5/100\n",
            "34/34 [==============================] - 0s 1ms/step - loss: 7793.8446 - mae: 7793.8446\n",
            "Epoch 6/100\n",
            "34/34 [==============================] - 0s 1ms/step - loss: 7618.4114 - mae: 7618.4114\n",
            "Epoch 7/100\n",
            "34/34 [==============================] - 0s 1ms/step - loss: 7678.4982 - mae: 7678.4982\n",
            "Epoch 8/100\n",
            "34/34 [==============================] - 0s 1ms/step - loss: 7780.4293 - mae: 7780.4293\n",
            "Epoch 9/100\n",
            "34/34 [==============================] - 0s 1ms/step - loss: 7588.8131 - mae: 7588.8131\n",
            "Epoch 10/100\n",
            "34/34 [==============================] - 0s 977us/step - loss: 7520.6834 - mae: 7520.6834\n",
            "Epoch 11/100\n",
            "34/34 [==============================] - 0s 1ms/step - loss: 8309.7824 - mae: 8309.7824\n",
            "Epoch 12/100\n",
            "34/34 [==============================] - 0s 1ms/step - loss: 7748.0188 - mae: 7748.0188\n",
            "Epoch 13/100\n",
            "34/34 [==============================] - 0s 1ms/step - loss: 7888.3570 - mae: 7888.3570\n",
            "Epoch 14/100\n",
            "34/34 [==============================] - 0s 1ms/step - loss: 7731.1156 - mae: 7731.1156\n",
            "Epoch 15/100\n",
            "34/34 [==============================] - 0s 1ms/step - loss: 7786.1046 - mae: 7786.1046\n",
            "Epoch 16/100\n",
            "34/34 [==============================] - 0s 1ms/step - loss: 8343.8844 - mae: 8343.8844\n",
            "Epoch 17/100\n",
            "34/34 [==============================] - 0s 1ms/step - loss: 7142.3614 - mae: 7142.3614\n",
            "Epoch 18/100\n",
            "34/34 [==============================] - 0s 966us/step - loss: 8070.0514 - mae: 8070.0514\n",
            "Epoch 19/100\n",
            "34/34 [==============================] - 0s 1ms/step - loss: 7604.8299 - mae: 7604.8299\n",
            "Epoch 20/100\n",
            "34/34 [==============================] - 0s 1ms/step - loss: 7945.1275 - mae: 7945.1275\n",
            "Epoch 21/100\n",
            "34/34 [==============================] - 0s 1ms/step - loss: 6864.6826 - mae: 6864.6826\n",
            "Epoch 22/100\n",
            "34/34 [==============================] - 0s 975us/step - loss: 7505.7917 - mae: 7505.7917\n",
            "Epoch 23/100\n",
            "34/34 [==============================] - 0s 1ms/step - loss: 7621.7373 - mae: 7621.7373\n",
            "Epoch 24/100\n",
            "34/34 [==============================] - 0s 1ms/step - loss: 7262.7541 - mae: 7262.7541\n",
            "Epoch 25/100\n",
            "34/34 [==============================] - 0s 1ms/step - loss: 8156.1950 - mae: 8156.1950\n",
            "Epoch 26/100\n",
            "34/34 [==============================] - 0s 1ms/step - loss: 7246.2713 - mae: 7246.2713\n",
            "Epoch 27/100\n",
            "34/34 [==============================] - 0s 1ms/step - loss: 7562.7819 - mae: 7562.7819\n",
            "Epoch 28/100\n",
            "34/34 [==============================] - 0s 1ms/step - loss: 7842.6208 - mae: 7842.6208\n",
            "Epoch 29/100\n",
            "34/34 [==============================] - 0s 1ms/step - loss: 7153.8771 - mae: 7153.8771\n",
            "Epoch 30/100\n",
            "34/34 [==============================] - 0s 1ms/step - loss: 7723.4958 - mae: 7723.4958\n",
            "Epoch 31/100\n",
            "34/34 [==============================] - 0s 1ms/step - loss: 8310.0626 - mae: 8310.0626\n",
            "Epoch 32/100\n",
            "34/34 [==============================] - 0s 1ms/step - loss: 7734.9659 - mae: 7734.9659\n",
            "Epoch 33/100\n",
            "34/34 [==============================] - 0s 1ms/step - loss: 7403.4657 - mae: 7403.4657\n",
            "Epoch 34/100\n",
            "34/34 [==============================] - 0s 1ms/step - loss: 7482.6286 - mae: 7482.6286\n",
            "Epoch 35/100\n",
            "34/34 [==============================] - 0s 1ms/step - loss: 7198.8918 - mae: 7198.8918\n",
            "Epoch 36/100\n",
            "34/34 [==============================] - 0s 1ms/step - loss: 7484.1018 - mae: 7484.1018\n",
            "Epoch 37/100\n",
            "34/34 [==============================] - 0s 1ms/step - loss: 7701.6282 - mae: 7701.6282\n",
            "Epoch 38/100\n",
            "34/34 [==============================] - 0s 1ms/step - loss: 6923.6147 - mae: 6923.6147\n",
            "Epoch 39/100\n",
            "34/34 [==============================] - 0s 1ms/step - loss: 7673.7908 - mae: 7673.7908\n",
            "Epoch 40/100\n",
            "34/34 [==============================] - 0s 971us/step - loss: 7670.9196 - mae: 7670.9196\n",
            "Epoch 41/100\n",
            "34/34 [==============================] - 0s 1ms/step - loss: 7774.5879 - mae: 7774.5879\n",
            "Epoch 42/100\n",
            "34/34 [==============================] - 0s 1ms/step - loss: 7413.0881 - mae: 7413.0881\n",
            "Epoch 43/100\n",
            "34/34 [==============================] - 0s 1ms/step - loss: 7793.8666 - mae: 7793.8666\n",
            "Epoch 44/100\n",
            "34/34 [==============================] - 0s 1ms/step - loss: 7239.3580 - mae: 7239.3580\n",
            "Epoch 45/100\n",
            "34/34 [==============================] - 0s 1ms/step - loss: 7402.6568 - mae: 7402.6568\n",
            "Epoch 46/100\n",
            "34/34 [==============================] - 0s 1ms/step - loss: 7167.7288 - mae: 7167.7288\n",
            "Epoch 47/100\n",
            "34/34 [==============================] - 0s 1ms/step - loss: 7716.9021 - mae: 7716.9021\n",
            "Epoch 48/100\n",
            "34/34 [==============================] - 0s 1ms/step - loss: 7509.9137 - mae: 7509.9137\n",
            "Epoch 49/100\n",
            "34/34 [==============================] - 0s 1ms/step - loss: 7216.6765 - mae: 7216.6765\n",
            "Epoch 50/100\n",
            "34/34 [==============================] - 0s 1ms/step - loss: 7354.2574 - mae: 7354.2574\n",
            "Epoch 51/100\n",
            "34/34 [==============================] - 0s 1ms/step - loss: 7587.3343 - mae: 7587.3343\n",
            "Epoch 52/100\n",
            "34/34 [==============================] - 0s 1ms/step - loss: 7697.7624 - mae: 7697.7624\n",
            "Epoch 53/100\n",
            "34/34 [==============================] - 0s 1ms/step - loss: 7084.7633 - mae: 7084.7633\n",
            "Epoch 54/100\n",
            "34/34 [==============================] - 0s 988us/step - loss: 7366.1161 - mae: 7366.1161\n",
            "Epoch 55/100\n",
            "34/34 [==============================] - 0s 1ms/step - loss: 7354.5008 - mae: 7354.5008\n",
            "Epoch 56/100\n",
            "34/34 [==============================] - 0s 1ms/step - loss: 7201.4707 - mae: 7201.4707\n",
            "Epoch 57/100\n",
            "34/34 [==============================] - 0s 1ms/step - loss: 7612.1702 - mae: 7612.1702\n",
            "Epoch 58/100\n",
            "34/34 [==============================] - 0s 1ms/step - loss: 7684.3348 - mae: 7684.3348\n",
            "Epoch 59/100\n",
            "34/34 [==============================] - 0s 1ms/step - loss: 7315.3648 - mae: 7315.3648\n",
            "Epoch 60/100\n",
            "34/34 [==============================] - 0s 1ms/step - loss: 7381.6660 - mae: 7381.6660\n",
            "Epoch 61/100\n",
            "34/34 [==============================] - 0s 1ms/step - loss: 7842.5246 - mae: 7842.5246\n",
            "Epoch 62/100\n",
            "34/34 [==============================] - 0s 1ms/step - loss: 7346.2639 - mae: 7346.2639\n",
            "Epoch 63/100\n",
            "34/34 [==============================] - 0s 1ms/step - loss: 7634.5373 - mae: 7634.5373\n",
            "Epoch 64/100\n",
            "34/34 [==============================] - 0s 1ms/step - loss: 6976.2137 - mae: 6976.2137\n",
            "Epoch 65/100\n",
            "34/34 [==============================] - 0s 1ms/step - loss: 7608.7969 - mae: 7608.7969\n",
            "Epoch 66/100\n",
            "34/34 [==============================] - 0s 1ms/step - loss: 7275.7901 - mae: 7275.7901\n",
            "Epoch 67/100\n",
            "34/34 [==============================] - 0s 1ms/step - loss: 7244.1644 - mae: 7244.1644\n",
            "Epoch 68/100\n",
            "34/34 [==============================] - 0s 1ms/step - loss: 7553.0944 - mae: 7553.0944\n",
            "Epoch 69/100\n",
            "34/34 [==============================] - 0s 1ms/step - loss: 8028.1965 - mae: 8028.1965\n",
            "Epoch 70/100\n",
            "34/34 [==============================] - 0s 1ms/step - loss: 7150.7140 - mae: 7150.7140\n",
            "Epoch 71/100\n",
            "34/34 [==============================] - 0s 1ms/step - loss: 7137.5194 - mae: 7137.5194\n",
            "Epoch 72/100\n",
            "34/34 [==============================] - 0s 975us/step - loss: 6708.9289 - mae: 6708.9289\n",
            "Epoch 73/100\n",
            "34/34 [==============================] - 0s 1ms/step - loss: 7554.2732 - mae: 7554.2732\n",
            "Epoch 74/100\n",
            "34/34 [==============================] - 0s 1ms/step - loss: 7060.4082 - mae: 7060.4082\n",
            "Epoch 75/100\n",
            "34/34 [==============================] - 0s 1ms/step - loss: 7564.8154 - mae: 7564.8154\n",
            "Epoch 76/100\n",
            "34/34 [==============================] - 0s 1ms/step - loss: 7016.7824 - mae: 7016.7824\n",
            "Epoch 77/100\n",
            "34/34 [==============================] - 0s 1ms/step - loss: 7936.9771 - mae: 7936.9771\n",
            "Epoch 78/100\n",
            "34/34 [==============================] - 0s 1ms/step - loss: 6828.1385 - mae: 6828.1385\n",
            "Epoch 79/100\n",
            "34/34 [==============================] - 0s 1ms/step - loss: 6875.0803 - mae: 6875.0803\n",
            "Epoch 80/100\n",
            "34/34 [==============================] - 0s 1ms/step - loss: 6770.6309 - mae: 6770.6309\n",
            "Epoch 81/100\n",
            "34/34 [==============================] - 0s 1ms/step - loss: 7216.2089 - mae: 7216.2089\n",
            "Epoch 82/100\n",
            "34/34 [==============================] - 0s 1ms/step - loss: 7774.2737 - mae: 7774.2737\n",
            "Epoch 83/100\n",
            "34/34 [==============================] - 0s 1ms/step - loss: 7156.2561 - mae: 7156.2561\n",
            "Epoch 84/100\n",
            "34/34 [==============================] - 0s 1ms/step - loss: 7436.0038 - mae: 7436.0038\n",
            "Epoch 85/100\n",
            "34/34 [==============================] - 0s 1ms/step - loss: 6855.7935 - mae: 6855.7935\n",
            "Epoch 86/100\n",
            "34/34 [==============================] - 0s 1ms/step - loss: 7768.8272 - mae: 7768.8272\n",
            "Epoch 87/100\n",
            "34/34 [==============================] - 0s 1ms/step - loss: 7014.5803 - mae: 7014.5803\n",
            "Epoch 88/100\n",
            "34/34 [==============================] - 0s 1ms/step - loss: 7525.7779 - mae: 7525.7779\n",
            "Epoch 89/100\n",
            "34/34 [==============================] - 0s 1ms/step - loss: 6994.6074 - mae: 6994.6074\n",
            "Epoch 90/100\n",
            "34/34 [==============================] - 0s 1ms/step - loss: 7677.9609 - mae: 7677.9609\n",
            "Epoch 91/100\n",
            "34/34 [==============================] - 0s 1ms/step - loss: 7210.0508 - mae: 7210.0508\n",
            "Epoch 92/100\n",
            "34/34 [==============================] - 0s 1ms/step - loss: 7335.2229 - mae: 7335.2229\n",
            "Epoch 93/100\n",
            "34/34 [==============================] - 0s 1ms/step - loss: 7235.0912 - mae: 7235.0912\n",
            "Epoch 94/100\n",
            "34/34 [==============================] - 0s 1ms/step - loss: 6728.8875 - mae: 6728.8875\n",
            "Epoch 95/100\n",
            "34/34 [==============================] - 0s 1ms/step - loss: 7811.5180 - mae: 7811.5180\n",
            "Epoch 96/100\n",
            "34/34 [==============================] - 0s 1ms/step - loss: 7430.2757 - mae: 7430.2757\n",
            "Epoch 97/100\n",
            "34/34 [==============================] - 0s 1ms/step - loss: 6876.5980 - mae: 6876.5980\n",
            "Epoch 98/100\n",
            "34/34 [==============================] - 0s 1ms/step - loss: 7070.8702 - mae: 7070.8702\n",
            "Epoch 99/100\n",
            "34/34 [==============================] - 0s 1ms/step - loss: 7118.6878 - mae: 7118.6878\n",
            "Epoch 100/100\n",
            "34/34 [==============================] - 0s 1ms/step - loss: 6880.6746 - mae: 6880.6746\n"
          ],
          "name": "stdout"
        },
        {
          "output_type": "execute_result",
          "data": {
            "text/plain": [
              "<tensorflow.python.keras.callbacks.History at 0x7fb0031c5e50>"
            ]
          },
          "metadata": {
            "tags": []
          },
          "execution_count": 76
        }
      ]
    },
    {
      "cell_type": "code",
      "metadata": {
        "colab": {
          "base_uri": "https://localhost:8080/"
        },
        "id": "PmRjvYMu6Yeu",
        "outputId": "111b0376-a856-4153-aa9e-fd8a7c25b87e"
      },
      "source": [
        "# Check the results of the insurance model on the test data\n",
        "insurance_model.evaluate(X_test, y_test)"
      ],
      "execution_count": null,
      "outputs": [
        {
          "output_type": "stream",
          "text": [
            "9/9 [==============================] - 0s 1ms/step - loss: 7023.3291 - mae: 7023.3291\n"
          ],
          "name": "stdout"
        },
        {
          "output_type": "execute_result",
          "data": {
            "text/plain": [
              "[7023.3291015625, 7023.3291015625]"
            ]
          },
          "metadata": {
            "tags": []
          },
          "execution_count": 88
        }
      ]
    },
    {
      "cell_type": "code",
      "metadata": {
        "colab": {
          "base_uri": "https://localhost:8080/"
        },
        "id": "0u1tPVZu7bx9",
        "outputId": "5ef0dfc4-853c-4fc2-c91c-e1f13c21fa2b"
      },
      "source": [
        "y_train.median(), y_train.mean()"
      ],
      "execution_count": 77,
      "outputs": [
        {
          "output_type": "execute_result",
          "data": {
            "text/plain": [
              "(9575.4421, 13346.089736364489)"
            ]
          },
          "metadata": {
            "tags": []
          },
          "execution_count": 77
        }
      ]
    },
    {
      "cell_type": "markdown",
      "metadata": {
        "id": "OEMaHr1m7j9n"
      },
      "source": [
        "Right now it looks like our model isn't performing too well... let's try and improve it!\n",
        "\n",
        "To (try) improve our model, we'll run 2 experiments:\n",
        "1. Add an extra layer with more hidden units and use the Adam optimizer\n",
        "2. Same as above but train for longer (200 epochs)\n",
        "3. (insert your own experiment here)"
      ]
    },
    {
      "cell_type": "code",
      "metadata": {
        "colab": {
          "base_uri": "https://localhost:8080/"
        },
        "id": "2PV6yAHm9dR0",
        "outputId": "18d7ed31-63a3-4aec-bf6c-d20eb564d21f"
      },
      "source": [
        "X_train, y_train"
      ],
      "execution_count": 78,
      "outputs": [
        {
          "output_type": "execute_result",
          "data": {
            "text/plain": [
              "(      age     bmi  ...  region_southeast  region_southwest\n",
              " 560    46  19.950  ...                 0                 0\n",
              " 1285   47  24.320  ...                 0                 0\n",
              " 1142   52  24.860  ...                 1                 0\n",
              " 969    39  34.320  ...                 1                 0\n",
              " 486    54  21.470  ...                 0                 0\n",
              " ...   ...     ...  ...               ...               ...\n",
              " 1095   18  31.350  ...                 0                 0\n",
              " 1130   39  23.870  ...                 1                 0\n",
              " 1294   58  25.175  ...                 0                 0\n",
              " 860    37  47.600  ...                 0                 1\n",
              " 1126   55  29.900  ...                 0                 1\n",
              " \n",
              " [1070 rows x 11 columns], 560      9193.83850\n",
              " 1285     8534.67180\n",
              " 1142    27117.99378\n",
              " 969      8596.82780\n",
              " 486     12475.35130\n",
              "            ...     \n",
              " 1095     4561.18850\n",
              " 1130     8582.30230\n",
              " 1294    11931.12525\n",
              " 860     46113.51100\n",
              " 1126    10214.63600\n",
              " Name: charges, Length: 1070, dtype: float64)"
            ]
          },
          "metadata": {
            "tags": []
          },
          "execution_count": 78
        }
      ]
    },
    {
      "cell_type": "code",
      "metadata": {
        "colab": {
          "base_uri": "https://localhost:8080/"
        },
        "id": "2437V9zH758n",
        "outputId": "c40fd23e-ca53-45b5-a2be-afaa897f01b3"
      },
      "source": [
        "# Set random seed\n",
        "tf.random.set_seed(42)\n",
        "\n",
        "# 1. Create the model\n",
        "insurance_model_2 = tf.keras.Sequential([\n",
        "  tf.keras.layers.Dense(100),\n",
        "  tf.keras.layers.Dense(10),\n",
        "  tf.keras.layers.Dense(1)\n",
        "])\n",
        "\n",
        "# 2. Compile the model\n",
        "insurance_model_2.compile(loss=tf.keras.losses.mae,\n",
        "                          optimizer=tf.keras.optimizers.Adam(),\n",
        "                          metrics=[\"mae\"])\n",
        "\n",
        "# 3. Fit the model\n",
        "insurance_model_2.fit(X_train, y_train, epochs=100, verbose=1)"
      ],
      "execution_count": 79,
      "outputs": [
        {
          "output_type": "stream",
          "text": [
            "Epoch 1/100\n",
            "34/34 [==============================] - 0s 1ms/step - loss: 13251.7400 - mae: 13251.7400\n",
            "Epoch 2/100\n",
            "34/34 [==============================] - 0s 1ms/step - loss: 12768.7726 - mae: 12768.7726\n",
            "Epoch 3/100\n",
            "34/34 [==============================] - 0s 1ms/step - loss: 12248.2855 - mae: 12248.2855\n",
            "Epoch 4/100\n",
            "34/34 [==============================] - 0s 2ms/step - loss: 12353.0241 - mae: 12353.0241\n",
            "Epoch 5/100\n",
            "34/34 [==============================] - 0s 2ms/step - loss: 11243.3972 - mae: 11243.3972\n",
            "Epoch 6/100\n",
            "34/34 [==============================] - 0s 1ms/step - loss: 9718.5257 - mae: 9718.5257\n",
            "Epoch 7/100\n",
            "34/34 [==============================] - 0s 2ms/step - loss: 8354.8474 - mae: 8354.8474\n",
            "Epoch 8/100\n",
            "34/34 [==============================] - 0s 1ms/step - loss: 7732.2963 - mae: 7732.2963\n",
            "Epoch 9/100\n",
            "34/34 [==============================] - 0s 1ms/step - loss: 7537.6737 - mae: 7537.6737\n",
            "Epoch 10/100\n",
            "34/34 [==============================] - 0s 1ms/step - loss: 7652.7184 - mae: 7652.7184\n",
            "Epoch 11/100\n",
            "34/34 [==============================] - 0s 1ms/step - loss: 7802.4481 - mae: 7802.4481\n",
            "Epoch 12/100\n",
            "34/34 [==============================] - 0s 1ms/step - loss: 7370.3458 - mae: 7370.3458\n",
            "Epoch 13/100\n",
            "34/34 [==============================] - 0s 1ms/step - loss: 7651.9583 - mae: 7651.9583\n",
            "Epoch 14/100\n",
            "34/34 [==============================] - 0s 1ms/step - loss: 7404.5587 - mae: 7404.5587\n",
            "Epoch 15/100\n",
            "34/34 [==============================] - 0s 1ms/step - loss: 7639.0614 - mae: 7639.0614\n",
            "Epoch 16/100\n",
            "34/34 [==============================] - 0s 2ms/step - loss: 7569.4714 - mae: 7569.4714\n",
            "Epoch 17/100\n",
            "34/34 [==============================] - 0s 1ms/step - loss: 6946.3939 - mae: 6946.3939\n",
            "Epoch 18/100\n",
            "34/34 [==============================] - 0s 1ms/step - loss: 7137.7239 - mae: 7137.7239\n",
            "Epoch 19/100\n",
            "34/34 [==============================] - 0s 1ms/step - loss: 7165.3120 - mae: 7165.3120\n",
            "Epoch 20/100\n",
            "34/34 [==============================] - 0s 1ms/step - loss: 7063.6223 - mae: 7063.6223\n",
            "Epoch 21/100\n",
            "34/34 [==============================] - 0s 1ms/step - loss: 6472.3188 - mae: 6472.3188\n",
            "Epoch 22/100\n",
            "34/34 [==============================] - 0s 1ms/step - loss: 6674.0546 - mae: 6674.0546\n",
            "Epoch 23/100\n",
            "34/34 [==============================] - 0s 2ms/step - loss: 7112.2982 - mae: 7112.2982\n",
            "Epoch 24/100\n",
            "34/34 [==============================] - 0s 1ms/step - loss: 6838.1523 - mae: 6838.1523\n",
            "Epoch 25/100\n",
            "34/34 [==============================] - 0s 1ms/step - loss: 7496.9559 - mae: 7496.9559\n",
            "Epoch 26/100\n",
            "34/34 [==============================] - 0s 2ms/step - loss: 6718.1681 - mae: 6718.1681\n",
            "Epoch 27/100\n",
            "34/34 [==============================] - 0s 2ms/step - loss: 7107.2972 - mae: 7107.2972\n",
            "Epoch 28/100\n",
            "34/34 [==============================] - 0s 2ms/step - loss: 7357.2015 - mae: 7357.2015\n",
            "Epoch 29/100\n",
            "34/34 [==============================] - 0s 1ms/step - loss: 6668.5721 - mae: 6668.5721\n",
            "Epoch 30/100\n",
            "34/34 [==============================] - 0s 1ms/step - loss: 7119.4991 - mae: 7119.4991\n",
            "Epoch 31/100\n",
            "34/34 [==============================] - 0s 1ms/step - loss: 7360.1232 - mae: 7360.1232\n",
            "Epoch 32/100\n",
            "34/34 [==============================] - 0s 1ms/step - loss: 6817.2565 - mae: 6817.2565\n",
            "Epoch 33/100\n",
            "34/34 [==============================] - 0s 1ms/step - loss: 6991.0289 - mae: 6991.0289\n",
            "Epoch 34/100\n",
            "34/34 [==============================] - 0s 1ms/step - loss: 6829.4910 - mae: 6829.4910\n",
            "Epoch 35/100\n",
            "34/34 [==============================] - 0s 1ms/step - loss: 6895.2913 - mae: 6895.2913\n",
            "Epoch 36/100\n",
            "34/34 [==============================] - 0s 1ms/step - loss: 6762.5128 - mae: 6762.5128\n",
            "Epoch 37/100\n",
            "34/34 [==============================] - 0s 1ms/step - loss: 6910.4815 - mae: 6910.4815\n",
            "Epoch 38/100\n",
            "34/34 [==============================] - 0s 1ms/step - loss: 6405.0325 - mae: 6405.0325\n",
            "Epoch 39/100\n",
            "34/34 [==============================] - 0s 1ms/step - loss: 6799.7919 - mae: 6799.7919\n",
            "Epoch 40/100\n",
            "34/34 [==============================] - 0s 2ms/step - loss: 6696.0554 - mae: 6696.0554\n",
            "Epoch 41/100\n",
            "34/34 [==============================] - 0s 2ms/step - loss: 6632.0476 - mae: 6632.0476\n",
            "Epoch 42/100\n",
            "34/34 [==============================] - 0s 1ms/step - loss: 6501.1589 - mae: 6501.1589\n",
            "Epoch 43/100\n",
            "34/34 [==============================] - 0s 2ms/step - loss: 6518.8876 - mae: 6518.8876\n",
            "Epoch 44/100\n",
            "34/34 [==============================] - 0s 1ms/step - loss: 6287.3747 - mae: 6287.3747\n",
            "Epoch 45/100\n",
            "34/34 [==============================] - 0s 2ms/step - loss: 6331.2562 - mae: 6331.2562\n",
            "Epoch 46/100\n",
            "34/34 [==============================] - 0s 1ms/step - loss: 6080.3168 - mae: 6080.3168\n",
            "Epoch 47/100\n",
            "34/34 [==============================] - 0s 1ms/step - loss: 6665.8195 - mae: 6665.8195\n",
            "Epoch 48/100\n",
            "34/34 [==============================] - 0s 1ms/step - loss: 6424.2358 - mae: 6424.2358\n",
            "Epoch 49/100\n",
            "34/34 [==============================] - 0s 1ms/step - loss: 6154.8287 - mae: 6154.8287\n",
            "Epoch 50/100\n",
            "34/34 [==============================] - 0s 1ms/step - loss: 6426.9841 - mae: 6426.9841\n",
            "Epoch 51/100\n",
            "34/34 [==============================] - 0s 2ms/step - loss: 6338.3257 - mae: 6338.3257\n",
            "Epoch 52/100\n",
            "34/34 [==============================] - 0s 1ms/step - loss: 6335.6011 - mae: 6335.6011\n",
            "Epoch 53/100\n",
            "34/34 [==============================] - 0s 1ms/step - loss: 5995.7961 - mae: 5995.7961\n",
            "Epoch 54/100\n",
            "34/34 [==============================] - 0s 1ms/step - loss: 6431.7964 - mae: 6431.7964\n",
            "Epoch 55/100\n",
            "34/34 [==============================] - 0s 1ms/step - loss: 6224.0661 - mae: 6224.0661\n",
            "Epoch 56/100\n",
            "34/34 [==============================] - 0s 1ms/step - loss: 6289.4113 - mae: 6289.4113\n",
            "Epoch 57/100\n",
            "34/34 [==============================] - 0s 1ms/step - loss: 6578.3135 - mae: 6578.3135\n",
            "Epoch 58/100\n",
            "34/34 [==============================] - 0s 2ms/step - loss: 6365.6008 - mae: 6365.6008\n",
            "Epoch 59/100\n",
            "34/34 [==============================] - 0s 1ms/step - loss: 5914.7983 - mae: 5914.7983\n",
            "Epoch 60/100\n",
            "34/34 [==============================] - 0s 1ms/step - loss: 6239.8720 - mae: 6239.8720\n",
            "Epoch 61/100\n",
            "34/34 [==============================] - 0s 2ms/step - loss: 6751.6415 - mae: 6751.6415\n",
            "Epoch 62/100\n",
            "34/34 [==============================] - 0s 1ms/step - loss: 6350.5861 - mae: 6350.5861\n",
            "Epoch 63/100\n",
            "34/34 [==============================] - 0s 2ms/step - loss: 6374.7378 - mae: 6374.7378\n",
            "Epoch 64/100\n",
            "34/34 [==============================] - 0s 1ms/step - loss: 5877.7617 - mae: 5877.7617\n",
            "Epoch 65/100\n",
            "34/34 [==============================] - 0s 2ms/step - loss: 6260.5317 - mae: 6260.5317\n",
            "Epoch 66/100\n",
            "34/34 [==============================] - 0s 1ms/step - loss: 6007.1749 - mae: 6007.1749\n",
            "Epoch 67/100\n",
            "34/34 [==============================] - 0s 2ms/step - loss: 6106.7941 - mae: 6106.7941\n",
            "Epoch 68/100\n",
            "34/34 [==============================] - 0s 1ms/step - loss: 6035.6668 - mae: 6035.6668\n",
            "Epoch 69/100\n",
            "34/34 [==============================] - 0s 1ms/step - loss: 6523.5435 - mae: 6523.5435\n",
            "Epoch 70/100\n",
            "34/34 [==============================] - 0s 1ms/step - loss: 5708.9527 - mae: 5708.9527\n",
            "Epoch 71/100\n",
            "34/34 [==============================] - 0s 1ms/step - loss: 6110.2172 - mae: 6110.2172\n",
            "Epoch 72/100\n",
            "34/34 [==============================] - 0s 1ms/step - loss: 5773.3150 - mae: 5773.3150\n",
            "Epoch 73/100\n",
            "34/34 [==============================] - 0s 2ms/step - loss: 6297.5183 - mae: 6297.5183\n",
            "Epoch 74/100\n",
            "34/34 [==============================] - 0s 1ms/step - loss: 6112.9394 - mae: 6112.9394\n",
            "Epoch 75/100\n",
            "34/34 [==============================] - 0s 1ms/step - loss: 6449.7250 - mae: 6449.7250\n",
            "Epoch 76/100\n",
            "34/34 [==============================] - 0s 1ms/step - loss: 5688.1442 - mae: 5688.1442\n",
            "Epoch 77/100\n",
            "34/34 [==============================] - 0s 1ms/step - loss: 6402.3397 - mae: 6402.3397\n",
            "Epoch 78/100\n",
            "34/34 [==============================] - 0s 2ms/step - loss: 5499.5554 - mae: 5499.5554\n",
            "Epoch 79/100\n",
            "34/34 [==============================] - 0s 2ms/step - loss: 5108.3478 - mae: 5108.3478\n",
            "Epoch 80/100\n",
            "34/34 [==============================] - 0s 2ms/step - loss: 5226.6398 - mae: 5226.6398\n",
            "Epoch 81/100\n",
            "34/34 [==============================] - 0s 1ms/step - loss: 5817.3262 - mae: 5817.3262\n",
            "Epoch 82/100\n",
            "34/34 [==============================] - 0s 1ms/step - loss: 6548.7323 - mae: 6548.7323\n",
            "Epoch 83/100\n",
            "34/34 [==============================] - 0s 1ms/step - loss: 5722.6892 - mae: 5722.6892\n",
            "Epoch 84/100\n",
            "34/34 [==============================] - 0s 1ms/step - loss: 5570.2336 - mae: 5570.2336\n",
            "Epoch 85/100\n",
            "34/34 [==============================] - 0s 1ms/step - loss: 5121.8587 - mae: 5121.8587\n",
            "Epoch 86/100\n",
            "34/34 [==============================] - 0s 1ms/step - loss: 5889.9363 - mae: 5889.9363\n",
            "Epoch 87/100\n",
            "34/34 [==============================] - 0s 1ms/step - loss: 5472.2751 - mae: 5472.2751\n",
            "Epoch 88/100\n",
            "34/34 [==============================] - 0s 1ms/step - loss: 5770.0215 - mae: 5770.0215\n",
            "Epoch 89/100\n",
            "34/34 [==============================] - 0s 2ms/step - loss: 5392.7423 - mae: 5392.7423\n",
            "Epoch 90/100\n",
            "34/34 [==============================] - 0s 1ms/step - loss: 5951.3923 - mae: 5951.3923\n",
            "Epoch 91/100\n",
            "34/34 [==============================] - 0s 1ms/step - loss: 5577.1110 - mae: 5577.1110\n",
            "Epoch 92/100\n",
            "34/34 [==============================] - 0s 1ms/step - loss: 5633.8429 - mae: 5633.8429\n",
            "Epoch 93/100\n",
            "34/34 [==============================] - 0s 1ms/step - loss: 5209.0318 - mae: 5209.0318\n",
            "Epoch 94/100\n",
            "34/34 [==============================] - 0s 1ms/step - loss: 5018.4430 - mae: 5018.4430\n",
            "Epoch 95/100\n",
            "34/34 [==============================] - 0s 1ms/step - loss: 5419.2087 - mae: 5419.2087\n",
            "Epoch 96/100\n",
            "34/34 [==============================] - 0s 1ms/step - loss: 5547.8981 - mae: 5547.8981\n",
            "Epoch 97/100\n",
            "34/34 [==============================] - 0s 2ms/step - loss: 4931.7088 - mae: 4931.7088\n",
            "Epoch 98/100\n",
            "34/34 [==============================] - 0s 1ms/step - loss: 4912.5428 - mae: 4912.5428\n",
            "Epoch 99/100\n",
            "34/34 [==============================] - 0s 2ms/step - loss: 4650.0256 - mae: 4650.0256\n",
            "Epoch 100/100\n",
            "34/34 [==============================] - 0s 1ms/step - loss: 4770.1080 - mae: 4770.1080\n"
          ],
          "name": "stdout"
        },
        {
          "output_type": "execute_result",
          "data": {
            "text/plain": [
              "<tensorflow.python.keras.callbacks.History at 0x7fb05327e990>"
            ]
          },
          "metadata": {
            "tags": []
          },
          "execution_count": 79
        }
      ]
    },
    {
      "cell_type": "code",
      "metadata": {
        "colab": {
          "base_uri": "https://localhost:8080/"
        },
        "id": "TRqPnfiW9KDy",
        "outputId": "4fe652d8-a62b-449b-a773-0720d345a593"
      },
      "source": [
        "# Evaluate the larger model\n",
        "insurance_model_2.evaluate(X_test, y_test)"
      ],
      "execution_count": 80,
      "outputs": [
        {
          "output_type": "stream",
          "text": [
            "9/9 [==============================] - 0s 1ms/step - loss: 4924.4956 - mae: 4924.4956\n"
          ],
          "name": "stdout"
        },
        {
          "output_type": "execute_result",
          "data": {
            "text/plain": [
              "[4924.49560546875, 4924.49560546875]"
            ]
          },
          "metadata": {
            "tags": []
          },
          "execution_count": 80
        }
      ]
    },
    {
      "cell_type": "code",
      "metadata": {
        "colab": {
          "base_uri": "https://localhost:8080/"
        },
        "id": "WnV2Vsn79Wj1",
        "outputId": "6eae3637-752f-4347-ee0a-b6db1e6466d0"
      },
      "source": [
        "insurance_model.evaluate(X_test, y_test)"
      ],
      "execution_count": 81,
      "outputs": [
        {
          "output_type": "stream",
          "text": [
            "9/9 [==============================] - 0s 1ms/step - loss: 7023.3296 - mae: 7023.3296\n"
          ],
          "name": "stdout"
        },
        {
          "output_type": "execute_result",
          "data": {
            "text/plain": [
              "[7023.32958984375, 7023.32958984375]"
            ]
          },
          "metadata": {
            "tags": []
          },
          "execution_count": 81
        }
      ]
    },
    {
      "cell_type": "code",
      "metadata": {
        "colab": {
          "base_uri": "https://localhost:8080/"
        },
        "id": "cKl1-Eir98Si",
        "outputId": "981d2cc0-599a-4067-bcd3-1c60b87729a0"
      },
      "source": [
        "# Set random set\n",
        "tf.random.set_seed(42)\n",
        "\n",
        "# 1. Create the model (same as above)\n",
        "insurance_model_3 = tf.keras.Sequential([\n",
        "  tf.keras.layers.Dense(100),\n",
        "  tf.keras.layers.Dense(10),\n",
        "  tf.keras.layers.Dense(1)                                \n",
        "])\n",
        "\n",
        "# 2. Compile the model\n",
        "insurance_model_3.compile(loss=tf.keras.losses.mae,\n",
        "                          optimizer=tf.keras.optimizers.Adam(),\n",
        "                          metrics=[\"mae\"])\n",
        "\n",
        "# 3. Fit the model\n",
        "history = insurance_model_3.fit(X_train, y_train, epochs=200)"
      ],
      "execution_count": 82,
      "outputs": [
        {
          "output_type": "stream",
          "text": [
            "Epoch 1/200\n",
            "34/34 [==============================] - 0s 2ms/step - loss: 13251.7400 - mae: 13251.7400\n",
            "Epoch 2/200\n",
            "34/34 [==============================] - 0s 1ms/step - loss: 12768.7726 - mae: 12768.7726\n",
            "Epoch 3/200\n",
            "34/34 [==============================] - 0s 1ms/step - loss: 12248.2855 - mae: 12248.2855\n",
            "Epoch 4/200\n",
            "34/34 [==============================] - 0s 1ms/step - loss: 12353.0241 - mae: 12353.0241\n",
            "Epoch 5/200\n",
            "34/34 [==============================] - 0s 2ms/step - loss: 11243.3972 - mae: 11243.3972\n",
            "Epoch 6/200\n",
            "34/34 [==============================] - 0s 2ms/step - loss: 9718.5257 - mae: 9718.5257\n",
            "Epoch 7/200\n",
            "34/34 [==============================] - 0s 1ms/step - loss: 8354.8474 - mae: 8354.8474\n",
            "Epoch 8/200\n",
            "34/34 [==============================] - 0s 2ms/step - loss: 7732.2963 - mae: 7732.2963\n",
            "Epoch 9/200\n",
            "34/34 [==============================] - 0s 1ms/step - loss: 7537.6737 - mae: 7537.6737\n",
            "Epoch 10/200\n",
            "34/34 [==============================] - 0s 2ms/step - loss: 7652.7184 - mae: 7652.7184\n",
            "Epoch 11/200\n",
            "34/34 [==============================] - 0s 2ms/step - loss: 7802.4481 - mae: 7802.4481\n",
            "Epoch 12/200\n",
            "34/34 [==============================] - 0s 1ms/step - loss: 7370.3458 - mae: 7370.3458\n",
            "Epoch 13/200\n",
            "34/34 [==============================] - 0s 1ms/step - loss: 7651.9583 - mae: 7651.9583\n",
            "Epoch 14/200\n",
            "34/34 [==============================] - 0s 1ms/step - loss: 7404.5587 - mae: 7404.5587\n",
            "Epoch 15/200\n",
            "34/34 [==============================] - 0s 1ms/step - loss: 7639.0614 - mae: 7639.0614\n",
            "Epoch 16/200\n",
            "34/34 [==============================] - 0s 1ms/step - loss: 7569.4714 - mae: 7569.4714\n",
            "Epoch 17/200\n",
            "34/34 [==============================] - 0s 1ms/step - loss: 6946.3939 - mae: 6946.3939\n",
            "Epoch 18/200\n",
            "34/34 [==============================] - 0s 1ms/step - loss: 7137.7239 - mae: 7137.7239\n",
            "Epoch 19/200\n",
            "34/34 [==============================] - 0s 1ms/step - loss: 7165.3120 - mae: 7165.3120\n",
            "Epoch 20/200\n",
            "34/34 [==============================] - 0s 1ms/step - loss: 7063.6223 - mae: 7063.6223\n",
            "Epoch 21/200\n",
            "34/34 [==============================] - 0s 1ms/step - loss: 6472.3188 - mae: 6472.3188\n",
            "Epoch 22/200\n",
            "34/34 [==============================] - 0s 1ms/step - loss: 6674.0546 - mae: 6674.0546\n",
            "Epoch 23/200\n",
            "34/34 [==============================] - 0s 1ms/step - loss: 7112.2982 - mae: 7112.2982\n",
            "Epoch 24/200\n",
            "34/34 [==============================] - 0s 1ms/step - loss: 6838.1523 - mae: 6838.1523\n",
            "Epoch 25/200\n",
            "34/34 [==============================] - 0s 1ms/step - loss: 7496.9559 - mae: 7496.9559\n",
            "Epoch 26/200\n",
            "34/34 [==============================] - 0s 1ms/step - loss: 6718.1681 - mae: 6718.1681\n",
            "Epoch 27/200\n",
            "34/34 [==============================] - 0s 1ms/step - loss: 7107.2972 - mae: 7107.2972\n",
            "Epoch 28/200\n",
            "34/34 [==============================] - 0s 1ms/step - loss: 7357.2015 - mae: 7357.2015\n",
            "Epoch 29/200\n",
            "34/34 [==============================] - 0s 2ms/step - loss: 6668.5721 - mae: 6668.5721\n",
            "Epoch 30/200\n",
            "34/34 [==============================] - 0s 1ms/step - loss: 7119.4991 - mae: 7119.4991\n",
            "Epoch 31/200\n",
            "34/34 [==============================] - 0s 1ms/step - loss: 7360.1232 - mae: 7360.1232\n",
            "Epoch 32/200\n",
            "34/34 [==============================] - 0s 2ms/step - loss: 6817.2565 - mae: 6817.2565\n",
            "Epoch 33/200\n",
            "34/34 [==============================] - 0s 1ms/step - loss: 6991.0289 - mae: 6991.0289\n",
            "Epoch 34/200\n",
            "34/34 [==============================] - 0s 1ms/step - loss: 6829.4910 - mae: 6829.4910\n",
            "Epoch 35/200\n",
            "34/34 [==============================] - 0s 1ms/step - loss: 6895.2913 - mae: 6895.2913\n",
            "Epoch 36/200\n",
            "34/34 [==============================] - 0s 1ms/step - loss: 6762.5128 - mae: 6762.5128\n",
            "Epoch 37/200\n",
            "34/34 [==============================] - 0s 1ms/step - loss: 6910.4815 - mae: 6910.4815\n",
            "Epoch 38/200\n",
            "34/34 [==============================] - 0s 1ms/step - loss: 6405.0325 - mae: 6405.0325\n",
            "Epoch 39/200\n",
            "34/34 [==============================] - 0s 1ms/step - loss: 6799.7919 - mae: 6799.7919\n",
            "Epoch 40/200\n",
            "34/34 [==============================] - 0s 1ms/step - loss: 6696.0554 - mae: 6696.0554\n",
            "Epoch 41/200\n",
            "34/34 [==============================] - 0s 1ms/step - loss: 6632.0476 - mae: 6632.0476\n",
            "Epoch 42/200\n",
            "34/34 [==============================] - 0s 1ms/step - loss: 6501.1589 - mae: 6501.1589\n",
            "Epoch 43/200\n",
            "34/34 [==============================] - 0s 1ms/step - loss: 6518.8876 - mae: 6518.8876\n",
            "Epoch 44/200\n",
            "34/34 [==============================] - 0s 1ms/step - loss: 6287.3747 - mae: 6287.3747\n",
            "Epoch 45/200\n",
            "34/34 [==============================] - 0s 2ms/step - loss: 6331.2562 - mae: 6331.2562\n",
            "Epoch 46/200\n",
            "34/34 [==============================] - 0s 1ms/step - loss: 6080.3168 - mae: 6080.3168\n",
            "Epoch 47/200\n",
            "34/34 [==============================] - 0s 1ms/step - loss: 6665.8195 - mae: 6665.8195\n",
            "Epoch 48/200\n",
            "34/34 [==============================] - 0s 1ms/step - loss: 6424.2358 - mae: 6424.2358\n",
            "Epoch 49/200\n",
            "34/34 [==============================] - 0s 2ms/step - loss: 6154.8287 - mae: 6154.8287\n",
            "Epoch 50/200\n",
            "34/34 [==============================] - 0s 2ms/step - loss: 6426.9841 - mae: 6426.9841\n",
            "Epoch 51/200\n",
            "34/34 [==============================] - 0s 1ms/step - loss: 6338.3257 - mae: 6338.3257\n",
            "Epoch 52/200\n",
            "34/34 [==============================] - 0s 1ms/step - loss: 6335.6011 - mae: 6335.6011\n",
            "Epoch 53/200\n",
            "34/34 [==============================] - 0s 1ms/step - loss: 5995.7961 - mae: 5995.7961\n",
            "Epoch 54/200\n",
            "34/34 [==============================] - 0s 1ms/step - loss: 6431.7964 - mae: 6431.7964\n",
            "Epoch 55/200\n",
            "34/34 [==============================] - 0s 1ms/step - loss: 6224.0661 - mae: 6224.0661\n",
            "Epoch 56/200\n",
            "34/34 [==============================] - 0s 1ms/step - loss: 6289.4113 - mae: 6289.4113\n",
            "Epoch 57/200\n",
            "34/34 [==============================] - 0s 2ms/step - loss: 6578.3135 - mae: 6578.3135\n",
            "Epoch 58/200\n",
            "34/34 [==============================] - 0s 1ms/step - loss: 6365.6008 - mae: 6365.6008\n",
            "Epoch 59/200\n",
            "34/34 [==============================] - 0s 1ms/step - loss: 5914.7983 - mae: 5914.7983\n",
            "Epoch 60/200\n",
            "34/34 [==============================] - 0s 1ms/step - loss: 6239.8720 - mae: 6239.8720\n",
            "Epoch 61/200\n",
            "34/34 [==============================] - 0s 1ms/step - loss: 6751.6415 - mae: 6751.6415\n",
            "Epoch 62/200\n",
            "34/34 [==============================] - 0s 1ms/step - loss: 6350.5861 - mae: 6350.5861\n",
            "Epoch 63/200\n",
            "34/34 [==============================] - 0s 2ms/step - loss: 6374.7378 - mae: 6374.7378\n",
            "Epoch 64/200\n",
            "34/34 [==============================] - 0s 2ms/step - loss: 5877.7617 - mae: 5877.7617\n",
            "Epoch 65/200\n",
            "34/34 [==============================] - 0s 2ms/step - loss: 6260.5317 - mae: 6260.5317\n",
            "Epoch 66/200\n",
            "34/34 [==============================] - 0s 1ms/step - loss: 6007.1749 - mae: 6007.1749\n",
            "Epoch 67/200\n",
            "34/34 [==============================] - 0s 1ms/step - loss: 6106.7941 - mae: 6106.7941\n",
            "Epoch 68/200\n",
            "34/34 [==============================] - 0s 2ms/step - loss: 6035.6668 - mae: 6035.6668\n",
            "Epoch 69/200\n",
            "34/34 [==============================] - 0s 1ms/step - loss: 6523.5435 - mae: 6523.5435\n",
            "Epoch 70/200\n",
            "34/34 [==============================] - 0s 1ms/step - loss: 5708.9527 - mae: 5708.9527\n",
            "Epoch 71/200\n",
            "34/34 [==============================] - 0s 1ms/step - loss: 6110.2172 - mae: 6110.2172\n",
            "Epoch 72/200\n",
            "34/34 [==============================] - 0s 1ms/step - loss: 5773.3150 - mae: 5773.3150\n",
            "Epoch 73/200\n",
            "34/34 [==============================] - 0s 1ms/step - loss: 6297.5183 - mae: 6297.5183\n",
            "Epoch 74/200\n",
            "34/34 [==============================] - 0s 2ms/step - loss: 6112.9394 - mae: 6112.9394\n",
            "Epoch 75/200\n",
            "34/34 [==============================] - 0s 1ms/step - loss: 6449.7250 - mae: 6449.7250\n",
            "Epoch 76/200\n",
            "34/34 [==============================] - 0s 1ms/step - loss: 5688.1442 - mae: 5688.1442\n",
            "Epoch 77/200\n",
            "34/34 [==============================] - 0s 1ms/step - loss: 6402.3397 - mae: 6402.3397\n",
            "Epoch 78/200\n",
            "34/34 [==============================] - 0s 1ms/step - loss: 5499.5554 - mae: 5499.5554\n",
            "Epoch 79/200\n",
            "34/34 [==============================] - 0s 2ms/step - loss: 5108.3478 - mae: 5108.3478\n",
            "Epoch 80/200\n",
            "34/34 [==============================] - 0s 2ms/step - loss: 5226.6398 - mae: 5226.6398\n",
            "Epoch 81/200\n",
            "34/34 [==============================] - 0s 1ms/step - loss: 5817.3262 - mae: 5817.3262\n",
            "Epoch 82/200\n",
            "34/34 [==============================] - 0s 2ms/step - loss: 6548.7323 - mae: 6548.7323\n",
            "Epoch 83/200\n",
            "34/34 [==============================] - 0s 2ms/step - loss: 5722.6892 - mae: 5722.6892\n",
            "Epoch 84/200\n",
            "34/34 [==============================] - 0s 2ms/step - loss: 5570.2336 - mae: 5570.2336\n",
            "Epoch 85/200\n",
            "34/34 [==============================] - 0s 1ms/step - loss: 5121.8587 - mae: 5121.8587\n",
            "Epoch 86/200\n",
            "34/34 [==============================] - 0s 2ms/step - loss: 5889.9363 - mae: 5889.9363\n",
            "Epoch 87/200\n",
            "34/34 [==============================] - 0s 2ms/step - loss: 5472.2751 - mae: 5472.2751\n",
            "Epoch 88/200\n",
            "34/34 [==============================] - 0s 1ms/step - loss: 5770.0215 - mae: 5770.0215\n",
            "Epoch 89/200\n",
            "34/34 [==============================] - 0s 2ms/step - loss: 5392.7423 - mae: 5392.7423\n",
            "Epoch 90/200\n",
            "34/34 [==============================] - 0s 1ms/step - loss: 5951.3923 - mae: 5951.3923\n",
            "Epoch 91/200\n",
            "34/34 [==============================] - 0s 1ms/step - loss: 5577.1110 - mae: 5577.1110\n",
            "Epoch 92/200\n",
            "34/34 [==============================] - 0s 1ms/step - loss: 5633.8429 - mae: 5633.8429\n",
            "Epoch 93/200\n",
            "34/34 [==============================] - 0s 1ms/step - loss: 5209.0318 - mae: 5209.0318\n",
            "Epoch 94/200\n",
            "34/34 [==============================] - 0s 2ms/step - loss: 5018.4430 - mae: 5018.4430\n",
            "Epoch 95/200\n",
            "34/34 [==============================] - 0s 2ms/step - loss: 5419.2087 - mae: 5419.2087\n",
            "Epoch 96/200\n",
            "34/34 [==============================] - 0s 2ms/step - loss: 5547.8981 - mae: 5547.8981\n",
            "Epoch 97/200\n",
            "34/34 [==============================] - 0s 2ms/step - loss: 4931.7088 - mae: 4931.7088\n",
            "Epoch 98/200\n",
            "34/34 [==============================] - 0s 2ms/step - loss: 4912.5428 - mae: 4912.5428\n",
            "Epoch 99/200\n",
            "34/34 [==============================] - 0s 2ms/step - loss: 4650.0256 - mae: 4650.0256\n",
            "Epoch 100/200\n",
            "34/34 [==============================] - 0s 1ms/step - loss: 4770.1080 - mae: 4770.1080\n",
            "Epoch 101/200\n",
            "34/34 [==============================] - 0s 1ms/step - loss: 4909.4022 - mae: 4909.4022\n",
            "Epoch 102/200\n",
            "34/34 [==============================] - 0s 1ms/step - loss: 4673.1832 - mae: 4673.1832\n",
            "Epoch 103/200\n",
            "34/34 [==============================] - 0s 2ms/step - loss: 4396.6370 - mae: 4396.6370\n",
            "Epoch 104/200\n",
            "34/34 [==============================] - 0s 1ms/step - loss: 4917.2483 - mae: 4917.2483\n",
            "Epoch 105/200\n",
            "34/34 [==============================] - 0s 1ms/step - loss: 4314.7068 - mae: 4314.7068\n",
            "Epoch 106/200\n",
            "34/34 [==============================] - 0s 1ms/step - loss: 4740.0049 - mae: 4740.0049\n",
            "Epoch 107/200\n",
            "34/34 [==============================] - 0s 1ms/step - loss: 4745.8710 - mae: 4745.8710\n",
            "Epoch 108/200\n",
            "34/34 [==============================] - 0s 1ms/step - loss: 4517.0621 - mae: 4517.0621\n",
            "Epoch 109/200\n",
            "34/34 [==============================] - 0s 1ms/step - loss: 4801.7184 - mae: 4801.7184\n",
            "Epoch 110/200\n",
            "34/34 [==============================] - 0s 1ms/step - loss: 4703.4161 - mae: 4703.4161\n",
            "Epoch 111/200\n",
            "34/34 [==============================] - 0s 2ms/step - loss: 4289.2303 - mae: 4289.2303\n",
            "Epoch 112/200\n",
            "34/34 [==============================] - 0s 2ms/step - loss: 4062.2468 - mae: 4062.2468\n",
            "Epoch 113/200\n",
            "34/34 [==============================] - 0s 2ms/step - loss: 3977.3070 - mae: 3977.3070\n",
            "Epoch 114/200\n",
            "34/34 [==============================] - 0s 1ms/step - loss: 4154.2934 - mae: 4154.2934\n",
            "Epoch 115/200\n",
            "34/34 [==============================] - 0s 1ms/step - loss: 4006.4258 - mae: 4006.4258\n",
            "Epoch 116/200\n",
            "34/34 [==============================] - 0s 2ms/step - loss: 4287.0862 - mae: 4287.0862\n",
            "Epoch 117/200\n",
            "34/34 [==============================] - 0s 1ms/step - loss: 3863.7708 - mae: 3863.7708\n",
            "Epoch 118/200\n",
            "34/34 [==============================] - 0s 1ms/step - loss: 3867.4441 - mae: 3867.4441\n",
            "Epoch 119/200\n",
            "34/34 [==============================] - 0s 1ms/step - loss: 3956.8748 - mae: 3956.8748\n",
            "Epoch 120/200\n",
            "34/34 [==============================] - 0s 1ms/step - loss: 4056.2708 - mae: 4056.2708\n",
            "Epoch 121/200\n",
            "34/34 [==============================] - 0s 2ms/step - loss: 4138.5816 - mae: 4138.5816\n",
            "Epoch 122/200\n",
            "34/34 [==============================] - 0s 2ms/step - loss: 3807.1297 - mae: 3807.1297\n",
            "Epoch 123/200\n",
            "34/34 [==============================] - 0s 1ms/step - loss: 3729.3961 - mae: 3729.3961\n",
            "Epoch 124/200\n",
            "34/34 [==============================] - 0s 2ms/step - loss: 3654.5895 - mae: 3654.5895\n",
            "Epoch 125/200\n",
            "34/34 [==============================] - 0s 1ms/step - loss: 4047.5810 - mae: 4047.5810\n",
            "Epoch 126/200\n",
            "34/34 [==============================] - 0s 1ms/step - loss: 3760.0189 - mae: 3760.0189\n",
            "Epoch 127/200\n",
            "34/34 [==============================] - 0s 2ms/step - loss: 3898.9773 - mae: 3898.9773\n",
            "Epoch 128/200\n",
            "34/34 [==============================] - 0s 1ms/step - loss: 3730.5283 - mae: 3730.5283\n",
            "Epoch 129/200\n",
            "34/34 [==============================] - 0s 2ms/step - loss: 4053.7942 - mae: 4053.7942\n",
            "Epoch 130/200\n",
            "34/34 [==============================] - 0s 1ms/step - loss: 3816.5713 - mae: 3816.5713\n",
            "Epoch 131/200\n",
            "34/34 [==============================] - 0s 2ms/step - loss: 3842.2270 - mae: 3842.2270\n",
            "Epoch 132/200\n",
            "34/34 [==============================] - 0s 2ms/step - loss: 4002.9710 - mae: 4002.9710\n",
            "Epoch 133/200\n",
            "34/34 [==============================] - 0s 2ms/step - loss: 4039.3410 - mae: 4039.3410\n",
            "Epoch 134/200\n",
            "34/34 [==============================] - 0s 1ms/step - loss: 3876.1981 - mae: 3876.1981\n",
            "Epoch 135/200\n",
            "34/34 [==============================] - 0s 1ms/step - loss: 3853.5075 - mae: 3853.5075\n",
            "Epoch 136/200\n",
            "34/34 [==============================] - 0s 1ms/step - loss: 3717.2626 - mae: 3717.2626\n",
            "Epoch 137/200\n",
            "34/34 [==============================] - 0s 1ms/step - loss: 3773.6438 - mae: 3773.6438\n",
            "Epoch 138/200\n",
            "34/34 [==============================] - 0s 1ms/step - loss: 4017.7876 - mae: 4017.7876\n",
            "Epoch 139/200\n",
            "34/34 [==============================] - 0s 1ms/step - loss: 3715.0605 - mae: 3715.0605\n",
            "Epoch 140/200\n",
            "34/34 [==============================] - 0s 1ms/step - loss: 3733.6008 - mae: 3733.6008\n",
            "Epoch 141/200\n",
            "34/34 [==============================] - 0s 1ms/step - loss: 3857.4200 - mae: 3857.4200\n",
            "Epoch 142/200\n",
            "34/34 [==============================] - 0s 1ms/step - loss: 3626.7239 - mae: 3626.7239\n",
            "Epoch 143/200\n",
            "34/34 [==============================] - 0s 2ms/step - loss: 3835.3856 - mae: 3835.3856\n",
            "Epoch 144/200\n",
            "34/34 [==============================] - 0s 1ms/step - loss: 3868.5909 - mae: 3868.5909\n",
            "Epoch 145/200\n",
            "34/34 [==============================] - 0s 1ms/step - loss: 4045.0617 - mae: 4045.0617\n",
            "Epoch 146/200\n",
            "34/34 [==============================] - 0s 1ms/step - loss: 3947.5989 - mae: 3947.5989\n",
            "Epoch 147/200\n",
            "34/34 [==============================] - 0s 2ms/step - loss: 3697.7624 - mae: 3697.7624\n",
            "Epoch 148/200\n",
            "34/34 [==============================] - 0s 1ms/step - loss: 3495.4071 - mae: 3495.4071\n",
            "Epoch 149/200\n",
            "34/34 [==============================] - 0s 2ms/step - loss: 3636.6808 - mae: 3636.6808\n",
            "Epoch 150/200\n",
            "34/34 [==============================] - 0s 1ms/step - loss: 3824.7629 - mae: 3824.7629\n",
            "Epoch 151/200\n",
            "34/34 [==============================] - 0s 1ms/step - loss: 3806.7232 - mae: 3806.7232\n",
            "Epoch 152/200\n",
            "34/34 [==============================] - 0s 1ms/step - loss: 3755.5285 - mae: 3755.5285\n",
            "Epoch 153/200\n",
            "34/34 [==============================] - 0s 1ms/step - loss: 3713.7236 - mae: 3713.7236\n",
            "Epoch 154/200\n",
            "34/34 [==============================] - 0s 2ms/step - loss: 3894.6997 - mae: 3894.6997\n",
            "Epoch 155/200\n",
            "34/34 [==============================] - 0s 1ms/step - loss: 3651.7698 - mae: 3651.7698\n",
            "Epoch 156/200\n",
            "34/34 [==============================] - 0s 1ms/step - loss: 3541.6651 - mae: 3541.6651\n",
            "Epoch 157/200\n",
            "34/34 [==============================] - 0s 1ms/step - loss: 3542.1334 - mae: 3542.1334\n",
            "Epoch 158/200\n",
            "34/34 [==============================] - 0s 1ms/step - loss: 3921.3846 - mae: 3921.3846\n",
            "Epoch 159/200\n",
            "34/34 [==============================] - 0s 1ms/step - loss: 3774.7317 - mae: 3774.7317\n",
            "Epoch 160/200\n",
            "34/34 [==============================] - 0s 2ms/step - loss: 3836.3787 - mae: 3836.3787\n",
            "Epoch 161/200\n",
            "34/34 [==============================] - 0s 1ms/step - loss: 3695.4663 - mae: 3695.4663\n",
            "Epoch 162/200\n",
            "34/34 [==============================] - 0s 1ms/step - loss: 3844.5049 - mae: 3844.5049\n",
            "Epoch 163/200\n",
            "34/34 [==============================] - 0s 1ms/step - loss: 3434.5002 - mae: 3434.5002\n",
            "Epoch 164/200\n",
            "34/34 [==============================] - 0s 2ms/step - loss: 3657.7765 - mae: 3657.7765\n",
            "Epoch 165/200\n",
            "34/34 [==============================] - 0s 2ms/step - loss: 3725.6673 - mae: 3725.6673\n",
            "Epoch 166/200\n",
            "34/34 [==============================] - 0s 1ms/step - loss: 3876.2256 - mae: 3876.2256\n",
            "Epoch 167/200\n",
            "34/34 [==============================] - 0s 2ms/step - loss: 4018.4553 - mae: 4018.4553\n",
            "Epoch 168/200\n",
            "34/34 [==============================] - 0s 1ms/step - loss: 3753.0694 - mae: 3753.0694\n",
            "Epoch 169/200\n",
            "34/34 [==============================] - 0s 1ms/step - loss: 3595.9371 - mae: 3595.9371\n",
            "Epoch 170/200\n",
            "34/34 [==============================] - 0s 2ms/step - loss: 3880.9855 - mae: 3880.9855\n",
            "Epoch 171/200\n",
            "34/34 [==============================] - 0s 2ms/step - loss: 3589.4530 - mae: 3589.4530\n",
            "Epoch 172/200\n",
            "34/34 [==============================] - 0s 1ms/step - loss: 3789.1782 - mae: 3789.1782\n",
            "Epoch 173/200\n",
            "34/34 [==============================] - 0s 1ms/step - loss: 3821.4176 - mae: 3821.4176\n",
            "Epoch 174/200\n",
            "34/34 [==============================] - 0s 1ms/step - loss: 3759.3669 - mae: 3759.3669\n",
            "Epoch 175/200\n",
            "34/34 [==============================] - 0s 1ms/step - loss: 3876.6620 - mae: 3876.6620\n",
            "Epoch 176/200\n",
            "34/34 [==============================] - 0s 2ms/step - loss: 3795.9221 - mae: 3795.9221\n",
            "Epoch 177/200\n",
            "34/34 [==============================] - 0s 1ms/step - loss: 3769.8004 - mae: 3769.8004\n",
            "Epoch 178/200\n",
            "34/34 [==============================] - 0s 2ms/step - loss: 3564.1352 - mae: 3564.1352\n",
            "Epoch 179/200\n",
            "34/34 [==============================] - 0s 2ms/step - loss: 3469.2083 - mae: 3469.2083\n",
            "Epoch 180/200\n",
            "34/34 [==============================] - 0s 2ms/step - loss: 4112.5286 - mae: 4112.5286\n",
            "Epoch 181/200\n",
            "34/34 [==============================] - 0s 1ms/step - loss: 3853.0810 - mae: 3853.0810\n",
            "Epoch 182/200\n",
            "34/34 [==============================] - 0s 2ms/step - loss: 3778.7847 - mae: 3778.7847\n",
            "Epoch 183/200\n",
            "34/34 [==============================] - 0s 2ms/step - loss: 3475.8323 - mae: 3475.8323\n",
            "Epoch 184/200\n",
            "34/34 [==============================] - 0s 2ms/step - loss: 3624.6772 - mae: 3624.6772\n",
            "Epoch 185/200\n",
            "34/34 [==============================] - 0s 1ms/step - loss: 3491.7384 - mae: 3491.7384\n",
            "Epoch 186/200\n",
            "34/34 [==============================] - 0s 2ms/step - loss: 3825.6738 - mae: 3825.6738\n",
            "Epoch 187/200\n",
            "34/34 [==============================] - 0s 1ms/step - loss: 3890.7275 - mae: 3890.7275\n",
            "Epoch 188/200\n",
            "34/34 [==============================] - 0s 2ms/step - loss: 3917.8414 - mae: 3917.8414\n",
            "Epoch 189/200\n",
            "34/34 [==============================] - 0s 2ms/step - loss: 3450.1743 - mae: 3450.1743\n",
            "Epoch 190/200\n",
            "34/34 [==============================] - 0s 1ms/step - loss: 3790.2072 - mae: 3790.2072\n",
            "Epoch 191/200\n",
            "34/34 [==============================] - 0s 1ms/step - loss: 3901.4243 - mae: 3901.4243\n",
            "Epoch 192/200\n",
            "34/34 [==============================] - 0s 1ms/step - loss: 3675.6297 - mae: 3675.6297\n",
            "Epoch 193/200\n",
            "34/34 [==============================] - 0s 1ms/step - loss: 3766.1259 - mae: 3766.1259\n",
            "Epoch 194/200\n",
            "34/34 [==============================] - 0s 2ms/step - loss: 3870.9854 - mae: 3870.9854\n",
            "Epoch 195/200\n",
            "34/34 [==============================] - 0s 2ms/step - loss: 3423.5101 - mae: 3423.5101\n",
            "Epoch 196/200\n",
            "34/34 [==============================] - 0s 2ms/step - loss: 3567.1774 - mae: 3567.1774\n",
            "Epoch 197/200\n",
            "34/34 [==============================] - 0s 1ms/step - loss: 3951.1267 - mae: 3951.1267\n",
            "Epoch 198/200\n",
            "34/34 [==============================] - 0s 2ms/step - loss: 3620.5315 - mae: 3620.5315\n",
            "Epoch 199/200\n",
            "34/34 [==============================] - 0s 1ms/step - loss: 3630.1026 - mae: 3630.1026\n",
            "Epoch 200/200\n",
            "34/34 [==============================] - 0s 2ms/step - loss: 3812.3689 - mae: 3812.3689\n"
          ],
          "name": "stdout"
        }
      ]
    },
    {
      "cell_type": "code",
      "metadata": {
        "colab": {
          "base_uri": "https://localhost:8080/"
        },
        "id": "DX918PcL-n8s",
        "outputId": "826d9a27-b7b1-479d-85cf-f3918a3337d1"
      },
      "source": [
        "# Evaluate our third model\n",
        "insurance_model_3.evaluate(X_test, y_test)"
      ],
      "execution_count": 83,
      "outputs": [
        {
          "output_type": "stream",
          "text": [
            "9/9 [==============================] - 0s 2ms/step - loss: 3488.7854 - mae: 3488.7856\n"
          ],
          "name": "stdout"
        },
        {
          "output_type": "execute_result",
          "data": {
            "text/plain": [
              "[3488.785400390625, 3488.78564453125]"
            ]
          },
          "metadata": {
            "tags": []
          },
          "execution_count": 83
        }
      ]
    },
    {
      "cell_type": "code",
      "metadata": {
        "colab": {
          "base_uri": "https://localhost:8080/"
        },
        "id": "ImGrhOUu-w8J",
        "outputId": "61317300-e3ae-4416-84b7-bc6e50175813"
      },
      "source": [
        "insurance_model.evaluate(X_test, y_test)"
      ],
      "execution_count": 84,
      "outputs": [
        {
          "output_type": "stream",
          "text": [
            "9/9 [==============================] - 0s 1ms/step - loss: 7023.3296 - mae: 7023.3296\n"
          ],
          "name": "stdout"
        },
        {
          "output_type": "execute_result",
          "data": {
            "text/plain": [
              "[7023.32958984375, 7023.32958984375]"
            ]
          },
          "metadata": {
            "tags": []
          },
          "execution_count": 84
        }
      ]
    },
    {
      "cell_type": "code",
      "metadata": {
        "colab": {
          "base_uri": "https://localhost:8080/",
          "height": 296
        },
        "id": "5obI_2qh-3Yl",
        "outputId": "d329ff59-5211-4b30-e70c-cb3709126e10"
      },
      "source": [
        "# Plot history (also known as a loss curve or a training curve)\n",
        "pd.DataFrame(history.history).plot()\n",
        "plt.ylabel(\"loss\")\n",
        "plt.xlabel(\"epochs\")"
      ],
      "execution_count": 85,
      "outputs": [
        {
          "output_type": "execute_result",
          "data": {
            "text/plain": [
              "Text(0.5, 0, 'epochs')"
            ]
          },
          "metadata": {
            "tags": []
          },
          "execution_count": 85
        },
        {
          "output_type": "display_data",
          "data": {
            "image/png": "[encoded data removed]",
            "text/plain": [
              "<Figure size 432x288 with 1 Axes>"
            ]
          },
          "metadata": {
            "tags": [],
            "needs_background": "light"
          }
        }
      ]
    },
    {
      "cell_type": "markdown",
      "metadata": {
        "id": "ifIrgZbp_JBA"
      },
      "source": [
        "> 🤔 **Question:** How long should you train for?\n",
        "\n",
        "It depends. Really... it depends on the problem you're working on. However, many people have asked this question before... so TensorFlow has a solution! It's called the [EarlyStopping Callback](https://www.tensorflow.org/api_docs/python/tf/keras/callbacks/EarlyStopping), which is a TensorFlow component you can add to your model to stop training once it stops improving a certain metric."
      ]
    },
    {
      "cell_type": "markdown",
      "metadata": {
        "id": "19mmj6JTACaR"
      },
      "source": [
        "## Preprocessing data (normalization and standardization)\n",
        "\n",
        "In terms of scaling values, neural networks tend to prefer normalization.\n",
        "\n",
        "If you're not sure on which to use, you could try both and see which performs better."
      ]
    },
    {
      "cell_type": "code",
      "metadata": {
        "colab": {
          "base_uri": "https://localhost:8080/",
          "height": 402
        },
        "id": "A9EZSNF_3MaY",
        "outputId": "3da8d8b2-c0a2-4be4-b7c0-dbde7b42f09c"
      },
      "source": [
        "import pandas as pd\n",
        "import matplotlib.pyplot as plt\n",
        "import tensorflow as tf\n",
        "\n",
        "# Read in the insurance dataframe\n",
        "insurance = pd.read_csv(\"https://raw.githubusercontent.com/stedy/Machine-Learning-with-R-datasets/master/insurance.csv\")\n",
        "insurance"
      ],
      "execution_count": 86,
      "outputs": [
        {
          "output_type": "execute_result",
          "data": {
            "text/html": [
              "<div>\n",
              "<style scoped>\n",
              "    .dataframe tbody tr th:only-of-type {\n",
              "        vertical-align: middle;\n",
              "    }\n",
              "\n",
              "    .dataframe tbody tr th {\n",
              "        vertical-align: top;\n",
              "    }\n",
              "\n",
              "    .dataframe thead th {\n",
              "        text-align: right;\n",
              "    }\n",
              "</style>\n",
              "<table border=\"1\" class=\"dataframe\">\n",
              "  <thead>\n",
              "    <tr style=\"text-align: right;\">\n",
              "      <th></th>\n",
              "      <th>age</th>\n",
              "      <th>sex</th>\n",
              "      <th>bmi</th>\n",
              "      <th>children</th>\n",
              "      <th>smoker</th>\n",
              "      <th>region</th>\n",
              "      <th>charges</th>\n",
              "    </tr>\n",
              "  </thead>\n",
              "  <tbody>\n",
              "    <tr>\n",
              "      <th>0</th>\n",
              "      <td>19</td>\n",
              "      <td>female</td>\n",
              "      <td>27.900</td>\n",
              "      <td>0</td>\n",
              "      <td>yes</td>\n",
              "      <td>southwest</td>\n",
              "      <td>16884.92400</td>\n",
              "    </tr>\n",
              "    <tr>\n",
              "      <th>1</th>\n",
              "      <td>18</td>\n",
              "      <td>male</td>\n",
              "      <td>33.770</td>\n",
              "      <td>1</td>\n",
              "      <td>no</td>\n",
              "      <td>southeast</td>\n",
              "      <td>1725.55230</td>\n",
              "    </tr>\n",
              "    <tr>\n",
              "      <th>2</th>\n",
              "      <td>28</td>\n",
              "      <td>male</td>\n",
              "      <td>33.000</td>\n",
              "      <td>3</td>\n",
              "      <td>no</td>\n",
              "      <td>southeast</td>\n",
              "      <td>4449.46200</td>\n",
              "    </tr>\n",
              "    <tr>\n",
              "      <th>3</th>\n",
              "      <td>33</td>\n",
              "      <td>male</td>\n",
              "      <td>22.705</td>\n",
              "      <td>0</td>\n",
              "      <td>no</td>\n",
              "      <td>northwest</td>\n",
              "      <td>21984.47061</td>\n",
              "    </tr>\n",
              "    <tr>\n",
              "      <th>4</th>\n",
              "      <td>32</td>\n",
              "      <td>male</td>\n",
              "      <td>28.880</td>\n",
              "      <td>0</td>\n",
              "      <td>no</td>\n",
              "      <td>northwest</td>\n",
              "      <td>3866.85520</td>\n",
              "    </tr>\n",
              "    <tr>\n",
              "      <th>...</th>\n",
              "      <td>...</td>\n",
              "      <td>...</td>\n",
              "      <td>...</td>\n",
              "      <td>...</td>\n",
              "      <td>...</td>\n",
              "      <td>...</td>\n",
              "      <td>...</td>\n",
              "    </tr>\n",
              "    <tr>\n",
              "      <th>1333</th>\n",
              "      <td>50</td>\n",
              "      <td>male</td>\n",
              "      <td>30.970</td>\n",
              "      <td>3</td>\n",
              "      <td>no</td>\n",
              "      <td>northwest</td>\n",
              "      <td>10600.54830</td>\n",
              "    </tr>\n",
              "    <tr>\n",
              "      <th>1334</th>\n",
              "      <td>18</td>\n",
              "      <td>female</td>\n",
              "      <td>31.920</td>\n",
              "      <td>0</td>\n",
              "      <td>no</td>\n",
              "      <td>northeast</td>\n",
              "      <td>2205.98080</td>\n",
              "    </tr>\n",
              "    <tr>\n",
              "      <th>1335</th>\n",
              "      <td>18</td>\n",
              "      <td>female</td>\n",
              "      <td>36.850</td>\n",
              "      <td>0</td>\n",
              "      <td>no</td>\n",
              "      <td>southeast</td>\n",
              "      <td>1629.83350</td>\n",
              "    </tr>\n",
              "    <tr>\n",
              "      <th>1336</th>\n",
              "      <td>21</td>\n",
              "      <td>female</td>\n",
              "      <td>25.800</td>\n",
              "      <td>0</td>\n",
              "      <td>no</td>\n",
              "      <td>southwest</td>\n",
              "      <td>2007.94500</td>\n",
              "    </tr>\n",
              "    <tr>\n",
              "      <th>1337</th>\n",
              "      <td>61</td>\n",
              "      <td>female</td>\n",
              "      <td>29.070</td>\n",
              "      <td>0</td>\n",
              "      <td>yes</td>\n",
              "      <td>northwest</td>\n",
              "      <td>29141.36030</td>\n",
              "    </tr>\n",
              "  </tbody>\n",
              "</table>\n",
              "<p>1338 rows × 7 columns</p>\n",
              "</div>"
            ],
            "text/plain": [
              "      age     sex     bmi  children smoker     region      charges\n",
              "0      19  female  27.900         0    yes  southwest  16884.92400\n",
              "1      18    male  33.770         1     no  southeast   1725.55230\n",
              "2      28    male  33.000         3     no  southeast   4449.46200\n",
              "3      33    male  22.705         0     no  northwest  21984.47061\n",
              "4      32    male  28.880         0     no  northwest   3866.85520\n",
              "...   ...     ...     ...       ...    ...        ...          ...\n",
              "1333   50    male  30.970         3     no  northwest  10600.54830\n",
              "1334   18  female  31.920         0     no  northeast   2205.98080\n",
              "1335   18  female  36.850         0     no  southeast   1629.83350\n",
              "1336   21  female  25.800         0     no  southwest   2007.94500\n",
              "1337   61  female  29.070         0    yes  northwest  29141.36030\n",
              "\n",
              "[1338 rows x 7 columns]"
            ]
          },
          "metadata": {
            "tags": []
          },
          "execution_count": 86
        }
      ]
    },
    {
      "cell_type": "markdown",
      "metadata": {
        "id": "x8VN6GfP4Dsn"
      },
      "source": [
        "To prepare our data, we can borrow a few classes from Scikit-Learn."
      ]
    },
    {
      "cell_type": "code",
      "metadata": {
        "id": "XR8i1bHZAV6o"
      },
      "source": [
        "from sklearn.compose import make_column_transformer\n",
        "from sklearn.preprocessing import MinMaxScaler, OneHotEncoder \n",
        "from sklearn.model_selection import train_test_split\n",
        "\n",
        "# Create a column transformer\n",
        "ct = make_column_transformer(\n",
        "    (MinMaxScaler(), [\"age\", \"bmi\", \"children\"]), # turn all values in these columns between 0 and 1 \n",
        "    (OneHotEncoder(handle_unknown=\"ignore\"), [\"sex\", \"smoker\", \"region\"])\n",
        ")\n",
        "\n",
        "# Create X & y\n",
        "X = insurance.drop(\"charges\", axis=1)\n",
        "y = insurance[\"charges\"]\n",
        "\n",
        "# Build our train and test sets\n",
        "X_train, X_test, y_train, y_test = train_test_split(X, y, test_size=0.2, random_state=42)\n",
        "\n",
        "# Fit the column transformer to our training data\n",
        "ct.fit(X_train)\n",
        "\n",
        "# Transform training and test data with normalization (MinMaxScaler) and OneHotEncoder\n",
        "X_train_normal = ct.transform(X_train)\n",
        "X_test_normal = ct.transform(X_test)"
      ],
      "execution_count": 87,
      "outputs": []
    },
    {
      "cell_type": "code",
      "metadata": {
        "colab": {
          "base_uri": "https://localhost:8080/"
        },
        "id": "IGD73N7651a3",
        "outputId": "66b1dd80-023e-4063-9fe6-564bd526a00b"
      },
      "source": [
        "# What does our data look like now?\n",
        "X_train.loc[0]"
      ],
      "execution_count": 88,
      "outputs": [
        {
          "output_type": "execute_result",
          "data": {
            "text/plain": [
              "age                19\n",
              "sex            female\n",
              "bmi              27.9\n",
              "children            0\n",
              "smoker            yes\n",
              "region      southwest\n",
              "Name: 0, dtype: object"
            ]
          },
          "metadata": {
            "tags": []
          },
          "execution_count": 88
        }
      ]
    },
    {
      "cell_type": "code",
      "metadata": {
        "colab": {
          "base_uri": "https://localhost:8080/"
        },
        "id": "SQsT3lTJ55qS",
        "outputId": "52080d2f-d0a9-4889-8814-2e37067eb3ba"
      },
      "source": [
        "X_train_normal[0]"
      ],
      "execution_count": 89,
      "outputs": [
        {
          "output_type": "execute_result",
          "data": {
            "text/plain": [
              "array([0.60869565, 0.10734463, 0.4       , 1.        , 0.        ,\n",
              "       1.        , 0.        , 0.        , 1.        , 0.        ,\n",
              "       0.        ])"
            ]
          },
          "metadata": {
            "tags": []
          },
          "execution_count": 89
        }
      ]
    },
    {
      "cell_type": "code",
      "metadata": {
        "colab": {
          "base_uri": "https://localhost:8080/"
        },
        "id": "_tiE2Dj86M6g",
        "outputId": "97987c42-72b7-4cc5-b2d2-37dc69df9c03"
      },
      "source": [
        "X_train.shape, X_train_normal.shape"
      ],
      "execution_count": null,
      "outputs": [
        {
          "output_type": "execute_result",
          "data": {
            "text/plain": [
              "((1070, 6), (1070, 11))"
            ]
          },
          "metadata": {
            "tags": []
          },
          "execution_count": 114
        }
      ]
    },
    {
      "cell_type": "markdown",
      "metadata": {
        "id": "g7o1A7kL6Yrm"
      },
      "source": [
        "Beautiful! Our data has been normalized and one hot encoded. Now let's build a neural network model on it and see how it goes."
      ]
    },
    {
      "cell_type": "code",
      "metadata": {
        "colab": {
          "base_uri": "https://localhost:8080/"
        },
        "id": "KDF9TU0_6W2r",
        "outputId": "68c4965f-d307-4461-94cd-866977c86fe2"
      },
      "source": [
        "# Build a neural network model to fit on our normalized data\n",
        "tf.random.set_seed(42)\n",
        "\n",
        "# 1. Create the model\n",
        "insurance_model_4 = tf.keras.Sequential([\n",
        "  tf.keras.layers.Dense(100),\n",
        "  tf.keras.layers.Dense(10),\n",
        "  tf.keras.layers.Dense(1)                                        \n",
        "])\n",
        "\n",
        "# 2. Compile the model\n",
        "insurance_model_4.compile(loss=tf.keras.losses.mae,\n",
        "                          optimizer=tf.keras.optimizers.Adam(),\n",
        "                          metrics=[\"mae\"])\n",
        "\n",
        "# 3. Fit the model\n",
        "insurance_model_4.fit(X_train_normal, y_train, epochs=100)"
      ],
      "execution_count": 90,
      "outputs": [
        {
          "output_type": "stream",
          "text": [
            "Epoch 1/100\n",
            "34/34 [==============================] - 0s 1ms/step - loss: 13296.4671 - mae: 13296.4671\n",
            "Epoch 2/100\n",
            "34/34 [==============================] - 0s 1ms/step - loss: 12948.4245 - mae: 12948.4245\n",
            "Epoch 3/100\n",
            "34/34 [==============================] - 0s 1ms/step - loss: 12705.2201 - mae: 12705.2201\n",
            "Epoch 4/100\n",
            "34/34 [==============================] - 0s 2ms/step - loss: 13369.7395 - mae: 13369.7395\n",
            "Epoch 5/100\n",
            "34/34 [==============================] - 0s 1ms/step - loss: 13230.8567 - mae: 13230.8567\n",
            "Epoch 6/100\n",
            "34/34 [==============================] - 0s 1ms/step - loss: 12995.1999 - mae: 12995.1999\n",
            "Epoch 7/100\n",
            "34/34 [==============================] - 0s 1ms/step - loss: 12876.1059 - mae: 12876.1059\n",
            "Epoch 8/100\n",
            "34/34 [==============================] - 0s 1ms/step - loss: 13004.0395 - mae: 13004.0395\n",
            "Epoch 9/100\n",
            "34/34 [==============================] - 0s 2ms/step - loss: 12508.0465 - mae: 12508.0465\n",
            "Epoch 10/100\n",
            "34/34 [==============================] - 0s 1ms/step - loss: 12304.9941 - mae: 12304.9941\n",
            "Epoch 11/100\n",
            "34/34 [==============================] - 0s 2ms/step - loss: 12190.6080 - mae: 12190.6080\n",
            "Epoch 12/100\n",
            "34/34 [==============================] - 0s 2ms/step - loss: 10948.1234 - mae: 10948.1234\n",
            "Epoch 13/100\n",
            "34/34 [==============================] - 0s 1ms/step - loss: 11033.2710 - mae: 11033.2710\n",
            "Epoch 14/100\n",
            "34/34 [==============================] - 0s 1ms/step - loss: 10209.3786 - mae: 10209.3786\n",
            "Epoch 15/100\n",
            "34/34 [==============================] - 0s 1ms/step - loss: 9943.5373 - mae: 9943.5373\n",
            "Epoch 16/100\n",
            "34/34 [==============================] - 0s 1ms/step - loss: 9393.3773 - mae: 9393.3773\n",
            "Epoch 17/100\n",
            "34/34 [==============================] - 0s 1ms/step - loss: 8554.0272 - mae: 8554.0272\n",
            "Epoch 18/100\n",
            "34/34 [==============================] - 0s 2ms/step - loss: 8463.0882 - mae: 8463.0882\n",
            "Epoch 19/100\n",
            "34/34 [==============================] - 0s 1ms/step - loss: 8238.9920 - mae: 8238.9920\n",
            "Epoch 20/100\n",
            "34/34 [==============================] - 0s 1ms/step - loss: 7992.1423 - mae: 7992.1423\n",
            "Epoch 21/100\n",
            "34/34 [==============================] - 0s 1ms/step - loss: 7246.4886 - mae: 7246.4886\n",
            "Epoch 22/100\n",
            "34/34 [==============================] - 0s 2ms/step - loss: 7520.6745 - mae: 7520.6745\n",
            "Epoch 23/100\n",
            "34/34 [==============================] - 0s 1ms/step - loss: 7862.2003 - mae: 7862.2003\n",
            "Epoch 24/100\n",
            "34/34 [==============================] - 0s 2ms/step - loss: 7617.0075 - mae: 7617.0075\n",
            "Epoch 25/100\n",
            "34/34 [==============================] - 0s 2ms/step - loss: 8118.1866 - mae: 8118.1866\n",
            "Epoch 26/100\n",
            "34/34 [==============================] - 0s 1ms/step - loss: 7381.5776 - mae: 7381.5776\n",
            "Epoch 27/100\n",
            "34/34 [==============================] - 0s 2ms/step - loss: 7759.2990 - mae: 7759.2990\n",
            "Epoch 28/100\n",
            "34/34 [==============================] - 0s 1ms/step - loss: 7961.3147 - mae: 7961.3147\n",
            "Epoch 29/100\n",
            "34/34 [==============================] - 0s 1ms/step - loss: 7357.1594 - mae: 7357.1594\n",
            "Epoch 30/100\n",
            "34/34 [==============================] - 0s 2ms/step - loss: 7670.5822 - mae: 7670.5822\n",
            "Epoch 31/100\n",
            "34/34 [==============================] - 0s 1ms/step - loss: 7833.2163 - mae: 7833.2163\n",
            "Epoch 32/100\n",
            "34/34 [==============================] - 0s 1ms/step - loss: 7408.4352 - mae: 7408.4352\n",
            "Epoch 33/100\n",
            "34/34 [==============================] - 0s 1ms/step - loss: 7603.6621 - mae: 7603.6621\n",
            "Epoch 34/100\n",
            "34/34 [==============================] - 0s 1ms/step - loss: 7385.2735 - mae: 7385.2735\n",
            "Epoch 35/100\n",
            "34/34 [==============================] - 0s 1ms/step - loss: 7340.4551 - mae: 7340.4551\n",
            "Epoch 36/100\n",
            "34/34 [==============================] - 0s 1ms/step - loss: 7276.7011 - mae: 7276.7011\n",
            "Epoch 37/100\n",
            "34/34 [==============================] - 0s 1ms/step - loss: 7342.1807 - mae: 7342.1807\n",
            "Epoch 38/100\n",
            "34/34 [==============================] - 0s 1ms/step - loss: 6918.2723 - mae: 6918.2723\n",
            "Epoch 39/100\n",
            "34/34 [==============================] - 0s 1ms/step - loss: 7252.1239 - mae: 7252.1239\n",
            "Epoch 40/100\n",
            "34/34 [==============================] - 0s 2ms/step - loss: 7029.9498 - mae: 7029.9498\n",
            "Epoch 41/100\n",
            "34/34 [==============================] - 0s 2ms/step - loss: 6984.8117 - mae: 6984.8117\n",
            "Epoch 42/100\n",
            "34/34 [==============================] - 0s 2ms/step - loss: 6884.6927 - mae: 6884.6927\n",
            "Epoch 43/100\n",
            "34/34 [==============================] - 0s 2ms/step - loss: 6755.5831 - mae: 6755.5831\n",
            "Epoch 44/100\n",
            "34/34 [==============================] - 0s 1ms/step - loss: 6608.4541 - mae: 6608.4541\n",
            "Epoch 45/100\n",
            "34/34 [==============================] - 0s 1ms/step - loss: 6537.6250 - mae: 6537.6250\n",
            "Epoch 46/100\n",
            "34/34 [==============================] - 0s 1ms/step - loss: 6454.2749 - mae: 6454.2749\n",
            "Epoch 47/100\n",
            "34/34 [==============================] - 0s 1ms/step - loss: 6729.0266 - mae: 6729.0266\n",
            "Epoch 48/100\n",
            "34/34 [==============================] - 0s 1ms/step - loss: 6517.0466 - mae: 6517.0466\n",
            "Epoch 49/100\n",
            "34/34 [==============================] - 0s 1ms/step - loss: 6209.9379 - mae: 6209.9379\n",
            "Epoch 50/100\n",
            "34/34 [==============================] - 0s 1ms/step - loss: 6433.2527 - mae: 6433.2527\n",
            "Epoch 51/100\n",
            "34/34 [==============================] - 0s 1ms/step - loss: 6253.4749 - mae: 6253.4749\n",
            "Epoch 52/100\n",
            "34/34 [==============================] - 0s 1ms/step - loss: 6122.7598 - mae: 6122.7598\n",
            "Epoch 53/100\n",
            "34/34 [==============================] - 0s 1ms/step - loss: 5797.8438 - mae: 5797.8438\n",
            "Epoch 54/100\n",
            "34/34 [==============================] - 0s 2ms/step - loss: 6036.6884 - mae: 6036.6884\n",
            "Epoch 55/100\n",
            "34/34 [==============================] - 0s 1ms/step - loss: 5688.6432 - mae: 5688.6432\n",
            "Epoch 56/100\n",
            "34/34 [==============================] - 0s 1ms/step - loss: 5664.2595 - mae: 5664.2595\n",
            "Epoch 57/100\n",
            "34/34 [==============================] - 0s 2ms/step - loss: 5857.4062 - mae: 5857.4062\n",
            "Epoch 58/100\n",
            "34/34 [==============================] - 0s 2ms/step - loss: 5509.3850 - mae: 5509.3850\n",
            "Epoch 59/100\n",
            "34/34 [==============================] - 0s 1ms/step - loss: 5316.6016 - mae: 5316.6016\n",
            "Epoch 60/100\n",
            "34/34 [==============================] - 0s 2ms/step - loss: 5322.8675 - mae: 5322.8675\n",
            "Epoch 61/100\n",
            "34/34 [==============================] - 0s 1ms/step - loss: 5458.1975 - mae: 5458.1975\n",
            "Epoch 62/100\n",
            "34/34 [==============================] - 0s 1ms/step - loss: 5230.6233 - mae: 5230.6233\n",
            "Epoch 63/100\n",
            "34/34 [==============================] - 0s 2ms/step - loss: 5084.5995 - mae: 5084.5995\n",
            "Epoch 64/100\n",
            "34/34 [==============================] - 0s 1ms/step - loss: 4677.8217 - mae: 4677.8217\n",
            "Epoch 65/100\n",
            "34/34 [==============================] - 0s 1ms/step - loss: 4707.1107 - mae: 4707.1107\n",
            "Epoch 66/100\n",
            "34/34 [==============================] - 0s 1ms/step - loss: 4361.7456 - mae: 4361.7456\n",
            "Epoch 67/100\n",
            "34/34 [==============================] - 0s 1ms/step - loss: 4333.7880 - mae: 4333.7880\n",
            "Epoch 68/100\n",
            "34/34 [==============================] - 0s 1ms/step - loss: 4294.6888 - mae: 4294.6888\n",
            "Epoch 69/100\n",
            "34/34 [==============================] - 0s 2ms/step - loss: 4365.7154 - mae: 4365.7154\n",
            "Epoch 70/100\n",
            "34/34 [==============================] - 0s 1ms/step - loss: 3931.4922 - mae: 3931.4922\n",
            "Epoch 71/100\n",
            "34/34 [==============================] - 0s 1ms/step - loss: 4040.8877 - mae: 4040.8877\n",
            "Epoch 72/100\n",
            "34/34 [==============================] - 0s 1ms/step - loss: 3725.7780 - mae: 3725.7780\n",
            "Epoch 73/100\n",
            "34/34 [==============================] - 0s 1ms/step - loss: 4041.0183 - mae: 4041.0183\n",
            "Epoch 74/100\n",
            "34/34 [==============================] - 0s 2ms/step - loss: 3849.4077 - mae: 3849.4077\n",
            "Epoch 75/100\n",
            "34/34 [==============================] - 0s 2ms/step - loss: 4063.8180 - mae: 4063.8180\n",
            "Epoch 76/100\n",
            "34/34 [==============================] - 0s 2ms/step - loss: 3594.6085 - mae: 3594.6085\n",
            "Epoch 77/100\n",
            "34/34 [==============================] - 0s 1ms/step - loss: 3877.1157 - mae: 3877.1157\n",
            "Epoch 78/100\n",
            "34/34 [==============================] - 0s 1ms/step - loss: 3571.6357 - mae: 3571.6357\n",
            "Epoch 79/100\n",
            "34/34 [==============================] - 0s 2ms/step - loss: 3272.2002 - mae: 3272.2002\n",
            "Epoch 80/100\n",
            "34/34 [==============================] - 0s 1ms/step - loss: 3333.3793 - mae: 3333.3793\n",
            "Epoch 81/100\n",
            "34/34 [==============================] - 0s 1ms/step - loss: 3560.1417 - mae: 3560.1417\n",
            "Epoch 82/100\n",
            "34/34 [==============================] - 0s 1ms/step - loss: 4082.1635 - mae: 4082.1635\n",
            "Epoch 83/100\n",
            "34/34 [==============================] - 0s 1ms/step - loss: 3690.6047 - mae: 3690.6047\n",
            "Epoch 84/100\n",
            "34/34 [==============================] - 0s 1ms/step - loss: 3491.1416 - mae: 3491.1416\n",
            "Epoch 85/100\n",
            "34/34 [==============================] - 0s 2ms/step - loss: 3196.7646 - mae: 3196.7646\n",
            "Epoch 86/100\n",
            "34/34 [==============================] - 0s 1ms/step - loss: 3696.4113 - mae: 3696.4113\n",
            "Epoch 87/100\n",
            "34/34 [==============================] - 0s 1ms/step - loss: 3584.8876 - mae: 3584.8876\n",
            "Epoch 88/100\n",
            "34/34 [==============================] - 0s 1ms/step - loss: 3717.8066 - mae: 3717.8066\n",
            "Epoch 89/100\n",
            "34/34 [==============================] - 0s 1ms/step - loss: 3437.4365 - mae: 3437.4365\n",
            "Epoch 90/100\n",
            "34/34 [==============================] - 0s 1ms/step - loss: 3799.4694 - mae: 3799.4694\n",
            "Epoch 91/100\n",
            "34/34 [==============================] - 0s 2ms/step - loss: 3660.1355 - mae: 3660.1355\n",
            "Epoch 92/100\n",
            "34/34 [==============================] - 0s 1ms/step - loss: 3743.4219 - mae: 3743.4219\n",
            "Epoch 93/100\n",
            "34/34 [==============================] - 0s 1ms/step - loss: 3536.3569 - mae: 3536.3569\n",
            "Epoch 94/100\n",
            "34/34 [==============================] - 0s 2ms/step - loss: 3439.5847 - mae: 3439.5847\n",
            "Epoch 95/100\n",
            "34/34 [==============================] - 0s 2ms/step - loss: 3570.7318 - mae: 3570.7318\n",
            "Epoch 96/100\n",
            "34/34 [==============================] - 0s 2ms/step - loss: 3734.5115 - mae: 3734.5115\n",
            "Epoch 97/100\n",
            "34/34 [==============================] - 0s 1ms/step - loss: 3444.5728 - mae: 3444.5728\n",
            "Epoch 98/100\n",
            "34/34 [==============================] - 0s 1ms/step - loss: 3465.0855 - mae: 3465.0855\n",
            "Epoch 99/100\n",
            "34/34 [==============================] - 0s 1ms/step - loss: 3225.0304 - mae: 3225.0304\n",
            "Epoch 100/100\n",
            "34/34 [==============================] - 0s 1ms/step - loss: 3421.0636 - mae: 3421.0636\n"
          ],
          "name": "stdout"
        },
        {
          "output_type": "execute_result",
          "data": {
            "text/plain": [
              "<tensorflow.python.keras.callbacks.History at 0x7fb052ec1c10>"
            ]
          },
          "metadata": {
            "tags": []
          },
          "execution_count": 90
        }
      ]
    },
    {
      "cell_type": "code",
      "metadata": {
        "colab": {
          "base_uri": "https://localhost:8080/"
        },
        "id": "wt84g6C790Y0",
        "outputId": "2d3f2b21-b200-4aab-8a5b-5d74654f67b2"
      },
      "source": [
        "# Evalaute our insurance model trained on normalized data\n",
        "insurance_model_4.evaluate(X_test_normal, y_test)"
      ],
      "execution_count": 91,
      "outputs": [
        {
          "output_type": "stream",
          "text": [
            "9/9 [==============================] - 0s 2ms/step - loss: 3438.7844 - mae: 3438.7844\n"
          ],
          "name": "stdout"
        },
        {
          "output_type": "execute_result",
          "data": {
            "text/plain": [
              "[3438.784423828125, 3438.784423828125]"
            ]
          },
          "metadata": {
            "tags": []
          },
          "execution_count": 91
        }
      ]
    },
    {
      "cell_type": "code",
      "metadata": {
        "id": "EDJuv8gB-IJ0"
      },
      "source": [
        "# Insurance model 2 results\n",
        "# 9/9 [==============================] - 0s 1ms/step - loss: 4924.3477 - mae: 4924.3477"
      ],
      "execution_count": 92,
      "outputs": []
    },
    {
      "cell_type": "markdown",
      "metadata": {
        "id": "dZZQN7Z5_N46"
      },
      "source": [
        "Our model (`insurance_model_4`) fit on normalized data achieved a ~30% better score compared to the same model (`insurnace_model_2`) fit on non-normalized data!"
      ]
    },
    {
      "cell_type": "code",
      "metadata": {
        "colab": {
          "base_uri": "https://localhost:8080/"
        },
        "id": "Ck80C5Im9Qo8",
        "outputId": "7d61c7b6-c3d5-4207-cc1f-5dbebd8f1067"
      },
      "source": [
        "insurance_model_2.summary()"
      ],
      "execution_count": 93,
      "outputs": [
        {
          "output_type": "stream",
          "text": [
            "Model: \"sequential_8\"\n",
            "_________________________________________________________________\n",
            "Layer (type)                 Output Shape              Param #   \n",
            "=================================================================\n",
            "dense_12 (Dense)             (None, 100)               1200      \n",
            "_________________________________________________________________\n",
            "dense_13 (Dense)             (None, 10)                1010      \n",
            "_________________________________________________________________\n",
            "dense_14 (Dense)             (None, 1)                 11        \n",
            "=================================================================\n",
            "Total params: 2,221\n",
            "Trainable params: 2,221\n",
            "Non-trainable params: 0\n",
            "_________________________________________________________________\n"
          ],
          "name": "stdout"
        }
      ]
    }
  ]
}